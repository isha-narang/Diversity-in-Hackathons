{
 "cells": [
  {
   "cell_type": "markdown",
   "id": "8d27fc8b",
   "metadata": {},
   "source": [
    "## Gender inference using different tools"
   ]
  },
  {
   "cell_type": "markdown",
   "id": "bd693e84",
   "metadata": {},
   "source": [
    "1) gender guesser library - yes\n",
    "2) genderize.io - yes \n",
    "3) gender API - not needed as of now\n",
    "4) genderComputer - not needed as of now\n",
    "5) NamSor - not needed as of now"
   ]
  },
  {
   "cell_type": "code",
   "execution_count": 1,
   "id": "99c0d94b",
   "metadata": {
    "ExecuteTime": {
     "end_time": "2024-05-01T16:14:34.994079Z",
     "start_time": "2024-05-01T16:14:31.160680Z"
    }
   },
   "outputs": [
    {
     "name": "stderr",
     "output_type": "stream",
     "text": [
      "/Users/Isha/anaconda3/lib/python3.10/site-packages/pandas/core/arrays/masked.py:60: UserWarning: Pandas requires version '1.3.6' or newer of 'bottleneck' (version '1.3.5' currently installed).\n",
      "  from pandas.core import (\n"
     ]
    },
    {
     "name": "stdout",
     "output_type": "stream",
     "text": [
      "Requirement already satisfied: gender-guesser in /Users/Isha/anaconda3/lib/python3.10/site-packages (0.4.0)\r\n"
     ]
    }
   ],
   "source": [
    "# importing libraries\n",
    "import pandas as pd\n",
    "import numpy as np\n",
    "import matplotlib.pyplot as plt\n",
    "from bs4 import BeautifulSoup\n",
    "import ast\n",
    "import re\n",
    "from collections import Counter\n",
    "!pip install gender-guesser\n",
    "import gender_guesser.detector as gender\n",
    "import requests\n",
    "from concurrent.futures import ThreadPoolExecutor\n",
    "# pip install git+https://github.com/namsor/namsor-python-sdk2.git"
   ]
  },
  {
   "cell_type": "code",
   "execution_count": 2,
   "id": "f4a00f82",
   "metadata": {
    "ExecuteTime": {
     "end_time": "2024-05-01T16:15:06.596846Z",
     "start_time": "2024-05-01T16:15:03.345931Z"
    }
   },
   "outputs": [
    {
     "name": "stderr",
     "output_type": "stream",
     "text": [
      "/var/folders/_f/7jgfw7qx5jn8xl64g_9px9g00000gp/T/ipykernel_71755/11719672.py:4: DtypeWarning: Columns (5) have mixed types. Specify dtype option on import or set low_memory=False.\n",
      "  participants = pd.read_csv('/Users/Isha/Desktop/TUe/Year 3/BEP/BEP_project/data/participants_modified.csv')\n"
     ]
    }
   ],
   "source": [
    "# Read CSV files from data folder and store in dataframes\n",
    "hackathons_webscraped = pd.read_csv('/Users/Isha/Desktop/TUe/Year 3/BEP/BEP_project/data/hackathons_webscraped.csv')\n",
    "hackathons = pd.read_csv('/Users/Isha/Desktop/TUe/Year 3/BEP/BEP_project/data/hackathons_modified.csv')\n",
    "participants = pd.read_csv('/Users/Isha/Desktop/TUe/Year 3/BEP/BEP_project/data/participants_modified.csv')\n",
    "participants_links = pd.read_csv('/Users/Isha/Desktop/TUe/Year 3/BEP/BEP_project/data/participants_links_modified.csv')\n",
    "projects = pd.read_csv('/Users/Isha/Desktop/TUe/Year 3/BEP/BEP_project/data/projects_modified.csv')\n",
    "participants_links_expanded = pd.read_csv('/Users/Isha/Desktop/TUe/Year 3/BEP/BEP_project/data/participants_links_expanded.csv')"
   ]
  },
  {
   "cell_type": "code",
   "execution_count": null,
   "id": "1fddfbeb",
   "metadata": {
    "ExecuteTime": {
     "end_time": "2024-05-01T16:15:08.252013Z",
     "start_time": "2024-05-01T16:15:08.248139Z"
    }
   },
   "outputs": [],
   "source": [
    "participants_links_expanded.columns\n",
    "# creating a new df with 'name' and 'cleaned_names' to process using the website itself\n",
    "cleaned_names_only_df = participants_links_expanded[['cleaned_names']].copy()\n",
    "cleaned_names_only_df.to_csv('cleaned_names_only.csv')"
   ]
  },
  {
   "cell_type": "markdown",
   "id": "e12ab742",
   "metadata": {},
   "source": [
    "### 1) gender guesser library"
   ]
  },
  {
   "cell_type": "code",
   "execution_count": null,
   "id": "5cd5f500",
   "metadata": {},
   "outputs": [],
   "source": [
    "# testing gender-guesser library\n",
    "detector = gender.Detector()\n",
    "\n",
    "# Example\n",
    "name = \"Alex\"\n",
    "gender = detector.get_gender(name)\n",
    "print(f\"The inferred gender for {name} is {gender}.\")"
   ]
  },
  {
   "cell_type": "code",
   "execution_count": null,
   "id": "5a903258",
   "metadata": {},
   "outputs": [],
   "source": [
    "# Ensure you've imported the gender_guesser.detector and created an instance of the Detector\n",
    "import gender_guesser.detector as gender\n",
    "detector = gender.Detector()\n",
    "\n",
    "# Function to apply the gender detector on each name\n",
    "def infer_gender_from_name(full_name):\n",
    "    # Assuming the first name is the first word in the 'name' column entry\n",
    "    first_name = full_name.split()[0] if pd.notnull(full_name) else ''\n",
    "    return detector.get_gender(first_name)\n",
    "\n",
    "# Applying the function to the 'name' column of your DataFrame\n",
    "participants_links_expanded['gender_guesser_lib'] = participants_links_expanded['cleaned_names'].apply(infer_gender_from_name)\n",
    "\n",
    "# Display the first few entries to verify\n",
    "participants_links_expanded[['cleaned_names', 'gender_guesser_lib']]"
   ]
  },
  {
   "cell_type": "code",
   "execution_count": null,
   "id": "825ba9be",
   "metadata": {},
   "outputs": [],
   "source": [
    "# Calculate the distribution of inferred genders\n",
    "gender_distribution = participants_links_expanded['gender_guesser_lib'].value_counts()\n",
    "\n",
    "# Display the distribution\n",
    "print(gender_distribution)"
   ]
  },
  {
   "cell_type": "markdown",
   "id": "1cd8c681",
   "metadata": {},
   "source": [
    "#### Performance improved after using cleaned names."
   ]
  },
  {
   "cell_type": "markdown",
   "id": "d995da03",
   "metadata": {},
   "source": [
    "### 2) genderize.io "
   ]
  },
  {
   "cell_type": "code",
   "execution_count": null,
   "id": "2c16eacf",
   "metadata": {
    "ExecuteTime": {
     "end_time": "2024-05-01T16:15:29.062303Z",
     "start_time": "2024-05-01T16:15:28.464979Z"
    }
   },
   "outputs": [],
   "source": [
    "import requests\n",
    "\n",
    "def get_gender(name):\n",
    "    url = \"https://api.genderize.io/\"\n",
    "    params = {'name': name, 'apikey': '3516fa3d13cfd6c6f05cc7005f275c08'}  # Replace with your actual API key\n",
    "    try:\n",
    "        response = requests.get(url, params=params)\n",
    "        response.raise_for_status()  # This will raise an HTTPError if the HTTP request returned an unsuccessful status code\n",
    "        return response.json()\n",
    "    except requests.exceptions.HTTPError as http_err:\n",
    "        print(f\"HTTP error occurred: {http_err}\")  # HTTP error\n",
    "    except Exception as err:\n",
    "        print(f\"An error occurred: {err}\")  # Other error\n",
    "    return \"Error: API request unsuccessful.\"\n",
    "\n",
    "# Example usage:\n",
    "name_to_genderize = \"Alex\"\n",
    "result = get_gender(name_to_genderize)\n",
    "print(result)"
   ]
  },
  {
   "cell_type": "code",
   "execution_count": null,
   "id": "35af5f93",
   "metadata": {
    "ExecuteTime": {
     "end_time": "2024-05-01T16:15:33.238801Z",
     "start_time": "2024-05-01T16:15:32.761552Z"
    }
   },
   "outputs": [],
   "source": [
    "# example 2:\n",
    "import requests\n",
    "\n",
    "def get_gender(name):\n",
    "    # Constructing the API URL\n",
    "    url = f\"https://api.genderize.io?name={name}\"\n",
    "\n",
    "    # Making the API request\n",
    "    response = requests.get(url)\n",
    "\n",
    "    # Check if the request was successful\n",
    "    if response.status_code == 200:\n",
    "        data = response.json()\n",
    "        # Extracting the gender and probability\n",
    "        gender = data.get('gender', 'Not found')\n",
    "        probability = data.get('probability', 0)\n",
    "        return gender, probability\n",
    "    else:\n",
    "        return \"Error\", \"Unable to fetch data\"\n",
    "\n",
    "# Example usage:\n",
    "name = \"Alice\"\n",
    "gender, probability = get_gender(name)\n",
    "print(f\"The predicted gender for {name} is {gender} with a probability of {probability}.\")\n"
   ]
  },
  {
   "cell_type": "code",
   "execution_count": null,
   "id": "4fbab38a",
   "metadata": {
    "ExecuteTime": {
     "end_time": "2024-05-01T16:16:26.814308Z",
     "start_time": "2024-05-01T16:16:22.130316Z"
    }
   },
   "outputs": [],
   "source": [
    "# Function to infer gender using genderize.io WITHOUT AN API KEY\n",
    "def infer_gender_genderize_io(full_name):\n",
    "    first_name = full_name.split()[0] if pd.notnull(full_name) else ''\n",
    "    try:\n",
    "        response = requests.get(\"https://api.genderize.io/\", params={\"name\": first_name})\n",
    "        response.raise_for_status()  # This will raise an exception for HTTP errors\n",
    "        gender_data = response.json()\n",
    "        return gender_data.get('gender', 'unknown')\n",
    "    except requests.exceptions.RequestException as e:\n",
    "        print(f\"Request to Genderize.io failed: {e}\")\n",
    "        return 'unknown'\n",
    "\n",
    "# Apply the gender inference function using genderize.io\n",
    "participants_links_expanded['inferred_gender_genderize_io'] = participants_links_expanded['cleaned_names'].apply(infer_gender_genderize_io)\n",
    "\n",
    "# Display the first few entries to verify\n",
    "participants_links_expanded[['cleaned_names', 'inferred_gender_genderize_io']]"
   ]
  },
  {
   "cell_type": "code",
   "execution_count": null,
   "id": "29aa4838",
   "metadata": {},
   "outputs": [],
   "source": [
    "participants_links_expanded.columns\n",
    "len(participants_links_expanded.index)\n",
    "print(participants_links_expanded.isna().sum())"
   ]
  },
  {
   "cell_type": "code",
   "execution_count": null,
   "id": "2460af6d",
   "metadata": {},
   "outputs": [],
   "source": [
    "## Using the API key and applying to first 100 rows to check performance\n",
    "\n",
    "import requests\n",
    "import pandas as pd\n",
    "\n",
    "def infer_gender_genderize_io(full_name, api_key):\n",
    "    first_name = full_name.split()[0] if pd.notnull(full_name) else ''\n",
    "    try:\n",
    "        response = requests.get(\"https://api.genderize.io/\", params={\"name\": first_name, \"apikey\": api_key})\n",
    "        response.raise_for_status()  # This will raise an exception for HTTP errors\n",
    "        gender_data = response.json()\n",
    "        return gender_data.get('gender', 'unknown')\n",
    "    except requests.exceptions.RequestException as e:\n",
    "        print(f\"Request to Genderize.io failed: {e}\")\n",
    "        return 'unknown'\n",
    "\n",
    "# Apply the function to all names\n",
    "\n",
    "api_key = '3516fa3d13cfd6c6f05cc7005f275c08'  # Replace this with your actual Genderize.io API key\n",
    "\n",
    "# Apply the gender inference function using genderize.io to all rows\n",
    "participants_links_expanded['inferred_gender_genderize_io'] = participants_links_expanded['cleaned_names'][:100].apply(lambda x: infer_gender_genderize_io(x, api_key))\n",
    "\n",
    "# Display the first few entries to verify\n",
    "print(participants_links_expanded[['cleaned_names', 'inferred_gender_genderize_io']])\n"
   ]
  },
  {
   "cell_type": "markdown",
   "id": "06530e50",
   "metadata": {},
   "source": [
    "#### Worked successfully on the first 100 rows, now need to apply this to the whole dataset"
   ]
  },
  {
   "cell_type": "code",
   "execution_count": null,
   "id": "e9cf4bce",
   "metadata": {},
   "outputs": [],
   "source": [
    "participants_links_expanded.columns"
   ]
  },
  {
   "cell_type": "code",
   "execution_count": null,
   "id": "0a425990",
   "metadata": {},
   "outputs": [],
   "source": [
    "## trying batch processing \n",
    "import requests\n",
    "import pandas as pd\n",
    "from concurrent.futures import ThreadPoolExecutor\n",
    "\n",
    "def batch_infer_gender(names, api_key):\n",
    "    # This function sends a batch of names to Genderize.io in a single API request.\n",
    "    url = \"https://api.genderize.io/\"\n",
    "    params = {'apikey': api_key}\n",
    "    params.update({f'name[{i}]': name for i, name in enumerate(names)})  # Proper batching\n",
    "    try:\n",
    "        response = requests.get(url, params=params)\n",
    "        response.raise_for_status()\n",
    "        return [res.get('gender', 'unknown') for res in response.json()]  # Process each response\n",
    "    except requests.exceptions.RequestException as e:\n",
    "        print(f\"Request failed: {e}\")\n",
    "        return ['unknown'] * len(names)  # Handle errors by returning 'unknown'\n",
    "\n",
    "def apply_gender_inference(df, api_key):\n",
    "    # Split names into chunks of 10\n",
    "    chunks = [df[i:i+10] for i in range(0, len(df), 10)]\n",
    "    results = []\n",
    "    \n",
    "    with ThreadPoolExecutor(max_workers=5) as executor:\n",
    "        futures = [executor.submit(batch_infer_gender, chunk, api_key) for chunk in chunks]\n",
    "        for future in futures:\n",
    "            results.extend(future.result())\n",
    "    \n",
    "    df['inferred_gender'] = results\n",
    "    return df\n",
    "\n",
    "# Sample the first 1000 entries for testing\n",
    "api_key = '3516fa3d13cfd6c6f05cc7005f275c08'\n",
    "sample_data = participants_links_expanded['cleaned_names'][:1000]  # Test on the first 1000 entries\n",
    "\n",
    "# Apply the gender inference\n",
    "genderized_results = apply_gender_inference(sample_data, api_key)\n",
    "print(genderized_results.head())\n"
   ]
  },
  {
   "cell_type": "code",
   "execution_count": null,
   "id": "4e33aa54",
   "metadata": {},
   "outputs": [],
   "source": [
    "print(type(genderized_results))"
   ]
  },
  {
   "cell_type": "code",
   "execution_count": null,
   "id": "6d208bfa",
   "metadata": {},
   "outputs": [],
   "source": [
    "# the one before worked for 1000 enteries but gave it as a series so we need to fix it and get it in a df\n",
    "\n",
    "from concurrent.futures import ThreadPoolExecutor\n",
    "def batch_infer_gender(names, api_key):\n",
    "    # This function sends a batch of names to Genderize.io in a single API request.\n",
    "    url = \"https://api.genderize.io/\"\n",
    "    params = {'apikey': api_key}\n",
    "    params.update({f'name[{i}]': name for i, name in enumerate(names)})  # Proper batching\n",
    "    try:\n",
    "        response = requests.get(url, params=params)\n",
    "        response.raise_for_status()\n",
    "        return [res.get('gender', 'unknown') for res in response.json()]  # Process each response\n",
    "    except requests.exceptions.RequestException as e:\n",
    "        print(f\"Request failed: {e}\")\n",
    "        return ['unknown'] * len(names)  # Handle errors by returning 'unknown'\n",
    "\n",
    "def apply_gender_inference(df, api_key):\n",
    "    # Split names into chunks of 10\n",
    "    chunks = [df[i:i+10] for i in range(0, len(df), 10)]\n",
    "    results = []\n",
    "    \n",
    "    with ThreadPoolExecutor(max_workers=5) as executor:\n",
    "        futures = [executor.submit(batch_infer_gender, chunk, api_key) for chunk in chunks]\n",
    "        for future in futures:\n",
    "            results.extend(future.result())\n",
    "    \n",
    "    df['inferred_gender'] = results\n",
    "    return df\n",
    "\n",
    "# Sample the first 1000 entries for testing\n",
    "api_key = '3516fa3d13cfd6c6f05cc7005f275c08'\n",
    "sample_data = participants_links_expanded['cleaned_names'][:100]  # Test on the first 1000 entries\n",
    "\n",
    "genderized_results = apply_gender_inference(sample_data, api_key)\n",
    "genderized_results = genderized_results.to_frame(name='inferred_gender_io')\n",
    "print(type(participants_links_expanded))  # Should be DataFrame\n",
    "print(type(participants_links_expanded['cleaned_names']))  # Should be Series\n",
    "print(type(genderized_results))  # Should be DataFrame after fix\n"
   ]
  },
  {
   "cell_type": "code",
   "execution_count": null,
   "id": "9a3c6108",
   "metadata": {},
   "outputs": [],
   "source": [
    "genderized_results"
   ]
  },
  {
   "cell_type": "code",
   "execution_count": null,
   "id": "55a7a302",
   "metadata": {},
   "outputs": [],
   "source": [
    "import requests\n",
    "import pandas as pd\n",
    "from concurrent.futures import ThreadPoolExecutor\n",
    "\n",
    "def batch_infer_gender(names, api_key):\n",
    "    # This function sends a batch of names to Genderize.io in a single API request.\n",
    "    url = \"https://api.genderize.io/\"\n",
    "    params = {'apikey': api_key}\n",
    "    params.update({f'name[{i}]': name for i, name in enumerate(names)})  # Proper batching\n",
    "    try:\n",
    "        response = requests.get(url, params=params)\n",
    "        response.raise_for_status()\n",
    "        return [res.get('gender', 'unknown') for res in response.json()]  # Process each response\n",
    "    except requests.exceptions.RequestException as e:\n",
    "        print(f\"Request failed: {e}\")\n",
    "        return ['unknown'] * len(names)  # Handle errors by returning 'unknown'\n",
    "\n",
    "def apply_gender_inference(df, column_name, api_key):\n",
    "    # Split names into chunks of 10\n",
    "    names = df[column_name].tolist()\n",
    "    chunks = [names[i:i+10] for i in range(0, len(names), 10)]\n",
    "    results = []\n",
    "    \n",
    "    with ThreadPoolExecutor(max_workers=5) as executor:\n",
    "        futures = [executor.submit(batch_infer_gender, chunk, api_key) for chunk in chunks]\n",
    "        for future in futures:\n",
    "            results.extend(future.result())\n",
    "    \n",
    "    return pd.DataFrame({column_name: df[column_name], 'inferred_gender_io': results})\n",
    "\n",
    "# Assuming participants_links_expanded is your main DataFrame\n",
    "api_key = '3516fa3d13cfd6c6f05cc7005f275c08'\n",
    "sample_data = participants_links_expanded  # Can sample the first 1000 entries for testing\n",
    "\n",
    "# Ensure you're passing the DataFrame and the name of the column holding the names\n",
    "genderized_results = apply_gender_inference(sample_data, 'cleaned_names', api_key)\n",
    "\n",
    "print(type(participants_links_expanded))  # Should be DataFrame\n",
    "print(type(participants_links_expanded['cleaned_names']))  # Should be Series\n",
    "print(type(genderized_results))  # Should now be DataFrame after the fix\n",
    "print(genderized_results.head())  # Display the first few rows to verify structure\n"
   ]
  },
  {
   "cell_type": "code",
   "execution_count": null,
   "id": "ea717f74",
   "metadata": {},
   "outputs": [],
   "source": [
    "genderized_results"
   ]
  },
  {
   "cell_type": "code",
   "execution_count": null,
   "id": "9b285e30",
   "metadata": {},
   "outputs": [],
   "source": [
    "# Merge the two DataFrames on the 'cleaned_names' column\n",
    "participants_links_expanded = pd.merge(participants_links_expanded, genderized_results, on='cleaned_names', how='left')\n",
    "participants_links_expanded.head()  # Check the first few rows to ensure the merge was successful"
   ]
  },
  {
   "cell_type": "code",
   "execution_count": null,
   "id": "be01552d",
   "metadata": {},
   "outputs": [],
   "source": [
    "#del participants_links_expanded['inferred_gender']\n",
    "del participants_links_expanded['inferred_gender_genderize_io']\n",
    "print(participants_links_expanded.isna().sum())\n",
    "participants_links_expanded.columns"
   ]
  },
  {
   "cell_type": "markdown",
   "id": "f9bec94f",
   "metadata": {},
   "source": [
    "Issues:\n",
    "1. cleaned_names has NAN values but names does not - need to fix or need to just use names column\n",
    "- when i created the file, there was no issue with cleaned names, it was all good, so something went wrong elsewhere. \n",
    "2. which column to delete and use inferred_gender_io_x or inferred_gender_io_y - can check for disparity between the two and if there is no diff then delete either doesnt matter\n",
    "    - same, can delete either"
   ]
  },
  {
   "cell_type": "code",
   "execution_count": null,
   "id": "b87fdea7",
   "metadata": {},
   "outputs": [],
   "source": [
    "# Calculate the distribution of inferred genders using genderize.io on CLEANED NAMES\n",
    "gender_distribution = participants_links_expanded['inferred_gender_io_x'].value_counts()\n",
    "\n",
    "# Display the distribution\n",
    "print(gender_distribution)"
   ]
  },
  {
   "cell_type": "markdown",
   "id": "690b5173",
   "metadata": {},
   "source": [
    "Issues:\n",
    "1. females > males - that changes everything AND it is totally different to the gender guess lib \n",
    "2. this has been applied to CLEANED NAMES which has 175K null values \n",
    "3. how does cleaned names have more null values than the total number of rows of 56k participants itself?"
   ]
  },
  {
   "cell_type": "code",
   "execution_count": null,
   "id": "f9579d71",
   "metadata": {},
   "outputs": [],
   "source": [
    "## Apply the genderize function to just NAMES and check difference \n",
    "# Assuming participants_links_expanded is your main DataFrame\n",
    "api_key = '3516fa3d13cfd6c6f05cc7005f275c08'\n",
    "sample_data = participants_links_expanded  # Can sample the first 1000 entries for testing\n",
    "\n",
    "# Ensure you're passing the DataFrame and the name of the column holding the names\n",
    "genderized_results = apply_gender_inference(sample_data, 'name', api_key)\n",
    "\n",
    "print(type(participants_links_expanded))  # Should be DataFrame\n",
    "print(type(participants_links_expanded['name']))  # Should be Series\n",
    "print(type(genderized_results))  # Should now be DataFrame after the fix\n",
    "print(genderized_results.head())  # Display the first few rows to verify structure"
   ]
  },
  {
   "cell_type": "code",
   "execution_count": null,
   "id": "1e8fde1c",
   "metadata": {},
   "outputs": [],
   "source": [
    "print(participants_links_expanded.isna().sum()) # checking for number of empty values\n",
    "# Calculate the distribution of inferred genders using genderize.io on CLEANED NAMES\n",
    "gender_distribution = participants_links_expanded['inferred_gender_io_x'].value_counts()\n",
    "\n",
    "# Display the distribution\n",
    "print(gender_distribution)"
   ]
  },
  {
   "cell_type": "markdown",
   "id": "653d5f11",
   "metadata": {},
   "source": [
    "### comparing manual prediction, genderize.io, gender predictor gpt on the first 400 names"
   ]
  },
  {
   "cell_type": "code",
   "execution_count": 19,
   "id": "de991e9c",
   "metadata": {},
   "outputs": [],
   "source": [
    "import pandas as pd\n",
    "\n",
    "first_600_names_classified = pd.read_csv(r'/Users/Isha/Desktop/TUe/Year 3/BEP/BEP_project/data/cleaned_names_only_first600names.csv', sep=';')"
   ]
  },
  {
   "cell_type": "code",
   "execution_count": 20,
   "id": "f089f871",
   "metadata": {},
   "outputs": [],
   "source": [
    "#del first_4000_names_classified[['Unnamed: 0', 'Unnamed: 5', 'Unnamed: 6', 'Unnamed: 7', 'Unnamed: 8']]\n",
    "first_600_names_classified.columns\n",
    "del first_600_names_classified['Unnamed: 0']\n",
    "del first_600_names_classified['Unnamed: 5']\n",
    "del first_600_names_classified['Unnamed: 6']\n",
    "del first_600_names_classified['Unnamed: 7']\n",
    "del first_600_names_classified['Unnamed: 8']"
   ]
  },
  {
   "cell_type": "code",
   "execution_count": 21,
   "id": "9b1ad5bd",
   "metadata": {},
   "outputs": [
    {
     "data": {
      "text/html": [
       "<div>\n",
       "<style scoped>\n",
       "    .dataframe tbody tr th:only-of-type {\n",
       "        vertical-align: middle;\n",
       "    }\n",
       "\n",
       "    .dataframe tbody tr th {\n",
       "        vertical-align: top;\n",
       "    }\n",
       "\n",
       "    .dataframe thead th {\n",
       "        text-align: right;\n",
       "    }\n",
       "</style>\n",
       "<table border=\"1\" class=\"dataframe\">\n",
       "  <thead>\n",
       "    <tr style=\"text-align: right;\">\n",
       "      <th></th>\n",
       "      <th>cleaned_names</th>\n",
       "      <th>self_inference</th>\n",
       "      <th>genderize.io</th>\n",
       "      <th>chatpgt gender predictor</th>\n",
       "    </tr>\n",
       "  </thead>\n",
       "  <tbody>\n",
       "    <tr>\n",
       "      <th>0</th>\n",
       "      <td>Craig Hiller</td>\n",
       "      <td>m</td>\n",
       "      <td>m</td>\n",
       "      <td>m</td>\n",
       "    </tr>\n",
       "    <tr>\n",
       "      <th>1</th>\n",
       "      <td>Andrew Sheleby</td>\n",
       "      <td>m</td>\n",
       "      <td>m</td>\n",
       "      <td>m</td>\n",
       "    </tr>\n",
       "    <tr>\n",
       "      <th>2</th>\n",
       "      <td>Evan Ho</td>\n",
       "      <td>m</td>\n",
       "      <td>m</td>\n",
       "      <td>m</td>\n",
       "    </tr>\n",
       "    <tr>\n",
       "      <th>3</th>\n",
       "      <td>Brian Lam</td>\n",
       "      <td>m</td>\n",
       "      <td>m</td>\n",
       "      <td>m</td>\n",
       "    </tr>\n",
       "    <tr>\n",
       "      <th>4</th>\n",
       "      <td>Lin Peng</td>\n",
       "      <td>f</td>\n",
       "      <td>m</td>\n",
       "      <td>m</td>\n",
       "    </tr>\n",
       "    <tr>\n",
       "      <th>...</th>\n",
       "      <td>...</td>\n",
       "      <td>...</td>\n",
       "      <td>...</td>\n",
       "      <td>...</td>\n",
       "    </tr>\n",
       "    <tr>\n",
       "      <th>56490</th>\n",
       "      <td>Mike Dimitrov</td>\n",
       "      <td>NaN</td>\n",
       "      <td>NaN</td>\n",
       "      <td>NaN</td>\n",
       "    </tr>\n",
       "    <tr>\n",
       "      <th>56491</th>\n",
       "      <td>Baiyun ( Ben) Gao</td>\n",
       "      <td>NaN</td>\n",
       "      <td>NaN</td>\n",
       "      <td>NaN</td>\n",
       "    </tr>\n",
       "    <tr>\n",
       "      <th>56492</th>\n",
       "      <td>Everet Siew</td>\n",
       "      <td>NaN</td>\n",
       "      <td>NaN</td>\n",
       "      <td>NaN</td>\n",
       "    </tr>\n",
       "    <tr>\n",
       "      <th>56493</th>\n",
       "      <td>Amulya Garimella</td>\n",
       "      <td>NaN</td>\n",
       "      <td>NaN</td>\n",
       "      <td>NaN</td>\n",
       "    </tr>\n",
       "    <tr>\n",
       "      <th>56494</th>\n",
       "      <td>Dairon Rodriguez</td>\n",
       "      <td>NaN</td>\n",
       "      <td>NaN</td>\n",
       "      <td>NaN</td>\n",
       "    </tr>\n",
       "  </tbody>\n",
       "</table>\n",
       "<p>56495 rows × 4 columns</p>\n",
       "</div>"
      ],
      "text/plain": [
       "           cleaned_names self_inference genderize.io chatpgt gender predictor\n",
       "0           Craig Hiller             m             m                        m\n",
       "1         Andrew Sheleby              m            m                        m\n",
       "2                Evan Ho             m             m                        m\n",
       "3              Brian Lam              m            m                        m\n",
       "4               Lin Peng              f            m                        m\n",
       "...                  ...            ...          ...                      ...\n",
       "56490      Mike Dimitrov            NaN          NaN                      NaN\n",
       "56491  Baiyun ( Ben) Gao            NaN          NaN                      NaN\n",
       "56492        Everet Siew            NaN          NaN                      NaN\n",
       "56493   Amulya Garimella            NaN          NaN                      NaN\n",
       "56494   Dairon Rodriguez            NaN          NaN                      NaN\n",
       "\n",
       "[56495 rows x 4 columns]"
      ]
     },
     "execution_count": 21,
     "metadata": {},
     "output_type": "execute_result"
    }
   ],
   "source": [
    "first_600_names_classified"
   ]
  },
  {
   "cell_type": "code",
   "execution_count": 23,
   "id": "8f02a0fc",
   "metadata": {},
   "outputs": [
    {
     "name": "stderr",
     "output_type": "stream",
     "text": [
      "/var/folders/_f/7jgfw7qx5jn8xl64g_9px9g00000gp/T/ipykernel_71755/673731992.py:39: SettingWithCopyWarning: \n",
      "A value is trying to be set on a copy of a slice from a DataFrame.\n",
      "Try using .loc[row_indexer,col_indexer] = value instead\n",
      "\n",
      "See the caveats in the documentation: https://pandas.pydata.org/pandas-docs/stable/user_guide/indexing.html#returning-a-view-versus-a-copy\n",
      "  disparities['unique_comb'] = disparities.apply(lambda x: unique_sorted_tuple([x['self_inference'], x['genderize.io'], x['chatpgt gender predictor']]), axis=1)\n"
     ]
    },
    {
     "data": {
      "text/html": [
       "<div>\n",
       "<style scoped>\n",
       "    .dataframe tbody tr th:only-of-type {\n",
       "        vertical-align: middle;\n",
       "    }\n",
       "\n",
       "    .dataframe tbody tr th {\n",
       "        vertical-align: top;\n",
       "    }\n",
       "\n",
       "    .dataframe thead th {\n",
       "        text-align: right;\n",
       "    }\n",
       "</style>\n",
       "<table border=\"1\" class=\"dataframe\">\n",
       "  <thead>\n",
       "    <tr style=\"text-align: right;\">\n",
       "      <th></th>\n",
       "      <th>combination</th>\n",
       "      <th>count</th>\n",
       "      <th>proportion</th>\n",
       "    </tr>\n",
       "  </thead>\n",
       "  <tbody>\n",
       "    <tr>\n",
       "      <th>0</th>\n",
       "      <td>((m, 2), (unknown, 1))</td>\n",
       "      <td>30</td>\n",
       "      <td>0.050000</td>\n",
       "    </tr>\n",
       "    <tr>\n",
       "      <th>1</th>\n",
       "      <td>((f, 1), (m, 2))</td>\n",
       "      <td>20</td>\n",
       "      <td>0.033333</td>\n",
       "    </tr>\n",
       "    <tr>\n",
       "      <th>2</th>\n",
       "      <td>((f, 2), (m, 1))</td>\n",
       "      <td>10</td>\n",
       "      <td>0.016667</td>\n",
       "    </tr>\n",
       "    <tr>\n",
       "      <th>3</th>\n",
       "      <td>((f, 2), (unknown, 1))</td>\n",
       "      <td>9</td>\n",
       "      <td>0.015000</td>\n",
       "    </tr>\n",
       "    <tr>\n",
       "      <th>4</th>\n",
       "      <td>((m, 2), (m , 1))</td>\n",
       "      <td>8</td>\n",
       "      <td>0.013333</td>\n",
       "    </tr>\n",
       "    <tr>\n",
       "      <th>5</th>\n",
       "      <td>((m, 1), (unknown, 2))</td>\n",
       "      <td>6</td>\n",
       "      <td>0.010000</td>\n",
       "    </tr>\n",
       "    <tr>\n",
       "      <th>6</th>\n",
       "      <td>((f, 1), (m, 1), (unknown, 1))</td>\n",
       "      <td>6</td>\n",
       "      <td>0.010000</td>\n",
       "    </tr>\n",
       "    <tr>\n",
       "      <th>7</th>\n",
       "      <td>((f, 1), (unknown, 2))</td>\n",
       "      <td>5</td>\n",
       "      <td>0.008333</td>\n",
       "    </tr>\n",
       "  </tbody>\n",
       "</table>\n",
       "</div>"
      ],
      "text/plain": [
       "                      combination  count  proportion\n",
       "0          ((m, 2), (unknown, 1))     30    0.050000\n",
       "1                ((f, 1), (m, 2))     20    0.033333\n",
       "2                ((f, 2), (m, 1))     10    0.016667\n",
       "3          ((f, 2), (unknown, 1))      9    0.015000\n",
       "4               ((m, 2), (m , 1))      8    0.013333\n",
       "5          ((m, 1), (unknown, 2))      6    0.010000\n",
       "6  ((f, 1), (m, 1), (unknown, 1))      6    0.010000\n",
       "7          ((f, 1), (unknown, 2))      5    0.008333"
      ]
     },
     "execution_count": 23,
     "metadata": {},
     "output_type": "execute_result"
    }
   ],
   "source": [
    "# Analyze only the first 400 rows\n",
    "df_first_600 = first_600_names_classified.iloc[:600]\n",
    "'''\n",
    "# Find rows with disparities\n",
    "disparities = df_first_400\n",
    "    (df_first_400['self_inference'] != df_first_400['genderize.io']) |\n",
    "    (df_first_400['self_inference'] != df_first_400['chatpgt gender predictor']) |\n",
    "    (df_first_400['genderize.io'] != df_first_400['chatpgt gender predictor'])\n",
    "]\n",
    "\n",
    "# Get unique combinations of disparities\n",
    "disparities['combination'] = list(zip(disparities['self_inference'],\n",
    "                                      disparities['genderize.io'],\n",
    "                                      disparities['chatpgt gender predictor']))\n",
    "\n",
    "unique_combinations = disparities['combination'].value_counts().reset_index()\n",
    "unique_combinations.columns = ['combination', 'count']\n",
    "\n",
    "# Calculate the proportions\n",
    "unique_combinations['proportion'] = unique_combinations['count'] / len(df_first_400)\n",
    "\n",
    "# Display results\n",
    "unique_combinations\n",
    "'''\n",
    "# Create a function to represent the unique sorted tuple\n",
    "def unique_sorted_tuple(row):\n",
    "    # Extract the tuple\n",
    "    unique_comb = tuple(sorted(Counter(row).items()))\n",
    "    return unique_comb\n",
    "\n",
    "# Filter out rows where all values are the same\n",
    "disparities = df_first_600[\n",
    "    (df_first_600['self_inference'] != df_first_600['genderize.io']) |\n",
    "    (df_first_600['self_inference'] != df_first_600['chatpgt gender predictor']) |\n",
    "    (df_first_600['genderize.io'] != df_first_600['chatpgt gender predictor'])\n",
    "]\n",
    "\n",
    "# Apply unique sorted tuple function\n",
    "disparities['unique_comb'] = disparities.apply(lambda x: unique_sorted_tuple([x['self_inference'], x['genderize.io'], x['chatpgt gender predictor']]), axis=1)\n",
    "\n",
    "# Get unique combinations and their counts\n",
    "unique_combinations = disparities['unique_comb'].value_counts().reset_index()\n",
    "unique_combinations.columns = ['combination', 'count']\n",
    "\n",
    "# Calculate the proportions\n",
    "unique_combinations['proportion'] = unique_combinations['count'] / len(df_first_600)\n",
    "\n",
    "# Display results\n",
    "unique_combinations"
   ]
  },
  {
   "cell_type": "code",
   "execution_count": 24,
   "id": "27bada76",
   "metadata": {},
   "outputs": [
    {
     "name": "stdout",
     "output_type": "stream",
     "text": [
      "number of disparities out of 600 is  86 and the in terms of proportion, it is  0.14333333333333334\n"
     ]
    },
    {
     "data": {
      "text/html": [
       "<div>\n",
       "<style scoped>\n",
       "    .dataframe tbody tr th:only-of-type {\n",
       "        vertical-align: middle;\n",
       "    }\n",
       "\n",
       "    .dataframe tbody tr th {\n",
       "        vertical-align: top;\n",
       "    }\n",
       "\n",
       "    .dataframe thead th {\n",
       "        text-align: right;\n",
       "    }\n",
       "</style>\n",
       "<table border=\"1\" class=\"dataframe\">\n",
       "  <thead>\n",
       "    <tr style=\"text-align: right;\">\n",
       "      <th></th>\n",
       "      <th>combination</th>\n",
       "      <th>count</th>\n",
       "      <th>proportion</th>\n",
       "    </tr>\n",
       "  </thead>\n",
       "  <tbody>\n",
       "    <tr>\n",
       "      <th>0</th>\n",
       "      <td>((m, 2), (unknown, 1))</td>\n",
       "      <td>30</td>\n",
       "      <td>0.050000</td>\n",
       "    </tr>\n",
       "    <tr>\n",
       "      <th>1</th>\n",
       "      <td>((f, 1), (m, 2))</td>\n",
       "      <td>20</td>\n",
       "      <td>0.033333</td>\n",
       "    </tr>\n",
       "    <tr>\n",
       "      <th>2</th>\n",
       "      <td>((f, 2), (m, 1))</td>\n",
       "      <td>10</td>\n",
       "      <td>0.016667</td>\n",
       "    </tr>\n",
       "    <tr>\n",
       "      <th>3</th>\n",
       "      <td>((f, 2), (unknown, 1))</td>\n",
       "      <td>9</td>\n",
       "      <td>0.015000</td>\n",
       "    </tr>\n",
       "    <tr>\n",
       "      <th>4</th>\n",
       "      <td>((m, 1), (unknown, 2))</td>\n",
       "      <td>6</td>\n",
       "      <td>0.010000</td>\n",
       "    </tr>\n",
       "    <tr>\n",
       "      <th>5</th>\n",
       "      <td>((f, 1), (m, 1), (unknown, 1))</td>\n",
       "      <td>6</td>\n",
       "      <td>0.010000</td>\n",
       "    </tr>\n",
       "    <tr>\n",
       "      <th>6</th>\n",
       "      <td>((f, 1), (unknown, 2))</td>\n",
       "      <td>5</td>\n",
       "      <td>0.008333</td>\n",
       "    </tr>\n",
       "  </tbody>\n",
       "</table>\n",
       "</div>"
      ],
      "text/plain": [
       "                      combination  count  proportion\n",
       "0          ((m, 2), (unknown, 1))     30    0.050000\n",
       "1                ((f, 1), (m, 2))     20    0.033333\n",
       "2                ((f, 2), (m, 1))     10    0.016667\n",
       "3          ((f, 2), (unknown, 1))      9    0.015000\n",
       "4          ((m, 1), (unknown, 2))      6    0.010000\n",
       "5  ((f, 1), (m, 1), (unknown, 1))      6    0.010000\n",
       "6          ((f, 1), (unknown, 2))      5    0.008333"
      ]
     },
     "execution_count": 24,
     "metadata": {},
     "output_type": "execute_result"
    }
   ],
   "source": [
    "# Drop row 4 that has combination ((m, 2), (m , 1)) - not a disparity, all male\n",
    "unique_combinations = unique_combinations.drop(4).reset_index(drop=True)\n",
    "total_count = unique_combinations['count'].sum()\n",
    "print('number of disparities out of 600 is ',total_count,'and the in terms of proportion, it is ',total_count/600)\n",
    "unique_combinations"
   ]
  },
  {
   "attachments": {},
   "cell_type": "markdown",
   "id": "9bde5a83",
   "metadata": {},
   "source": [
    "#### What can be inferred from this?\n",
    "1. most common disparity is of 2 tools classifying a name as male and one of them being uncertain with \"unknown\". An example of this with the names: Hiepnguyen, Maq, Never Hide, Mr Leaw, Anabadya Neogi, Rowun Giles. For these, on looking closely, they can be voted to be male\n",
    "\n",
    "2. The presence of \"unknown\" in multiple combinations indicates inconsistency in gender identification across different sources. This shows that some names might be challenging to classify, possibly due to their ambiguity or cross-gender usage.\n",
    "\n",
    "3. The combinations indicate various levels of disagreement between the sources, though the most common involves two agreeing on a specific gender and one differing. Thus, majority voting seems like the appropriate choice\n",
    "\n",
    "4. There are only 3 cases where all 3 gender tools disagree, such for names like: Anh Le"
   ]
  },
  {
   "cell_type": "markdown",
   "id": "a4f7c026",
   "metadata": {},
   "source": [
    "### Majority Voting:\n",
    "1. Count Votes: Count the number of votes each gender received from the three sources.\n",
    "2. Majority Decision: Choose the gender that received the majority of the votes. If one gender received two or more votes, assign that gender.\n",
    "3. Tie-breaking: If each gender received one vote, you can either:\n",
    "\n",
    "a. Use a Tie-breaker: Decide which source to trust more based on their overall accuracy across all names.\n",
    "\n",
    "b. Use “Unknown”: If you want to avoid making arbitrary choices, you can assign the label \"Unknown\" when there is no majority."
   ]
  },
  {
   "cell_type": "code",
   "execution_count": 25,
   "id": "62b988d9",
   "metadata": {},
   "outputs": [
    {
     "name": "stderr",
     "output_type": "stream",
     "text": [
      "/var/folders/_f/7jgfw7qx5jn8xl64g_9px9g00000gp/T/ipykernel_71755/2363627619.py:25: SettingWithCopyWarning: \n",
      "A value is trying to be set on a copy of a slice from a DataFrame.\n",
      "Try using .loc[row_indexer,col_indexer] = value instead\n",
      "\n",
      "See the caveats in the documentation: https://pandas.pydata.org/pandas-docs/stable/user_guide/indexing.html#returning-a-view-versus-a-copy\n",
      "  df_first_600['majority_gender'] = df_first_600.apply(\n"
     ]
    },
    {
     "data": {
      "text/html": [
       "<div>\n",
       "<style scoped>\n",
       "    .dataframe tbody tr th:only-of-type {\n",
       "        vertical-align: middle;\n",
       "    }\n",
       "\n",
       "    .dataframe tbody tr th {\n",
       "        vertical-align: top;\n",
       "    }\n",
       "\n",
       "    .dataframe thead th {\n",
       "        text-align: right;\n",
       "    }\n",
       "</style>\n",
       "<table border=\"1\" class=\"dataframe\">\n",
       "  <thead>\n",
       "    <tr style=\"text-align: right;\">\n",
       "      <th></th>\n",
       "      <th>cleaned_names</th>\n",
       "      <th>self_inference</th>\n",
       "      <th>genderize.io</th>\n",
       "      <th>chatpgt gender predictor</th>\n",
       "      <th>majority_gender</th>\n",
       "    </tr>\n",
       "  </thead>\n",
       "  <tbody>\n",
       "    <tr>\n",
       "      <th>0</th>\n",
       "      <td>Craig Hiller</td>\n",
       "      <td>m</td>\n",
       "      <td>m</td>\n",
       "      <td>m</td>\n",
       "      <td>m</td>\n",
       "    </tr>\n",
       "    <tr>\n",
       "      <th>1</th>\n",
       "      <td>Andrew Sheleby</td>\n",
       "      <td>m</td>\n",
       "      <td>m</td>\n",
       "      <td>m</td>\n",
       "      <td>m</td>\n",
       "    </tr>\n",
       "    <tr>\n",
       "      <th>2</th>\n",
       "      <td>Evan Ho</td>\n",
       "      <td>m</td>\n",
       "      <td>m</td>\n",
       "      <td>m</td>\n",
       "      <td>m</td>\n",
       "    </tr>\n",
       "    <tr>\n",
       "      <th>3</th>\n",
       "      <td>Brian Lam</td>\n",
       "      <td>m</td>\n",
       "      <td>m</td>\n",
       "      <td>m</td>\n",
       "      <td>m</td>\n",
       "    </tr>\n",
       "    <tr>\n",
       "      <th>4</th>\n",
       "      <td>Lin Peng</td>\n",
       "      <td>f</td>\n",
       "      <td>m</td>\n",
       "      <td>m</td>\n",
       "      <td>m</td>\n",
       "    </tr>\n",
       "    <tr>\n",
       "      <th>5</th>\n",
       "      <td>Denis Mukhin</td>\n",
       "      <td>m</td>\n",
       "      <td>m</td>\n",
       "      <td>m</td>\n",
       "      <td>m</td>\n",
       "    </tr>\n",
       "    <tr>\n",
       "      <th>6</th>\n",
       "      <td>Farnaz Fooladi</td>\n",
       "      <td>f</td>\n",
       "      <td>f</td>\n",
       "      <td>f</td>\n",
       "      <td>f</td>\n",
       "    </tr>\n",
       "    <tr>\n",
       "      <th>7</th>\n",
       "      <td>Farnad Jahanshah</td>\n",
       "      <td>m</td>\n",
       "      <td>m</td>\n",
       "      <td>m</td>\n",
       "      <td>m</td>\n",
       "    </tr>\n",
       "    <tr>\n",
       "      <th>8</th>\n",
       "      <td>Jason Seibel</td>\n",
       "      <td>m</td>\n",
       "      <td>m</td>\n",
       "      <td>m</td>\n",
       "      <td>m</td>\n",
       "    </tr>\n",
       "    <tr>\n",
       "      <th>9</th>\n",
       "      <td>Cathy Jiao</td>\n",
       "      <td>f</td>\n",
       "      <td>f</td>\n",
       "      <td>f</td>\n",
       "      <td>f</td>\n",
       "    </tr>\n",
       "  </tbody>\n",
       "</table>\n",
       "</div>"
      ],
      "text/plain": [
       "      cleaned_names self_inference genderize.io chatpgt gender predictor  \\\n",
       "0      Craig Hiller             m             m                        m   \n",
       "1    Andrew Sheleby              m            m                        m   \n",
       "2           Evan Ho             m             m                        m   \n",
       "3         Brian Lam              m            m                        m   \n",
       "4          Lin Peng              f            m                        m   \n",
       "5      Denis Mukhin              m            m                        m   \n",
       "6    Farnaz Fooladi              f            f                        f   \n",
       "7  Farnad Jahanshah              m            m                        m   \n",
       "8      Jason Seibel              m            m                        m   \n",
       "9        Cathy Jiao              f            f                        f   \n",
       "\n",
       "  majority_gender  \n",
       "0               m  \n",
       "1               m  \n",
       "2               m  \n",
       "3               m  \n",
       "4               m  \n",
       "5               m  \n",
       "6               f  \n",
       "7               m  \n",
       "8               m  \n",
       "9               f  "
      ]
     },
     "execution_count": 25,
     "metadata": {},
     "output_type": "execute_result"
    }
   ],
   "source": [
    "from collections import Counter\n",
    "\n",
    "# Create a function for majority voting\n",
    "def majority_vote(row):\n",
    "    # Count votes\n",
    "    counts = Counter(row)\n",
    "    most_common = counts.most_common()\n",
    "    \n",
    "    # Majority Decision: if one gender received two or more votes, assign that gender\n",
    "    if most_common[0][1] >= 2:\n",
    "        return most_common[0][0]\n",
    "    \n",
    "    # Tie-breaking: if each gender received one vote\n",
    "    if len(most_common) == 3:\n",
    "        # Case (a): Use \"Unknown\"\n",
    "        if \"unknown\" in counts:\n",
    "            return \"unknown\"\n",
    "        # Case (b): Use Tie-breaker (based on accuracy)\n",
    "        else:\n",
    "            return \"unknown\"\n",
    "    else:\n",
    "        return most_common[0][0]  # fallback case (unlikely to happen)\n",
    "\n",
    "# Apply majority voting to the DataFrame\n",
    "df_first_600['majority_gender'] = df_first_600.apply(\n",
    "    lambda row: majority_vote([row['self_inference'], row['genderize.io'], row['chatpgt gender predictor']]), axis=1)\n",
    "\n",
    "# Show resulting DataFrame\n",
    "df_first_600.head(10)\n"
   ]
  },
  {
   "cell_type": "code",
   "execution_count": 27,
   "id": "b0eb0b21",
   "metadata": {},
   "outputs": [
    {
     "data": {
      "text/plain": [
       "majority_gender\n",
       "m          408\n",
       "f          156\n",
       "unknown     36\n",
       "Name: count, dtype: int64"
      ]
     },
     "execution_count": 27,
     "metadata": {},
     "output_type": "execute_result"
    }
   ],
   "source": [
    "# Count unique values in majority_gender column\n",
    "majority_gender_counts = df_first_600['majority_gender'].value_counts()\n",
    "majority_gender_counts\n",
    "#df_first_600"
   ]
  },
  {
   "cell_type": "markdown",
   "id": "bd427dfa",
   "metadata": {},
   "source": [
    "Did it on the first 600 using 3 tools and majority voting but 2 points to make here:\n",
    "1. cannot manually do it for the entire dataset as it is too huge\n",
    "2. chat gpt's predictor cannot take that many requests either, manually need to put it in and process\n",
    "Thus, decision to just use genderize.io predictions henceforth and mention the caveat in the paper that it is not 100% accurate"
   ]
  }
 ],
 "metadata": {
  "kernelspec": {
   "display_name": "Python 3 (ipykernel)",
   "language": "python",
   "name": "python3"
  },
  "language_info": {
   "codemirror_mode": {
    "name": "ipython",
    "version": 3
   },
   "file_extension": ".py",
   "mimetype": "text/x-python",
   "name": "python",
   "nbconvert_exporter": "python",
   "pygments_lexer": "ipython3",
   "version": "3.10.9"
  }
 },
 "nbformat": 4,
 "nbformat_minor": 5
}
