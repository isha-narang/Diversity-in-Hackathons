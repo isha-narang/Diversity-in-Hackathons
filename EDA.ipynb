{
 "cells": [
  {
   "cell_type": "markdown",
   "source": [
    "## EDA"
   ],
   "metadata": {
    "collapsed": false
   }
  },
  {
   "cell_type": "code",
   "execution_count": 54,
   "outputs": [],
   "source": [
    "# Importing libraries\n",
    "import pandas as pd"
   ],
   "metadata": {
    "collapsed": false,
    "ExecuteTime": {
     "end_time": "2024-02-12T16:34:35.735475Z",
     "start_time": "2024-02-12T16:34:35.582913Z"
    }
   }
  },
  {
   "cell_type": "code",
   "execution_count": 55,
   "outputs": [
    {
     "name": "stderr",
     "output_type": "stream",
     "text": [
      "/var/folders/_f/7jgfw7qx5jn8xl64g_9px9g00000gp/T/ipykernel_8962/3353905109.py:3: DtypeWarning: Columns (5) have mixed types. Specify dtype option on import or set low_memory=False.\n",
      "  participants = pd.read_csv('/Users/Isha/Desktop/TUe/Year 3/BEP/BEP_project/data/participants.csv')\n"
     ]
    }
   ],
   "source": [
    "# Read CSV files from data folder and store in dataframes\n",
    "hackathons = pd.read_csv('/Users/Isha/Desktop/TUe/Year 3/BEP/BEP_project/data/hackathons.csv')\n",
    "participants = pd.read_csv('/Users/Isha/Desktop/TUe/Year 3/BEP/BEP_project/data/participants.csv')\n",
    "participants_links = pd.read_csv('/Users/Isha/Desktop/TUe/Year 3/BEP/BEP_project/data/participants-links.csv')\n",
    "projects = pd.read_csv('/Users/Isha/Desktop/TUe/Year 3/BEP/BEP_project/data/projects.csv')"
   ],
   "metadata": {
    "collapsed": false,
    "ExecuteTime": {
     "end_time": "2024-02-12T16:34:37.990247Z",
     "start_time": "2024-02-12T16:34:35.586701Z"
    }
   }
  },
  {
   "cell_type": "code",
   "execution_count": 56,
   "outputs": [
    {
     "name": "stdout",
     "output_type": "stream",
     "text": [
      "Hackathon dataframe columns:  Index(['Unnamed: 0', 'URL', 'Criteria', 'schedule', 'hack_type', 'info',\n",
      "       'start_date_format', 'end_date_format', 'Prizes', 'prize_money', 'Id',\n",
      "       'Title', 'Location', 'start_date', 'end_date', 'year', 'themes',\n",
      "       'prize', 'registered_N', 'featured', 'organization_name',\n",
      "       'winners_announced', 'submission_gallery_url',\n",
      "       'start_a_submission_url'],\n",
      "      dtype='object')\n"
     ]
    },
    {
     "data": {
      "text/plain": "      Unnamed: 0                                           URL  \\\n0              0      https://wirvsvirushackathon.devpost.com/   \n1              4            https://theglobalhack.devpost.com/   \n2              8                https://supernova.devpost.com/   \n3             12            https://hajjhackathon.devpost.com/   \n4             16      https://chainlinkspring2022.devpost.com/   \n...          ...                                           ...   \n7048        7075           https://checkinproject.devpost.com/   \n7049        7076                  https://fgtfrgf.devpost.com/   \n7050        7077                https://old-hacks.devpost.com/   \n7051        7078  https://thailand-champion-13627.devpost.com/   \n7052        7079        https://manager-hackathon.devpost.com/   \n\n                                               Criteria     schedule  \\\n0     Gesellschaftlicher Mehrwert, Innovationsgrad, ...  no schedule   \n1     Potential impact of the project, Technical exe...  no schedule   \n2     X Factor and Potential, Technical Competence, ...  no schedule   \n3     Design           |             التصميم, Simpli...  no schedule   \n4     User Experience / User Interface, Originality ...  no schedule   \n...                                                 ...          ...   \n7048                                              biden  no schedule   \n7049                   Criteria 1, Criteria 1, criteria  no schedule   \n7050                                                TBA  no schedule   \n7051                                              biden  no schedule   \n7052                                     Firts criteria  no schedule   \n\n     hack_type                                               info  \\\n0       Public  Mar 29, 2020, Online, Public, Social Good     ...   \n1       Public             Apr 12, 2020, Online, Public, COVID-19   \n2       Public  Jul 11, 2022, Online, Public, DFINITY Foundati...   \n3       Public  Aug 3, 2018, Jeddah International Exhibition &...   \n4       Public  Jun 8, 2022, Online, Public, Chainlink Labs, B...   \n...        ...                                                ...   \n7048    Public  Aug 30, 2021, Thái Lan, Public, ACM Monterrey,...   \n7049    Public  Jul 15, 2021, Online, Public, Dong Trinh LTD, ...   \n7050    Public  May 7, 2021, Quận 2, Vietnam, Public, Hackers ...   \n7051    Public  Sep 15, 2021, Thái Lan, Public, Screen Compose...   \n7052    Public  Aug 9, 2021, Việt Nam, Public, Girls Who Code ...   \n\n     start_date_format end_date_format  \\\n0           2020-03-20      2020-03-22   \n1           2020-04-03      2020-04-09   \n2           2022-05-10      2022-06-22   \n3           2018-08-01      2018-08-03   \n4           2022-04-22      2022-05-28   \n...                ...             ...   \n7048        2021-08-30      2021-08-30   \n7049        2021-07-15      2021-07-15   \n7050        2021-05-07      2021-05-07   \n7051        2021-09-15      2021-09-15   \n7052        2021-08-09      2021-08-09   \n\n                                                 Prizes     prize_money  ...  \\\n0     Euer Preis ist Anerkennung und Ehre!, Habt Spa...  no money prize  ...   \n1                                        Overall Winner  no money prize  ...   \n2     SocialFi - 1ST PLACE, SocialFi - 2ND PLACE, So...        $765,000  ...   \n3     1st place: 1 million Saudi Riyal (15% equity i...    SAR2,000,000  ...   \n4     Chainlink Grand Prize - $40,000, Chainlink NFT...      $1,019,000  ...   \n...                                                 ...             ...  ...   \n7048                                         cash value          $1,000  ...   \n7049               1st place, 2nd place, 3rd place, 4nd          $1,100  ...   \n7050                                                TBA  no money prize  ...   \n7051                                      Thailand cash            $100  ...   \n7052                                                  1              $1  ...   \n\n      end_date   year                                  themes prize  \\\n0           22   2020                   Social Good, COVID-19    $0   \n1           09   2020                                COVID-19    €0   \n2       Jun 22   2022     Social Good, Blockchain, Open Ended    $0   \n3           03   2018                                     NaN  SAR0   \n4       May 28   2022                Blockchain, Web, Fintech    $0   \n...        ...    ...                                     ...   ...   \n7048    Aug 30   2021                            Voice skills    $0   \n7049    Jul 15   2021  AR/VR, Machine Learning/AI, Open Ended    $0   \n7050    May 07   2021                              Open Ended    $0   \n7051    Sep 15   2021                            Voice skills    $0   \n7052    Aug 09   2021                            Voice skills    $0   \n\n     registered_N featured                         organization_name  \\\n0           12505    False                                       NaN   \n1            6059    False                                       NaN   \n2            3633    False                        DFINITY Foundation   \n3            2935    False                                       NaN   \n4            1481    False                            Chainlink Labs   \n...           ...      ...                                       ...   \n7048            1    False                             ACM Monterrey   \n7049            1    False                            Dong Trinh LTD   \n7050            1    False                            Hackers Galore   \n7051            0    False  Screen Composers Guild of Canada & SOCAN   \n7052            0    False                        Girls Who Code UVA   \n\n     winners_announced                             submission_gallery_url  \\\n0                False  https://wirvsvirushackathon.devpost.com/projec...   \n1                False  https://theglobalhack.devpost.com/project-gallery   \n2                False      https://supernova.devpost.com/project-gallery   \n3                False  https://hajjhackathon.devpost.com/project-gallery   \n4                False  https://chainlinkspring2022.devpost.com/projec...   \n...                ...                                                ...   \n7048              True  https://checkinproject.devpost.com/project-gal...   \n7049              True        https://fgtfrgf.devpost.com/project-gallery   \n7050              True      https://old-hacks.devpost.com/project-gallery   \n7051              True  https://thailand-champion-13627.devpost.com/pr...   \n7052              True  https://manager-hackathon.devpost.com/project-...   \n\n                                 start_a_submission_url  \n0     https://wirvsvirushackathon.devpost.com/challe...  \n1     https://theglobalhack.devpost.com/challenges/s...  \n2     https://supernova.devpost.com/challenges/start...  \n3     https://hajjhackathon.devpost.com/challenges/s...  \n4     https://chainlinkspring2022.devpost.com/challe...  \n...                                                 ...  \n7048  https://checkinproject.devpost.com/challenges/...  \n7049  https://fgtfrgf.devpost.com/challenges/start_a...  \n7050  https://old-hacks.devpost.com/challenges/start...  \n7051  https://thailand-champion-13627.devpost.com/ch...  \n7052  https://manager-hackathon.devpost.com/challeng...  \n\n[7053 rows x 24 columns]",
      "text/html": "<div>\n<style scoped>\n    .dataframe tbody tr th:only-of-type {\n        vertical-align: middle;\n    }\n\n    .dataframe tbody tr th {\n        vertical-align: top;\n    }\n\n    .dataframe thead th {\n        text-align: right;\n    }\n</style>\n<table border=\"1\" class=\"dataframe\">\n  <thead>\n    <tr style=\"text-align: right;\">\n      <th></th>\n      <th>Unnamed: 0</th>\n      <th>URL</th>\n      <th>Criteria</th>\n      <th>schedule</th>\n      <th>hack_type</th>\n      <th>info</th>\n      <th>start_date_format</th>\n      <th>end_date_format</th>\n      <th>Prizes</th>\n      <th>prize_money</th>\n      <th>...</th>\n      <th>end_date</th>\n      <th>year</th>\n      <th>themes</th>\n      <th>prize</th>\n      <th>registered_N</th>\n      <th>featured</th>\n      <th>organization_name</th>\n      <th>winners_announced</th>\n      <th>submission_gallery_url</th>\n      <th>start_a_submission_url</th>\n    </tr>\n  </thead>\n  <tbody>\n    <tr>\n      <th>0</th>\n      <td>0</td>\n      <td>https://wirvsvirushackathon.devpost.com/</td>\n      <td>Gesellschaftlicher Mehrwert, Innovationsgrad, ...</td>\n      <td>no schedule</td>\n      <td>Public</td>\n      <td>Mar 29, 2020, Online, Public, Social Good     ...</td>\n      <td>2020-03-20</td>\n      <td>2020-03-22</td>\n      <td>Euer Preis ist Anerkennung und Ehre!, Habt Spa...</td>\n      <td>no money prize</td>\n      <td>...</td>\n      <td>22</td>\n      <td>2020</td>\n      <td>Social Good, COVID-19</td>\n      <td>$0</td>\n      <td>12505</td>\n      <td>False</td>\n      <td>NaN</td>\n      <td>False</td>\n      <td>https://wirvsvirushackathon.devpost.com/projec...</td>\n      <td>https://wirvsvirushackathon.devpost.com/challe...</td>\n    </tr>\n    <tr>\n      <th>1</th>\n      <td>4</td>\n      <td>https://theglobalhack.devpost.com/</td>\n      <td>Potential impact of the project, Technical exe...</td>\n      <td>no schedule</td>\n      <td>Public</td>\n      <td>Apr 12, 2020, Online, Public, COVID-19</td>\n      <td>2020-04-03</td>\n      <td>2020-04-09</td>\n      <td>Overall Winner</td>\n      <td>no money prize</td>\n      <td>...</td>\n      <td>09</td>\n      <td>2020</td>\n      <td>COVID-19</td>\n      <td>€0</td>\n      <td>6059</td>\n      <td>False</td>\n      <td>NaN</td>\n      <td>False</td>\n      <td>https://theglobalhack.devpost.com/project-gallery</td>\n      <td>https://theglobalhack.devpost.com/challenges/s...</td>\n    </tr>\n    <tr>\n      <th>2</th>\n      <td>8</td>\n      <td>https://supernova.devpost.com/</td>\n      <td>X Factor and Potential, Technical Competence, ...</td>\n      <td>no schedule</td>\n      <td>Public</td>\n      <td>Jul 11, 2022, Online, Public, DFINITY Foundati...</td>\n      <td>2022-05-10</td>\n      <td>2022-06-22</td>\n      <td>SocialFi - 1ST PLACE, SocialFi - 2ND PLACE, So...</td>\n      <td>$765,000</td>\n      <td>...</td>\n      <td>Jun 22</td>\n      <td>2022</td>\n      <td>Social Good, Blockchain, Open Ended</td>\n      <td>$0</td>\n      <td>3633</td>\n      <td>False</td>\n      <td>DFINITY Foundation</td>\n      <td>False</td>\n      <td>https://supernova.devpost.com/project-gallery</td>\n      <td>https://supernova.devpost.com/challenges/start...</td>\n    </tr>\n    <tr>\n      <th>3</th>\n      <td>12</td>\n      <td>https://hajjhackathon.devpost.com/</td>\n      <td>Design           |             التصميم, Simpli...</td>\n      <td>no schedule</td>\n      <td>Public</td>\n      <td>Aug 3, 2018, Jeddah International Exhibition &amp;...</td>\n      <td>2018-08-01</td>\n      <td>2018-08-03</td>\n      <td>1st place: 1 million Saudi Riyal (15% equity i...</td>\n      <td>SAR2,000,000</td>\n      <td>...</td>\n      <td>03</td>\n      <td>2018</td>\n      <td>NaN</td>\n      <td>SAR0</td>\n      <td>2935</td>\n      <td>False</td>\n      <td>NaN</td>\n      <td>False</td>\n      <td>https://hajjhackathon.devpost.com/project-gallery</td>\n      <td>https://hajjhackathon.devpost.com/challenges/s...</td>\n    </tr>\n    <tr>\n      <th>4</th>\n      <td>16</td>\n      <td>https://chainlinkspring2022.devpost.com/</td>\n      <td>User Experience / User Interface, Originality ...</td>\n      <td>no schedule</td>\n      <td>Public</td>\n      <td>Jun 8, 2022, Online, Public, Chainlink Labs, B...</td>\n      <td>2022-04-22</td>\n      <td>2022-05-28</td>\n      <td>Chainlink Grand Prize - $40,000, Chainlink NFT...</td>\n      <td>$1,019,000</td>\n      <td>...</td>\n      <td>May 28</td>\n      <td>2022</td>\n      <td>Blockchain, Web, Fintech</td>\n      <td>$0</td>\n      <td>1481</td>\n      <td>False</td>\n      <td>Chainlink Labs</td>\n      <td>False</td>\n      <td>https://chainlinkspring2022.devpost.com/projec...</td>\n      <td>https://chainlinkspring2022.devpost.com/challe...</td>\n    </tr>\n    <tr>\n      <th>...</th>\n      <td>...</td>\n      <td>...</td>\n      <td>...</td>\n      <td>...</td>\n      <td>...</td>\n      <td>...</td>\n      <td>...</td>\n      <td>...</td>\n      <td>...</td>\n      <td>...</td>\n      <td>...</td>\n      <td>...</td>\n      <td>...</td>\n      <td>...</td>\n      <td>...</td>\n      <td>...</td>\n      <td>...</td>\n      <td>...</td>\n      <td>...</td>\n      <td>...</td>\n      <td>...</td>\n    </tr>\n    <tr>\n      <th>7048</th>\n      <td>7075</td>\n      <td>https://checkinproject.devpost.com/</td>\n      <td>biden</td>\n      <td>no schedule</td>\n      <td>Public</td>\n      <td>Aug 30, 2021, Thái Lan, Public, ACM Monterrey,...</td>\n      <td>2021-08-30</td>\n      <td>2021-08-30</td>\n      <td>cash value</td>\n      <td>$1,000</td>\n      <td>...</td>\n      <td>Aug 30</td>\n      <td>2021</td>\n      <td>Voice skills</td>\n      <td>$0</td>\n      <td>1</td>\n      <td>False</td>\n      <td>ACM Monterrey</td>\n      <td>True</td>\n      <td>https://checkinproject.devpost.com/project-gal...</td>\n      <td>https://checkinproject.devpost.com/challenges/...</td>\n    </tr>\n    <tr>\n      <th>7049</th>\n      <td>7076</td>\n      <td>https://fgtfrgf.devpost.com/</td>\n      <td>Criteria 1, Criteria 1, criteria</td>\n      <td>no schedule</td>\n      <td>Public</td>\n      <td>Jul 15, 2021, Online, Public, Dong Trinh LTD, ...</td>\n      <td>2021-07-15</td>\n      <td>2021-07-15</td>\n      <td>1st place, 2nd place, 3rd place, 4nd</td>\n      <td>$1,100</td>\n      <td>...</td>\n      <td>Jul 15</td>\n      <td>2021</td>\n      <td>AR/VR, Machine Learning/AI, Open Ended</td>\n      <td>$0</td>\n      <td>1</td>\n      <td>False</td>\n      <td>Dong Trinh LTD</td>\n      <td>True</td>\n      <td>https://fgtfrgf.devpost.com/project-gallery</td>\n      <td>https://fgtfrgf.devpost.com/challenges/start_a...</td>\n    </tr>\n    <tr>\n      <th>7050</th>\n      <td>7077</td>\n      <td>https://old-hacks.devpost.com/</td>\n      <td>TBA</td>\n      <td>no schedule</td>\n      <td>Public</td>\n      <td>May 7, 2021, Quận 2, Vietnam, Public, Hackers ...</td>\n      <td>2021-05-07</td>\n      <td>2021-05-07</td>\n      <td>TBA</td>\n      <td>no money prize</td>\n      <td>...</td>\n      <td>May 07</td>\n      <td>2021</td>\n      <td>Open Ended</td>\n      <td>$0</td>\n      <td>1</td>\n      <td>False</td>\n      <td>Hackers Galore</td>\n      <td>True</td>\n      <td>https://old-hacks.devpost.com/project-gallery</td>\n      <td>https://old-hacks.devpost.com/challenges/start...</td>\n    </tr>\n    <tr>\n      <th>7051</th>\n      <td>7078</td>\n      <td>https://thailand-champion-13627.devpost.com/</td>\n      <td>biden</td>\n      <td>no schedule</td>\n      <td>Public</td>\n      <td>Sep 15, 2021, Thái Lan, Public, Screen Compose...</td>\n      <td>2021-09-15</td>\n      <td>2021-09-15</td>\n      <td>Thailand cash</td>\n      <td>$100</td>\n      <td>...</td>\n      <td>Sep 15</td>\n      <td>2021</td>\n      <td>Voice skills</td>\n      <td>$0</td>\n      <td>0</td>\n      <td>False</td>\n      <td>Screen Composers Guild of Canada &amp; SOCAN</td>\n      <td>True</td>\n      <td>https://thailand-champion-13627.devpost.com/pr...</td>\n      <td>https://thailand-champion-13627.devpost.com/ch...</td>\n    </tr>\n    <tr>\n      <th>7052</th>\n      <td>7079</td>\n      <td>https://manager-hackathon.devpost.com/</td>\n      <td>Firts criteria</td>\n      <td>no schedule</td>\n      <td>Public</td>\n      <td>Aug 9, 2021, Việt Nam, Public, Girls Who Code ...</td>\n      <td>2021-08-09</td>\n      <td>2021-08-09</td>\n      <td>1</td>\n      <td>$1</td>\n      <td>...</td>\n      <td>Aug 09</td>\n      <td>2021</td>\n      <td>Voice skills</td>\n      <td>$0</td>\n      <td>0</td>\n      <td>False</td>\n      <td>Girls Who Code UVA</td>\n      <td>True</td>\n      <td>https://manager-hackathon.devpost.com/project-...</td>\n      <td>https://manager-hackathon.devpost.com/challeng...</td>\n    </tr>\n  </tbody>\n</table>\n<p>7053 rows × 24 columns</p>\n</div>"
     },
     "execution_count": 56,
     "metadata": {},
     "output_type": "execute_result"
    }
   ],
   "source": [
    "print('Hackathon dataframe columns: ', hackathons.columns)\n",
    "hackathons"
   ],
   "metadata": {
    "collapsed": false,
    "ExecuteTime": {
     "end_time": "2024-02-12T16:34:38.008436Z",
     "start_time": "2024-02-12T16:34:38.000526Z"
    }
   }
  },
  {
   "cell_type": "code",
   "execution_count": 57,
   "outputs": [
    {
     "name": "stdout",
     "output_type": "stream",
     "text": [
      "Participants dataframe columns:  Index(['Unnamed: 0', 'name', 'skills', 'info', 'country', 'url'], dtype='object')\n"
     ]
    },
    {
     "data": {
      "text/plain": "        Unnamed: 0                               name  \\\n0                0                      Gerd Wittchen   \n1                1                      Det. BumstΞad   \n2                2                    0xNuggan Nuggan   \n3                3                        Timepunk M.   \n4                4                         0xaaash Li   \n...            ...                                ...   \n282272      282272                         Eric Zhang   \n282273      282273                          Marko Zel   \n282274      282274                        Mengmiao Wu   \n282275      282275                         Zephyr Yao   \n282276      282276  zzzzzzzzzzzzzzzzzzzzzzzzzzzzzzzzz   \n\n                                                   skills  \\\n0                        solidity, python, react, node.js   \n1                  solidity, brownie, python, react, web3   \n2                                        python, solidity   \n3       solidity, hardhat, thegraph, typechain, typesc...   \n4                                                  python   \n...                                                   ...   \n282272                            javascript, python, c++   \n282273                     ios, cocoapods, swift, ibeacon   \n282274                                                Nan   \n282275  android, python, verilog, c, c++, kernel, brow...   \n282276                                      stanning-day6   \n\n                                                     info  \\\n0       1 Project, 1 Hackathon, 1 Achievement, 1 Follo...   \n1       1 Project, 1 Hackathon, 1 Achievement, 0 Follo...   \n2       2 Projects, 3 Hackathons, 1 Achievement, 2 Fol...   \n3       2 Projects, 2 Hackathons, 4 Achievements, 1 Fo...   \n4       1 Project, 1 Hackathon, 1 Achievement, 0 Follo...   \n...                                                   ...   \n282272  1 Project, 1 Hackathon, 4 Achievements, 0 Foll...   \n282273  1 Project, 1 Hackathon, 4 Achievements, 3 Foll...   \n282274  1 Project, 1 Hackathon, 2 Achievements, 1 Foll...   \n282275  2 Projects, 5 Hackathons, 8 Achievements, 0 Fo...   \n282276  1 Project, 0 Hackathons, 2 Achievements, 0 Fol...   \n\n                                   country                             url  \n0       Sydney, New South Wales, Australia    https://devpost.com/0x1NotMe  \n1                                  Francja  https://devpost.com/0xBumstead  \n2                                  Germany    https://devpost.com/0xNuggan  \n3                                 Portugal  https://devpost.com/0xTimepunk  \n4                                       中国     https://devpost.com/0xaaash  \n...                                    ...                             ...  \n282272       Houston, Texas, United States                             NaN  \n282273             Berlin, Berlin, Germany                             NaN  \n282274            Montreal, Quebec, Canada                             NaN  \n282275   Irvine, California, United States                             NaN  \n282276             Ottawa, Ontario, Canada                             NaN  \n\n[282277 rows x 6 columns]",
      "text/html": "<div>\n<style scoped>\n    .dataframe tbody tr th:only-of-type {\n        vertical-align: middle;\n    }\n\n    .dataframe tbody tr th {\n        vertical-align: top;\n    }\n\n    .dataframe thead th {\n        text-align: right;\n    }\n</style>\n<table border=\"1\" class=\"dataframe\">\n  <thead>\n    <tr style=\"text-align: right;\">\n      <th></th>\n      <th>Unnamed: 0</th>\n      <th>name</th>\n      <th>skills</th>\n      <th>info</th>\n      <th>country</th>\n      <th>url</th>\n    </tr>\n  </thead>\n  <tbody>\n    <tr>\n      <th>0</th>\n      <td>0</td>\n      <td>Gerd Wittchen</td>\n      <td>solidity, python, react, node.js</td>\n      <td>1 Project, 1 Hackathon, 1 Achievement, 1 Follo...</td>\n      <td>Sydney, New South Wales, Australia</td>\n      <td>https://devpost.com/0x1NotMe</td>\n    </tr>\n    <tr>\n      <th>1</th>\n      <td>1</td>\n      <td>Det. BumstΞad</td>\n      <td>solidity, brownie, python, react, web3</td>\n      <td>1 Project, 1 Hackathon, 1 Achievement, 0 Follo...</td>\n      <td>Francja</td>\n      <td>https://devpost.com/0xBumstead</td>\n    </tr>\n    <tr>\n      <th>2</th>\n      <td>2</td>\n      <td>0xNuggan Nuggan</td>\n      <td>python, solidity</td>\n      <td>2 Projects, 3 Hackathons, 1 Achievement, 2 Fol...</td>\n      <td>Germany</td>\n      <td>https://devpost.com/0xNuggan</td>\n    </tr>\n    <tr>\n      <th>3</th>\n      <td>3</td>\n      <td>Timepunk M.</td>\n      <td>solidity, hardhat, thegraph, typechain, typesc...</td>\n      <td>2 Projects, 2 Hackathons, 4 Achievements, 1 Fo...</td>\n      <td>Portugal</td>\n      <td>https://devpost.com/0xTimepunk</td>\n    </tr>\n    <tr>\n      <th>4</th>\n      <td>4</td>\n      <td>0xaaash Li</td>\n      <td>python</td>\n      <td>1 Project, 1 Hackathon, 1 Achievement, 0 Follo...</td>\n      <td>中国</td>\n      <td>https://devpost.com/0xaaash</td>\n    </tr>\n    <tr>\n      <th>...</th>\n      <td>...</td>\n      <td>...</td>\n      <td>...</td>\n      <td>...</td>\n      <td>...</td>\n      <td>...</td>\n    </tr>\n    <tr>\n      <th>282272</th>\n      <td>282272</td>\n      <td>Eric Zhang</td>\n      <td>javascript, python, c++</td>\n      <td>1 Project, 1 Hackathon, 4 Achievements, 0 Foll...</td>\n      <td>Houston, Texas, United States</td>\n      <td>NaN</td>\n    </tr>\n    <tr>\n      <th>282273</th>\n      <td>282273</td>\n      <td>Marko Zel</td>\n      <td>ios, cocoapods, swift, ibeacon</td>\n      <td>1 Project, 1 Hackathon, 4 Achievements, 3 Foll...</td>\n      <td>Berlin, Berlin, Germany</td>\n      <td>NaN</td>\n    </tr>\n    <tr>\n      <th>282274</th>\n      <td>282274</td>\n      <td>Mengmiao Wu</td>\n      <td>Nan</td>\n      <td>1 Project, 1 Hackathon, 2 Achievements, 1 Foll...</td>\n      <td>Montreal, Quebec, Canada</td>\n      <td>NaN</td>\n    </tr>\n    <tr>\n      <th>282275</th>\n      <td>282275</td>\n      <td>Zephyr Yao</td>\n      <td>android, python, verilog, c, c++, kernel, brow...</td>\n      <td>2 Projects, 5 Hackathons, 8 Achievements, 0 Fo...</td>\n      <td>Irvine, California, United States</td>\n      <td>NaN</td>\n    </tr>\n    <tr>\n      <th>282276</th>\n      <td>282276</td>\n      <td>zzzzzzzzzzzzzzzzzzzzzzzzzzzzzzzzz</td>\n      <td>stanning-day6</td>\n      <td>1 Project, 0 Hackathons, 2 Achievements, 0 Fol...</td>\n      <td>Ottawa, Ontario, Canada</td>\n      <td>NaN</td>\n    </tr>\n  </tbody>\n</table>\n<p>282277 rows × 6 columns</p>\n</div>"
     },
     "execution_count": 57,
     "metadata": {},
     "output_type": "execute_result"
    }
   ],
   "source": [
    "print('Participants dataframe columns: ', participants.columns)\n",
    "participants"
   ],
   "metadata": {
    "collapsed": false,
    "ExecuteTime": {
     "end_time": "2024-02-12T16:34:38.043308Z",
     "start_time": "2024-02-12T16:34:38.009899Z"
    }
   }
  },
  {
   "cell_type": "code",
   "execution_count": 58,
   "outputs": [
    {
     "name": "stdout",
     "output_type": "stream",
     "text": [
      "Participants_links dataframe columns:  Index(['url', 'name', 'website', 'github', 'twitter', 'address', 'skills',\n",
      "       'interests'],\n",
      "      dtype='object')\n"
     ]
    },
    {
     "data": {
      "text/plain": "                                        url              name  \\\n0           https://devpost.com/CraigHiller      Craig Hiller   \n1              https://devpost.com/asheleby    Andrew Sheleby   \n2             https://devpost.com/evanho239           Evan Ho   \n3         https://devpost.com/mag97palacios  Magnolia Quezada   \n4          https://devpost.com/vivekvjk2020  Vivek Vijaykumar   \n...                                     ...               ...   \n191633  https://devpost.com/amulyagarimella  Amulya Garimella   \n191634       https://devpost.com/hiennguyen       hien nguyen   \n191635  https://devpost.com/daironrodriguez  Dairon Rodriguez   \n191636         https://devpost.com/brentmin         Brent Min   \n191637    https://devpost.com/JoaquinMelara    Joaquin Melara   \n\n                                   website  \\\n0                                      NaN   \n1                                      NaN   \n2                                      NaN   \n3                                      NaN   \n4              https://github.com/vivekvjk   \n...                                    ...   \n191633  https://amulyagarimella.github.io/   \n191634                                 NaN   \n191635  https://github.com/daironrodriguez   \n191636         https://github.com/brentmin   \n191637                                 NaN   \n\n                                    github twitter          address  \\\n0                                      NaN     NaN              NaN   \n1                                      NaN     NaN    United States   \n2                                      NaN     NaN    United States   \n3                                      NaN     NaN              NaN   \n4              https://github.com/vivekvjk     NaN    United States   \n...                                    ...     ...              ...   \n191633  https://github.com/amulyagarimella     NaN    United States   \n191634       https://github.com/HienNguyen     NaN   United Kingdom   \n191635  https://github.com/daironrodriguez     NaN    United States   \n191636         https://github.com/brentmin     NaN    United States   \n191637                                 NaN     NaN               US   \n\n                                                   skills  \\\n0                                                     NaN   \n1              wordpress|python|tableau|excel|Blockchain|   \n2       java|c++|javascript|angular.js|css|html|Blockc...   \n3                                                     NaN   \n4                        html|java|css|python|javascript|   \n...                                                   ...   \n191633  web|react|python|flask|html5|websockets|node.j...   \n191634  javascript|java|machine-learning|c|python|Bloc...   \n191635                               java|c++|Blockchain|   \n191636  python|pandas|scikit-learn|java|javascript|htm...   \n191637                                                NaN   \n\n                                                interests  \n0                                                     NaN  \n1       AR/VR|Blockchain|Communication|Cybersecurity|D...  \n2       Beginner Friendly|Blockchain|Cybersecurity|Des...  \n3                                                     NaN  \n4                                                     NaN  \n...                                                   ...  \n191633  Beginner Friendly|Design|Education|Health|Mach...  \n191634  Blockchain|AR/VR|DevOps|Fintech|Gaming|IoT|Mac...  \n191635  AR/VR|Blockchain|Cybersecurity|DevOps|IoT|Life...  \n191636                               Machine Learning/AI|  \n191637                                                NaN  \n\n[191638 rows x 8 columns]",
      "text/html": "<div>\n<style scoped>\n    .dataframe tbody tr th:only-of-type {\n        vertical-align: middle;\n    }\n\n    .dataframe tbody tr th {\n        vertical-align: top;\n    }\n\n    .dataframe thead th {\n        text-align: right;\n    }\n</style>\n<table border=\"1\" class=\"dataframe\">\n  <thead>\n    <tr style=\"text-align: right;\">\n      <th></th>\n      <th>url</th>\n      <th>name</th>\n      <th>website</th>\n      <th>github</th>\n      <th>twitter</th>\n      <th>address</th>\n      <th>skills</th>\n      <th>interests</th>\n    </tr>\n  </thead>\n  <tbody>\n    <tr>\n      <th>0</th>\n      <td>https://devpost.com/CraigHiller</td>\n      <td>Craig Hiller</td>\n      <td>NaN</td>\n      <td>NaN</td>\n      <td>NaN</td>\n      <td>NaN</td>\n      <td>NaN</td>\n      <td>NaN</td>\n    </tr>\n    <tr>\n      <th>1</th>\n      <td>https://devpost.com/asheleby</td>\n      <td>Andrew Sheleby</td>\n      <td>NaN</td>\n      <td>NaN</td>\n      <td>NaN</td>\n      <td>United States</td>\n      <td>wordpress|python|tableau|excel|Blockchain|</td>\n      <td>AR/VR|Blockchain|Communication|Cybersecurity|D...</td>\n    </tr>\n    <tr>\n      <th>2</th>\n      <td>https://devpost.com/evanho239</td>\n      <td>Evan Ho</td>\n      <td>NaN</td>\n      <td>NaN</td>\n      <td>NaN</td>\n      <td>United States</td>\n      <td>java|c++|javascript|angular.js|css|html|Blockc...</td>\n      <td>Beginner Friendly|Blockchain|Cybersecurity|Des...</td>\n    </tr>\n    <tr>\n      <th>3</th>\n      <td>https://devpost.com/mag97palacios</td>\n      <td>Magnolia Quezada</td>\n      <td>NaN</td>\n      <td>NaN</td>\n      <td>NaN</td>\n      <td>NaN</td>\n      <td>NaN</td>\n      <td>NaN</td>\n    </tr>\n    <tr>\n      <th>4</th>\n      <td>https://devpost.com/vivekvjk2020</td>\n      <td>Vivek Vijaykumar</td>\n      <td>https://github.com/vivekvjk</td>\n      <td>https://github.com/vivekvjk</td>\n      <td>NaN</td>\n      <td>United States</td>\n      <td>html|java|css|python|javascript|</td>\n      <td>NaN</td>\n    </tr>\n    <tr>\n      <th>...</th>\n      <td>...</td>\n      <td>...</td>\n      <td>...</td>\n      <td>...</td>\n      <td>...</td>\n      <td>...</td>\n      <td>...</td>\n      <td>...</td>\n    </tr>\n    <tr>\n      <th>191633</th>\n      <td>https://devpost.com/amulyagarimella</td>\n      <td>Amulya Garimella</td>\n      <td>https://amulyagarimella.github.io/</td>\n      <td>https://github.com/amulyagarimella</td>\n      <td>NaN</td>\n      <td>United States</td>\n      <td>web|react|python|flask|html5|websockets|node.j...</td>\n      <td>Beginner Friendly|Design|Education|Health|Mach...</td>\n    </tr>\n    <tr>\n      <th>191634</th>\n      <td>https://devpost.com/hiennguyen</td>\n      <td>hien nguyen</td>\n      <td>NaN</td>\n      <td>https://github.com/HienNguyen</td>\n      <td>NaN</td>\n      <td>United Kingdom</td>\n      <td>javascript|java|machine-learning|c|python|Bloc...</td>\n      <td>Blockchain|AR/VR|DevOps|Fintech|Gaming|IoT|Mac...</td>\n    </tr>\n    <tr>\n      <th>191635</th>\n      <td>https://devpost.com/daironrodriguez</td>\n      <td>Dairon Rodriguez</td>\n      <td>https://github.com/daironrodriguez</td>\n      <td>https://github.com/daironrodriguez</td>\n      <td>NaN</td>\n      <td>United States</td>\n      <td>java|c++|Blockchain|</td>\n      <td>AR/VR|Blockchain|Cybersecurity|DevOps|IoT|Life...</td>\n    </tr>\n    <tr>\n      <th>191636</th>\n      <td>https://devpost.com/brentmin</td>\n      <td>Brent Min</td>\n      <td>https://github.com/brentmin</td>\n      <td>https://github.com/brentmin</td>\n      <td>NaN</td>\n      <td>United States</td>\n      <td>python|pandas|scikit-learn|java|javascript|htm...</td>\n      <td>Machine Learning/AI|</td>\n    </tr>\n    <tr>\n      <th>191637</th>\n      <td>https://devpost.com/JoaquinMelara</td>\n      <td>Joaquin Melara</td>\n      <td>NaN</td>\n      <td>NaN</td>\n      <td>NaN</td>\n      <td>US</td>\n      <td>NaN</td>\n      <td>NaN</td>\n    </tr>\n  </tbody>\n</table>\n<p>191638 rows × 8 columns</p>\n</div>"
     },
     "execution_count": 58,
     "metadata": {},
     "output_type": "execute_result"
    }
   ],
   "source": [
    "print('Participants_links dataframe columns: ', participants_links.columns)\n",
    "participants_links"
   ],
   "metadata": {
    "collapsed": false,
    "ExecuteTime": {
     "end_time": "2024-02-12T16:34:38.043815Z",
     "start_time": "2024-02-12T16:34:38.022634Z"
    }
   }
  },
  {
   "cell_type": "code",
   "execution_count": 59,
   "outputs": [
    {
     "name": "stdout",
     "output_type": "stream",
     "text": [
      "Projects dataframe columns:  Index(['Unnamed: 0', 'submission_gal_url', 'project_URL', 'github_links',\n",
      "       'participants', 'participants_num', 'build_with', 'repo_link', 'repo',\n",
      "       'submitted_to_link', 'submitted_to_name', 'submitted_to_hacks_num',\n",
      "       'likes', 'comments'],\n",
      "      dtype='object')\n"
     ]
    },
    {
     "data": {
      "text/plain": "        Unnamed: 0                             submission_gal_url  \\\n0                0  https://supernova.devpost.com/project-gallery   \n1                1  https://supernova.devpost.com/project-gallery   \n2                2  https://supernova.devpost.com/project-gallery   \n3                3  https://supernova.devpost.com/project-gallery   \n4                4  https://supernova.devpost.com/project-gallery   \n...            ...                                            ...   \n303675      303675    https://fgtfrgf.devpost.com/project-gallery   \n303676      303676  https://old-hacks.devpost.com/project-gallery   \n303677      303677  https://old-hacks.devpost.com/project-gallery   \n303678      303678  https://old-hacks.devpost.com/project-gallery   \n303679      303679  https://old-hacks.devpost.com/project-gallery   \n\n                                          project_URL  \\\n0                https://devpost.com/software/faefolk   \n1             https://devpost.com/software/hls-nzcdmt   \n2       https://devpost.com/software/ic-map-collector   \n3             https://devpost.com/software/kontribute   \n4              https://devpost.com/software/fish-tank   \n...                                               ...   \n303675     https://devpost.com/software/ai-bot-avgusc   \n303676       https://devpost.com/software/test-on657c   \n303677    https://devpost.com/software/testing-xp1svc   \n303678       https://devpost.com/software/test-on657c   \n303679    https://devpost.com/software/testing-xp1svc   \n\n                                             github_links  \\\n0       https://github.com/ICCards/faefolk, https://gi...   \n1                             https://github.com/Hls-labs   \n2                     https://github.com/stumpigit/icmaps   \n3       https://github.com/teambonsai/bonsai_dapp/blob...   \n4                                                     NaN   \n...                                                   ...   \n303675                                                NaN   \n303676                                                NaN   \n303677                                                NaN   \n303678                                                NaN   \n303679                                                NaN   \n\n                                             participants participants_num  \\\n0       https://devpost.com/RAW4RMCS, https://devpost....                3   \n1       https://devpost.com/Domexx, https://devpost.co...                3   \n2                           https://devpost.com/stumpigit                1   \n3       https://devpost.com/TsuDohNimhh, https://devpo...                2   \n4                      https://devpost.com/rusty-scrivens                1   \n...                                                   ...              ...   \n303675                https://devpost.com/jamesnguyentech                1   \n303676                      https://devpost.com/d15neylyf                1   \n303677                      https://devpost.com/d15neylyf                1   \n303678                      https://devpost.com/d15neylyf                1   \n303679                      https://devpost.com/d15neylyf                1   \n\n                                               build_with  \\\n0                       gdscript, godot, ic, motoko, rust   \n1       after-effects, astro, figma, motoko, nextjs, r...   \n2       motoko, ogc, openlayers, openstreetmap, svelte...   \n3                                      icp, motoko, react   \n4                           css, html, javascript, motoko   \n...                                                   ...   \n303675                                         javascript   \n303676                                             heroku   \n303677                                               java   \n303678                                             heroku   \n303679                                               java   \n\n                                                repo_link  \\\n0       https://ge5fs-qyaaa-aaaap-qam6a-cai.raw.ic0.ap...   \n1       https://cdugx-tqaaa-aaaad-qct4a-cai.ic.fleek.c...   \n2       https://icmaps.org, https://icmaps.org, https:...   \n3       https://3ezq7-iqaaa-aaaal-aaacq-cai.raw.ic0.ap...   \n4       https://k4iro-6yaaa-aaaai-aboza-cai.raw.ic0.ap...   \n...                                                   ...   \n303675                                                Nan   \n303676                                                Nan   \n303677                                                Nan   \n303678                                                Nan   \n303679                                                Nan   \n\n                                                     repo  \\\n0       ge5fs-qyaaa-aaaap-qam6a-cai.raw.ic0.app, ge5fs...   \n1       cdugx-tqaaa-aaaad-qct4a-cai.ic.fleek.co, cdugx...   \n2                      icmaps.org, icmaps.org, icmaps.org   \n3       3ezq7-iqaaa-aaaal-aaacq-cai.raw.ic0.app, 3ezq7...   \n4       k4iro-6yaaa-aaaai-aboza-cai.raw.ic0.app, k4iro...   \n...                                                   ...   \n303675                                                Nan   \n303676                                                Nan   \n303677                                                Nan   \n303678                                                Nan   \n303679                                                Nan   \n\n                     submitted_to_link         submitted_to_name  \\\n0       https://supernova.devpost.com/                 Supernova   \n1       https://supernova.devpost.com/                 Supernova   \n2       https://supernova.devpost.com/                 Supernova   \n3       https://supernova.devpost.com/                 Supernova   \n4       https://supernova.devpost.com/                 Supernova   \n...                                ...                       ...   \n303675    https://fgtfrgf.devpost.com/  AI Apps - Hackathon 2021   \n303676  https://old-hacks.devpost.com/                 Old Hacks   \n303677  https://old-hacks.devpost.com/                 Old Hacks   \n303678  https://old-hacks.devpost.com/                 Old Hacks   \n303679  https://old-hacks.devpost.com/                 Old Hacks   \n\n        submitted_to_hacks_num  likes  comments  \n0                          1.0     17         2  \n1                          1.0      9         1  \n2                          1.0     22         3  \n3                          1.0     25         9  \n4                          1.0      2         2  \n...                        ...    ...       ...  \n303675                     1.0      0         0  \n303676                     1.0      0         0  \n303677                     1.0      0         0  \n303678                     1.0      0         0  \n303679                     1.0      0         0  \n\n[303680 rows x 14 columns]",
      "text/html": "<div>\n<style scoped>\n    .dataframe tbody tr th:only-of-type {\n        vertical-align: middle;\n    }\n\n    .dataframe tbody tr th {\n        vertical-align: top;\n    }\n\n    .dataframe thead th {\n        text-align: right;\n    }\n</style>\n<table border=\"1\" class=\"dataframe\">\n  <thead>\n    <tr style=\"text-align: right;\">\n      <th></th>\n      <th>Unnamed: 0</th>\n      <th>submission_gal_url</th>\n      <th>project_URL</th>\n      <th>github_links</th>\n      <th>participants</th>\n      <th>participants_num</th>\n      <th>build_with</th>\n      <th>repo_link</th>\n      <th>repo</th>\n      <th>submitted_to_link</th>\n      <th>submitted_to_name</th>\n      <th>submitted_to_hacks_num</th>\n      <th>likes</th>\n      <th>comments</th>\n    </tr>\n  </thead>\n  <tbody>\n    <tr>\n      <th>0</th>\n      <td>0</td>\n      <td>https://supernova.devpost.com/project-gallery</td>\n      <td>https://devpost.com/software/faefolk</td>\n      <td>https://github.com/ICCards/faefolk, https://gi...</td>\n      <td>https://devpost.com/RAW4RMCS, https://devpost....</td>\n      <td>3</td>\n      <td>gdscript, godot, ic, motoko, rust</td>\n      <td>https://ge5fs-qyaaa-aaaap-qam6a-cai.raw.ic0.ap...</td>\n      <td>ge5fs-qyaaa-aaaap-qam6a-cai.raw.ic0.app, ge5fs...</td>\n      <td>https://supernova.devpost.com/</td>\n      <td>Supernova</td>\n      <td>1.0</td>\n      <td>17</td>\n      <td>2</td>\n    </tr>\n    <tr>\n      <th>1</th>\n      <td>1</td>\n      <td>https://supernova.devpost.com/project-gallery</td>\n      <td>https://devpost.com/software/hls-nzcdmt</td>\n      <td>https://github.com/Hls-labs</td>\n      <td>https://devpost.com/Domexx, https://devpost.co...</td>\n      <td>3</td>\n      <td>after-effects, astro, figma, motoko, nextjs, r...</td>\n      <td>https://cdugx-tqaaa-aaaad-qct4a-cai.ic.fleek.c...</td>\n      <td>cdugx-tqaaa-aaaad-qct4a-cai.ic.fleek.co, cdugx...</td>\n      <td>https://supernova.devpost.com/</td>\n      <td>Supernova</td>\n      <td>1.0</td>\n      <td>9</td>\n      <td>1</td>\n    </tr>\n    <tr>\n      <th>2</th>\n      <td>2</td>\n      <td>https://supernova.devpost.com/project-gallery</td>\n      <td>https://devpost.com/software/ic-map-collector</td>\n      <td>https://github.com/stumpigit/icmaps</td>\n      <td>https://devpost.com/stumpigit</td>\n      <td>1</td>\n      <td>motoko, ogc, openlayers, openstreetmap, svelte...</td>\n      <td>https://icmaps.org, https://icmaps.org, https:...</td>\n      <td>icmaps.org, icmaps.org, icmaps.org</td>\n      <td>https://supernova.devpost.com/</td>\n      <td>Supernova</td>\n      <td>1.0</td>\n      <td>22</td>\n      <td>3</td>\n    </tr>\n    <tr>\n      <th>3</th>\n      <td>3</td>\n      <td>https://supernova.devpost.com/project-gallery</td>\n      <td>https://devpost.com/software/kontribute</td>\n      <td>https://github.com/teambonsai/bonsai_dapp/blob...</td>\n      <td>https://devpost.com/TsuDohNimhh, https://devpo...</td>\n      <td>2</td>\n      <td>icp, motoko, react</td>\n      <td>https://3ezq7-iqaaa-aaaal-aaacq-cai.raw.ic0.ap...</td>\n      <td>3ezq7-iqaaa-aaaal-aaacq-cai.raw.ic0.app, 3ezq7...</td>\n      <td>https://supernova.devpost.com/</td>\n      <td>Supernova</td>\n      <td>1.0</td>\n      <td>25</td>\n      <td>9</td>\n    </tr>\n    <tr>\n      <th>4</th>\n      <td>4</td>\n      <td>https://supernova.devpost.com/project-gallery</td>\n      <td>https://devpost.com/software/fish-tank</td>\n      <td>NaN</td>\n      <td>https://devpost.com/rusty-scrivens</td>\n      <td>1</td>\n      <td>css, html, javascript, motoko</td>\n      <td>https://k4iro-6yaaa-aaaai-aboza-cai.raw.ic0.ap...</td>\n      <td>k4iro-6yaaa-aaaai-aboza-cai.raw.ic0.app, k4iro...</td>\n      <td>https://supernova.devpost.com/</td>\n      <td>Supernova</td>\n      <td>1.0</td>\n      <td>2</td>\n      <td>2</td>\n    </tr>\n    <tr>\n      <th>...</th>\n      <td>...</td>\n      <td>...</td>\n      <td>...</td>\n      <td>...</td>\n      <td>...</td>\n      <td>...</td>\n      <td>...</td>\n      <td>...</td>\n      <td>...</td>\n      <td>...</td>\n      <td>...</td>\n      <td>...</td>\n      <td>...</td>\n      <td>...</td>\n    </tr>\n    <tr>\n      <th>303675</th>\n      <td>303675</td>\n      <td>https://fgtfrgf.devpost.com/project-gallery</td>\n      <td>https://devpost.com/software/ai-bot-avgusc</td>\n      <td>NaN</td>\n      <td>https://devpost.com/jamesnguyentech</td>\n      <td>1</td>\n      <td>javascript</td>\n      <td>Nan</td>\n      <td>Nan</td>\n      <td>https://fgtfrgf.devpost.com/</td>\n      <td>AI Apps - Hackathon 2021</td>\n      <td>1.0</td>\n      <td>0</td>\n      <td>0</td>\n    </tr>\n    <tr>\n      <th>303676</th>\n      <td>303676</td>\n      <td>https://old-hacks.devpost.com/project-gallery</td>\n      <td>https://devpost.com/software/test-on657c</td>\n      <td>NaN</td>\n      <td>https://devpost.com/d15neylyf</td>\n      <td>1</td>\n      <td>heroku</td>\n      <td>Nan</td>\n      <td>Nan</td>\n      <td>https://old-hacks.devpost.com/</td>\n      <td>Old Hacks</td>\n      <td>1.0</td>\n      <td>0</td>\n      <td>0</td>\n    </tr>\n    <tr>\n      <th>303677</th>\n      <td>303677</td>\n      <td>https://old-hacks.devpost.com/project-gallery</td>\n      <td>https://devpost.com/software/testing-xp1svc</td>\n      <td>NaN</td>\n      <td>https://devpost.com/d15neylyf</td>\n      <td>1</td>\n      <td>java</td>\n      <td>Nan</td>\n      <td>Nan</td>\n      <td>https://old-hacks.devpost.com/</td>\n      <td>Old Hacks</td>\n      <td>1.0</td>\n      <td>0</td>\n      <td>0</td>\n    </tr>\n    <tr>\n      <th>303678</th>\n      <td>303678</td>\n      <td>https://old-hacks.devpost.com/project-gallery</td>\n      <td>https://devpost.com/software/test-on657c</td>\n      <td>NaN</td>\n      <td>https://devpost.com/d15neylyf</td>\n      <td>1</td>\n      <td>heroku</td>\n      <td>Nan</td>\n      <td>Nan</td>\n      <td>https://old-hacks.devpost.com/</td>\n      <td>Old Hacks</td>\n      <td>1.0</td>\n      <td>0</td>\n      <td>0</td>\n    </tr>\n    <tr>\n      <th>303679</th>\n      <td>303679</td>\n      <td>https://old-hacks.devpost.com/project-gallery</td>\n      <td>https://devpost.com/software/testing-xp1svc</td>\n      <td>NaN</td>\n      <td>https://devpost.com/d15neylyf</td>\n      <td>1</td>\n      <td>java</td>\n      <td>Nan</td>\n      <td>Nan</td>\n      <td>https://old-hacks.devpost.com/</td>\n      <td>Old Hacks</td>\n      <td>1.0</td>\n      <td>0</td>\n      <td>0</td>\n    </tr>\n  </tbody>\n</table>\n<p>303680 rows × 14 columns</p>\n</div>"
     },
     "execution_count": 59,
     "metadata": {},
     "output_type": "execute_result"
    }
   ],
   "source": [
    "print('Projects dataframe columns: ', projects.columns)\n",
    "projects"
   ],
   "metadata": {
    "collapsed": false,
    "ExecuteTime": {
     "end_time": "2024-02-12T16:34:38.093856Z",
     "start_time": "2024-02-12T16:34:38.037322Z"
    }
   }
  },
  {
   "cell_type": "markdown",
   "source": [
    "### Descriptive statistics"
   ],
   "metadata": {
    "collapsed": false
   }
  },
  {
   "cell_type": "code",
   "execution_count": 60,
   "outputs": [
    {
     "name": "stdout",
     "output_type": "stream",
     "text": [
      "Hackathons Missing Values:\n",
      "Index(['Criteria', 'Prizes', 'Title', 'Location', 'start_date', 'themes',\n",
      "       'organization_name'],\n",
      "      dtype='object')\n",
      "\n",
      "Participants Missing Values:\n",
      "Index(['skills', 'url'], dtype='object')\n",
      "\n",
      "Participants Links Missing Values:\n",
      "Index(['website', 'github', 'twitter', 'address', 'skills', 'interests'], dtype='object')\n",
      "\n",
      "Projects Missing Values:\n",
      "Index(['github_links', 'participants', 'build_with', 'repo',\n",
      "       'submitted_to_hacks_num'],\n",
      "      dtype='object')\n"
     ]
    }
   ],
   "source": [
    "# Display columns with missing values for each dataframe\n",
    "print(\"Hackathons Missing Values:\")\n",
    "print(hackathons.columns[hackathons.isnull().any()])\n",
    "\n",
    "print(\"\\nParticipants Missing Values:\")\n",
    "print(participants.columns[participants.isnull().any()])\n",
    "\n",
    "print(\"\\nParticipants Links Missing Values:\")\n",
    "print(participants_links.columns[participants_links.isnull().any()])\n",
    "\n",
    "print(\"\\nProjects Missing Values:\")\n",
    "print(projects.columns[projects.isnull().any()])\n"
   ],
   "metadata": {
    "collapsed": false,
    "ExecuteTime": {
     "end_time": "2024-02-12T16:34:38.631513Z",
     "start_time": "2024-02-12T16:34:38.050451Z"
    }
   }
  },
  {
   "cell_type": "markdown",
   "source": [
    "#### Count of missing values for each column in all the 4 dataframes"
   ],
   "metadata": {
    "collapsed": false
   }
  },
  {
   "cell_type": "code",
   "execution_count": 61,
   "outputs": [
    {
     "name": "stdout",
     "output_type": "stream",
     "text": [
      "Hackathons Missing Values Count:\n",
      "Criteria               40\n",
      "Prizes                 50\n",
      "Title                   1\n",
      "Location              157\n",
      "start_date           1128\n",
      "themes               4319\n",
      "organization_name    5088\n",
      "dtype: int64\n",
      "\n",
      "Participants Missing Values Count:\n",
      "skills       182\n",
      "url       280473\n",
      "dtype: int64\n",
      "\n",
      "Participant_links Missing Values Count:\n",
      "website      108960\n",
      "github       106011\n",
      "twitter      179342\n",
      "address       38252\n",
      "skills        40265\n",
      "interests     99880\n",
      "dtype: int64\n",
      "\n",
      "Projects Missing Values Count:\n",
      "github_links              145720\n",
      "participants                5479\n",
      "build_with                 19447\n",
      "repo                           2\n",
      "submitted_to_hacks_num      3485\n",
      "dtype: int64\n"
     ]
    }
   ],
   "source": [
    "# Function to display count of missing values for each column in a given dataframe\n",
    "def print_missing_values_count(df):\n",
    "    missing_values_count = df.isnull().sum()\n",
    "    print(missing_values_count[missing_values_count > 0])\n",
    "\n",
    "# Display count of missing values for each column in the 'hackathons' dataframe\n",
    "print(\"Hackathons Missing Values Count:\")\n",
    "print_missing_values_count(hackathons)\n",
    "\n",
    "print(\"\\nParticipants Missing Values Count:\")\n",
    "print_missing_values_count(participants)\n",
    "\n",
    "print(\"\\nParticipant_links Missing Values Count:\")\n",
    "print_missing_values_count(participants_links)\n",
    "\n",
    "print(\"\\nProjects Missing Values Count:\")\n",
    "print_missing_values_count(projects)"
   ],
   "metadata": {
    "collapsed": false,
    "ExecuteTime": {
     "end_time": "2024-02-12T16:34:39.201218Z",
     "start_time": "2024-02-12T16:34:38.646024Z"
    }
   }
  },
  {
   "cell_type": "code",
   "execution_count": 62,
   "outputs": [],
   "source": [
    "# Function to display columns with missing values for a given dataframe\n",
    "def print_columns_with_missing_values(df):\n",
    "    columns_with_missing_values = df.columns[df.isnull().any()]\n",
    "    print(df[columns_with_missing_values])"
   ],
   "metadata": {
    "collapsed": false,
    "ExecuteTime": {
     "end_time": "2024-02-12T16:34:39.204612Z",
     "start_time": "2024-02-12T16:34:39.202511Z"
    }
   }
  },
  {
   "cell_type": "markdown",
   "source": [
    "Prints the **all the rows** for the columns that contain **at least one missing value.**"
   ],
   "metadata": {
    "collapsed": false
   }
  },
  {
   "cell_type": "code",
   "execution_count": 63,
   "outputs": [
    {
     "name": "stdout",
     "output_type": "stream",
     "text": [
      "Hackathons Rows with Missing Values:\n",
      "                                               Criteria  \\\n",
      "0     Gesellschaftlicher Mehrwert, Innovationsgrad, ...   \n",
      "1     Potential impact of the project, Technical exe...   \n",
      "2     X Factor and Potential, Technical Competence, ...   \n",
      "3     Design           |             التصميم, Simpli...   \n",
      "4     User Experience / User Interface, Originality ...   \n",
      "...                                                 ...   \n",
      "7048                                              biden   \n",
      "7049                   Criteria 1, Criteria 1, criteria   \n",
      "7050                                                TBA   \n",
      "7051                                              biden   \n",
      "7052                                     Firts criteria   \n",
      "\n",
      "                                                 Prizes  \\\n",
      "0     Euer Preis ist Anerkennung und Ehre!, Habt Spa...   \n",
      "1                                        Overall Winner   \n",
      "2     SocialFi - 1ST PLACE, SocialFi - 2ND PLACE, So...   \n",
      "3     1st place: 1 million Saudi Riyal (15% equity i...   \n",
      "4     Chainlink Grand Prize - $40,000, Chainlink NFT...   \n",
      "...                                                 ...   \n",
      "7048                                         cash value   \n",
      "7049               1st place, 2nd place, 3rd place, 4nd   \n",
      "7050                                                TBA   \n",
      "7051                                      Thailand cash   \n",
      "7052                                                  1   \n",
      "\n",
      "                                Title  \\\n",
      "0                        #WirVsVirus    \n",
      "1                     The Global Hack   \n",
      "2                          Supernova    \n",
      "3                      Hajj Hackathon   \n",
      "4     Chainlink Spring 2022 Hackathon   \n",
      "...                               ...   \n",
      "7048                   CheckInProject   \n",
      "7049         AI Apps - Hackathon 2021   \n",
      "7050                        Old Hacks   \n",
      "7051                Thailand champion   \n",
      "7052                Manager Hackathon   \n",
      "\n",
      "                                               Location start_date  \\\n",
      "0                                                Online    Mar 20    \n",
      "1                                                Online    Apr 03    \n",
      "2                                                Online    May 10    \n",
      "3     Jeddah International Exhibition & Convention C...    Aug 01    \n",
      "4                                                Online    Apr 22    \n",
      "...                                                 ...        ...   \n",
      "7048                                           Thái Lan        NaN   \n",
      "7049                                             Online        NaN   \n",
      "7050                                    Quận 2, Vietnam        NaN   \n",
      "7051                                           Thái Lan        NaN   \n",
      "7052                                           Việt Nam        NaN   \n",
      "\n",
      "                                      themes  \\\n",
      "0                      Social Good, COVID-19   \n",
      "1                                   COVID-19   \n",
      "2        Social Good, Blockchain, Open Ended   \n",
      "3                                        NaN   \n",
      "4                   Blockchain, Web, Fintech   \n",
      "...                                      ...   \n",
      "7048                            Voice skills   \n",
      "7049  AR/VR, Machine Learning/AI, Open Ended   \n",
      "7050                              Open Ended   \n",
      "7051                            Voice skills   \n",
      "7052                            Voice skills   \n",
      "\n",
      "                             organization_name  \n",
      "0                                          NaN  \n",
      "1                                          NaN  \n",
      "2                           DFINITY Foundation  \n",
      "3                                          NaN  \n",
      "4                               Chainlink Labs  \n",
      "...                                        ...  \n",
      "7048                             ACM Monterrey  \n",
      "7049                            Dong Trinh LTD  \n",
      "7050                            Hackers Galore  \n",
      "7051  Screen Composers Guild of Canada & SOCAN  \n",
      "7052                        Girls Who Code UVA  \n",
      "\n",
      "[7053 rows x 7 columns]\n"
     ]
    }
   ],
   "source": [
    "# Display columns with missing values for each dataframe\n",
    "print(\"Hackathons Rows with Missing Values:\")\n",
    "print_columns_with_missing_values(hackathons)"
   ],
   "metadata": {
    "collapsed": false,
    "ExecuteTime": {
     "end_time": "2024-02-12T16:34:39.226847Z",
     "start_time": "2024-02-12T16:34:39.221250Z"
    }
   }
  },
  {
   "cell_type": "code",
   "execution_count": 64,
   "outputs": [
    {
     "name": "stdout",
     "output_type": "stream",
     "text": [
      "\n",
      "Participants Rows with Missing Values:\n",
      "                                                   skills  \\\n",
      "0                        solidity, python, react, node.js   \n",
      "1                  solidity, brownie, python, react, web3   \n",
      "2                                        python, solidity   \n",
      "3       solidity, hardhat, thegraph, typechain, typesc...   \n",
      "4                                                  python   \n",
      "...                                                   ...   \n",
      "282272                            javascript, python, c++   \n",
      "282273                     ios, cocoapods, swift, ibeacon   \n",
      "282274                                                Nan   \n",
      "282275  android, python, verilog, c, c++, kernel, brow...   \n",
      "282276                                      stanning-day6   \n",
      "\n",
      "                                   url  \n",
      "0         https://devpost.com/0x1NotMe  \n",
      "1       https://devpost.com/0xBumstead  \n",
      "2         https://devpost.com/0xNuggan  \n",
      "3       https://devpost.com/0xTimepunk  \n",
      "4          https://devpost.com/0xaaash  \n",
      "...                                ...  \n",
      "282272                             NaN  \n",
      "282273                             NaN  \n",
      "282274                             NaN  \n",
      "282275                             NaN  \n",
      "282276                             NaN  \n",
      "\n",
      "[282277 rows x 2 columns]\n"
     ]
    }
   ],
   "source": [
    "print(\"\\nParticipants Rows with Missing Values:\")\n",
    "print_columns_with_missing_values(participants)"
   ],
   "metadata": {
    "collapsed": false,
    "ExecuteTime": {
     "end_time": "2024-02-12T16:34:39.359531Z",
     "start_time": "2024-02-12T16:34:39.224641Z"
    }
   }
  },
  {
   "cell_type": "code",
   "execution_count": 65,
   "outputs": [
    {
     "name": "stdout",
     "output_type": "stream",
     "text": [
      "\n",
      "Participants Rows with Missing Values:\n",
      "                                                   skills  \\\n",
      "0                        solidity, python, react, node.js   \n",
      "1                  solidity, brownie, python, react, web3   \n",
      "2                                        python, solidity   \n",
      "3       solidity, hardhat, thegraph, typechain, typesc...   \n",
      "4                                                  python   \n",
      "...                                                   ...   \n",
      "282272                            javascript, python, c++   \n",
      "282273                     ios, cocoapods, swift, ibeacon   \n",
      "282274                                                Nan   \n",
      "282275  android, python, verilog, c, c++, kernel, brow...   \n",
      "282276                                      stanning-day6   \n",
      "\n",
      "                                   url  \n",
      "0         https://devpost.com/0x1NotMe  \n",
      "1       https://devpost.com/0xBumstead  \n",
      "2         https://devpost.com/0xNuggan  \n",
      "3       https://devpost.com/0xTimepunk  \n",
      "4          https://devpost.com/0xaaash  \n",
      "...                                ...  \n",
      "282272                             NaN  \n",
      "282273                             NaN  \n",
      "282274                             NaN  \n",
      "282275                             NaN  \n",
      "282276                             NaN  \n",
      "\n",
      "[282277 rows x 2 columns]\n"
     ]
    }
   ],
   "source": [
    "print(\"\\nParticipants Rows with Missing Values:\")\n",
    "print_columns_with_missing_values(participants)"
   ],
   "metadata": {
    "collapsed": false,
    "ExecuteTime": {
     "end_time": "2024-02-12T16:34:39.498049Z",
     "start_time": "2024-02-12T16:34:39.488378Z"
    }
   }
  },
  {
   "cell_type": "code",
   "execution_count": 66,
   "outputs": [
    {
     "name": "stdout",
     "output_type": "stream",
     "text": [
      "\n",
      "Projects Rows with Missing Values:\n",
      "                                             github_links  \\\n",
      "0       https://github.com/ICCards/faefolk, https://gi...   \n",
      "1                             https://github.com/Hls-labs   \n",
      "2                     https://github.com/stumpigit/icmaps   \n",
      "3       https://github.com/teambonsai/bonsai_dapp/blob...   \n",
      "4                                                     NaN   \n",
      "...                                                   ...   \n",
      "303675                                                NaN   \n",
      "303676                                                NaN   \n",
      "303677                                                NaN   \n",
      "303678                                                NaN   \n",
      "303679                                                NaN   \n",
      "\n",
      "                                             participants  \\\n",
      "0       https://devpost.com/RAW4RMCS, https://devpost....   \n",
      "1       https://devpost.com/Domexx, https://devpost.co...   \n",
      "2                           https://devpost.com/stumpigit   \n",
      "3       https://devpost.com/TsuDohNimhh, https://devpo...   \n",
      "4                      https://devpost.com/rusty-scrivens   \n",
      "...                                                   ...   \n",
      "303675                https://devpost.com/jamesnguyentech   \n",
      "303676                      https://devpost.com/d15neylyf   \n",
      "303677                      https://devpost.com/d15neylyf   \n",
      "303678                      https://devpost.com/d15neylyf   \n",
      "303679                      https://devpost.com/d15neylyf   \n",
      "\n",
      "                                               build_with  \\\n",
      "0                       gdscript, godot, ic, motoko, rust   \n",
      "1       after-effects, astro, figma, motoko, nextjs, r...   \n",
      "2       motoko, ogc, openlayers, openstreetmap, svelte...   \n",
      "3                                      icp, motoko, react   \n",
      "4                           css, html, javascript, motoko   \n",
      "...                                                   ...   \n",
      "303675                                         javascript   \n",
      "303676                                             heroku   \n",
      "303677                                               java   \n",
      "303678                                             heroku   \n",
      "303679                                               java   \n",
      "\n",
      "                                                     repo  \\\n",
      "0       ge5fs-qyaaa-aaaap-qam6a-cai.raw.ic0.app, ge5fs...   \n",
      "1       cdugx-tqaaa-aaaad-qct4a-cai.ic.fleek.co, cdugx...   \n",
      "2                      icmaps.org, icmaps.org, icmaps.org   \n",
      "3       3ezq7-iqaaa-aaaal-aaacq-cai.raw.ic0.app, 3ezq7...   \n",
      "4       k4iro-6yaaa-aaaai-aboza-cai.raw.ic0.app, k4iro...   \n",
      "...                                                   ...   \n",
      "303675                                                Nan   \n",
      "303676                                                Nan   \n",
      "303677                                                Nan   \n",
      "303678                                                Nan   \n",
      "303679                                                Nan   \n",
      "\n",
      "        submitted_to_hacks_num  \n",
      "0                          1.0  \n",
      "1                          1.0  \n",
      "2                          1.0  \n",
      "3                          1.0  \n",
      "4                          1.0  \n",
      "...                        ...  \n",
      "303675                     1.0  \n",
      "303676                     1.0  \n",
      "303677                     1.0  \n",
      "303678                     1.0  \n",
      "303679                     1.0  \n",
      "\n",
      "[303680 rows x 5 columns]\n"
     ]
    }
   ],
   "source": [
    "print(\"\\nProjects Rows with Missing Values:\")\n",
    "print_columns_with_missing_values(projects)"
   ],
   "metadata": {
    "collapsed": false,
    "ExecuteTime": {
     "end_time": "2024-02-12T16:34:39.794267Z",
     "start_time": "2024-02-12T16:34:39.499239Z"
    }
   }
  },
  {
   "cell_type": "markdown",
   "source": [
    "Now need to figure out how to handle the missing values for columns that are most relevant to examining the impact of diversity initiatives found."
   ],
   "metadata": {
    "collapsed": false
   }
  },
  {
   "cell_type": "markdown",
   "source": [
    "### Handling missing data in hackathon df"
   ],
   "metadata": {
    "collapsed": false
   }
  },
  {
   "cell_type": "markdown",
   "source": [
    "From the hackathon df, these are the columns I think are most relevant for examining the impact of diversity initiatives: 'hack_type', 'start_date_format', 'end_date_format', 'prize_money', ‘themes', 'registered_N', 'organization_name'\n"
   ],
   "metadata": {
    "collapsed": false
   }
  },
  {
   "cell_type": "code",
   "execution_count": 67,
   "outputs": [
    {
     "name": "stdout",
     "output_type": "stream",
     "text": [
      "Number of missing values in 'hack_type': 0\n",
      "Number of missing values in 'start_date_format': 0\n",
      "Number of missing values in 'end_date_format': 0\n",
      "Number of missing values in 'prize_money': 0\n",
      "Number of missing values in 'themes': 4319\n",
      "Number of missing values in 'registered_N': 0\n",
      "Number of missing values in 'organization_name': 5088\n"
     ]
    }
   ],
   "source": [
    "# Check for missing values in the 'hack_type' column\n",
    "print(f\"Number of missing values in 'hack_type': {hackathons['hack_type'].isnull().sum()}\")\n",
    "\n",
    "# Check for missing values in the 'start_date_format' column\n",
    "print(f\"Number of missing values in 'start_date_format': {hackathons['start_date_format'].isnull().sum()}\")\n",
    "\n",
    "# Check for missing values in the 'end_date_format' column\n",
    "print(f\"Number of missing values in 'end_date_format': {hackathons['end_date_format'].isnull().sum()}\")\n",
    "\n",
    "# Check for missing values in the 'prize_money' column\n",
    "print(f\"Number of missing values in 'prize_money': {hackathons['prize_money'].isnull().sum()}\")\n",
    "\n",
    "# Check for missing values in the 'themes' column\n",
    "print(f\"Number of missing values in 'themes': {hackathons['themes'].isnull().sum()}\")\n",
    "\n",
    "# Check for missing values in the 'registered_N' column\n",
    "print(f\"Number of missing values in 'registered_N': {hackathons['registered_N'].isnull().sum()}\")\n",
    "\n",
    "# Check for missing values in the 'organization_name' column\n",
    "print(f\"Number of missing values in 'organization_name': {hackathons['organization_name'].isnull().sum()}\")"
   ],
   "metadata": {
    "collapsed": false,
    "ExecuteTime": {
     "end_time": "2024-02-12T16:34:39.823337Z",
     "start_time": "2024-02-12T16:34:39.800873Z"
    }
   }
  },
  {
   "cell_type": "markdown",
   "source": [
    "Thus, we need to handle missing values only for columns 'themes' and 'organizational_name'.\n",
    "Imputing 'Not specified' in the places where missing values were previously present in the 'themes' and 'organization_name' columns. **If organization_name is important, then we can even try to mine the df (maybe using the title and URL column) to find out the organisation name.**"
   ],
   "metadata": {
    "collapsed": false
   }
  },
  {
   "cell_type": "code",
   "execution_count": 68,
   "outputs": [
    {
     "data": {
      "text/plain": "                                      themes  \\\n0                      Social Good, COVID-19   \n1                                   COVID-19   \n2        Social Good, Blockchain, Open Ended   \n3                              Not Specified   \n4                   Blockchain, Web, Fintech   \n...                                      ...   \n7048                            Voice skills   \n7049  AR/VR, Machine Learning/AI, Open Ended   \n7050                              Open Ended   \n7051                            Voice skills   \n7052                            Voice skills   \n\n                             organization_name  \n0                                Not Specified  \n1                                Not Specified  \n2                           DFINITY Foundation  \n3                                Not Specified  \n4                               Chainlink Labs  \n...                                        ...  \n7048                             ACM Monterrey  \n7049                            Dong Trinh LTD  \n7050                            Hackers Galore  \n7051  Screen Composers Guild of Canada & SOCAN  \n7052                        Girls Who Code UVA  \n\n[7053 rows x 2 columns]",
      "text/html": "<div>\n<style scoped>\n    .dataframe tbody tr th:only-of-type {\n        vertical-align: middle;\n    }\n\n    .dataframe tbody tr th {\n        vertical-align: top;\n    }\n\n    .dataframe thead th {\n        text-align: right;\n    }\n</style>\n<table border=\"1\" class=\"dataframe\">\n  <thead>\n    <tr style=\"text-align: right;\">\n      <th></th>\n      <th>themes</th>\n      <th>organization_name</th>\n    </tr>\n  </thead>\n  <tbody>\n    <tr>\n      <th>0</th>\n      <td>Social Good, COVID-19</td>\n      <td>Not Specified</td>\n    </tr>\n    <tr>\n      <th>1</th>\n      <td>COVID-19</td>\n      <td>Not Specified</td>\n    </tr>\n    <tr>\n      <th>2</th>\n      <td>Social Good, Blockchain, Open Ended</td>\n      <td>DFINITY Foundation</td>\n    </tr>\n    <tr>\n      <th>3</th>\n      <td>Not Specified</td>\n      <td>Not Specified</td>\n    </tr>\n    <tr>\n      <th>4</th>\n      <td>Blockchain, Web, Fintech</td>\n      <td>Chainlink Labs</td>\n    </tr>\n    <tr>\n      <th>...</th>\n      <td>...</td>\n      <td>...</td>\n    </tr>\n    <tr>\n      <th>7048</th>\n      <td>Voice skills</td>\n      <td>ACM Monterrey</td>\n    </tr>\n    <tr>\n      <th>7049</th>\n      <td>AR/VR, Machine Learning/AI, Open Ended</td>\n      <td>Dong Trinh LTD</td>\n    </tr>\n    <tr>\n      <th>7050</th>\n      <td>Open Ended</td>\n      <td>Hackers Galore</td>\n    </tr>\n    <tr>\n      <th>7051</th>\n      <td>Voice skills</td>\n      <td>Screen Composers Guild of Canada &amp; SOCAN</td>\n    </tr>\n    <tr>\n      <th>7052</th>\n      <td>Voice skills</td>\n      <td>Girls Who Code UVA</td>\n    </tr>\n  </tbody>\n</table>\n<p>7053 rows × 2 columns</p>\n</div>"
     },
     "execution_count": 68,
     "metadata": {},
     "output_type": "execute_result"
    }
   ],
   "source": [
    "# Imputation with a Neutral Theme\n",
    "hackathons['themes'].fillna(value='Not Specified', inplace=True)\n",
    "\n",
    "# Imputation with \"Not Specified\"\n",
    "hackathons['organization_name'].fillna(value='Not Specified', inplace=True)\n",
    "\n",
    "hackathons[['themes','organization_name']]"
   ],
   "metadata": {
    "collapsed": false,
    "ExecuteTime": {
     "end_time": "2024-02-12T16:34:39.824035Z",
     "start_time": "2024-02-12T16:34:39.807711Z"
    }
   }
  },
  {
   "cell_type": "markdown",
   "source": [
    "### Handling missing data in participants df"
   ],
   "metadata": {
    "collapsed": false
   }
  },
  {
   "cell_type": "markdown",
   "source": [
    "From the participants df, these are the columns I think are most relevant for examining the impact of diversity initiatives: ‘skills’, ‘country’\n"
   ],
   "metadata": {
    "collapsed": false
   }
  },
  {
   "cell_type": "code",
   "execution_count": 69,
   "outputs": [
    {
     "name": "stdout",
     "output_type": "stream",
     "text": [
      "Number of missing values in 'skills': 182\n",
      "Number of missing values in 'country': 0\n"
     ]
    }
   ],
   "source": [
    "# Check for missing values in the 'skills' column\n",
    "print(f\"Number of missing values in 'skills': {participants['skills'].isnull().sum()}\")\n",
    "\n",
    "# Check for missing values in the 'country' column\n",
    "print(f\"Number of missing values in 'country': {participants['country'].isnull().sum()}\")"
   ],
   "metadata": {
    "collapsed": false,
    "ExecuteTime": {
     "end_time": "2024-02-12T16:34:39.832626Z",
     "start_time": "2024-02-12T16:34:39.820899Z"
    }
   }
  },
  {
   "cell_type": "markdown",
   "source": [
    "Thus, we need to handle missing values only from column 'skills'.\n",
    "Given that only 182 out of 282,277 rows have missing values in the 'skills' column, it's a reasonable option to consider dropping those rows. When the number of missing values is relatively small compared to the overall size of the dataset, and it doesn't significantly impact the analysis.\n"
   ],
   "metadata": {
    "collapsed": false
   }
  },
  {
   "cell_type": "code",
   "execution_count": 70,
   "outputs": [
    {
     "data": {
      "text/plain": "                                                   skills  \\\n0                        solidity, python, react, node.js   \n1                  solidity, brownie, python, react, web3   \n2                                        python, solidity   \n3       solidity, hardhat, thegraph, typechain, typesc...   \n4                                                  python   \n...                                                   ...   \n282272                            javascript, python, c++   \n282273                     ios, cocoapods, swift, ibeacon   \n282274                                                Nan   \n282275  android, python, verilog, c, c++, kernel, brow...   \n282276                                      stanning-day6   \n\n                                   country  \n0       Sydney, New South Wales, Australia  \n1                                  Francja  \n2                                  Germany  \n3                                 Portugal  \n4                                       中国  \n...                                    ...  \n282272       Houston, Texas, United States  \n282273             Berlin, Berlin, Germany  \n282274            Montreal, Quebec, Canada  \n282275   Irvine, California, United States  \n282276             Ottawa, Ontario, Canada  \n\n[282095 rows x 2 columns]",
      "text/html": "<div>\n<style scoped>\n    .dataframe tbody tr th:only-of-type {\n        vertical-align: middle;\n    }\n\n    .dataframe tbody tr th {\n        vertical-align: top;\n    }\n\n    .dataframe thead th {\n        text-align: right;\n    }\n</style>\n<table border=\"1\" class=\"dataframe\">\n  <thead>\n    <tr style=\"text-align: right;\">\n      <th></th>\n      <th>skills</th>\n      <th>country</th>\n    </tr>\n  </thead>\n  <tbody>\n    <tr>\n      <th>0</th>\n      <td>solidity, python, react, node.js</td>\n      <td>Sydney, New South Wales, Australia</td>\n    </tr>\n    <tr>\n      <th>1</th>\n      <td>solidity, brownie, python, react, web3</td>\n      <td>Francja</td>\n    </tr>\n    <tr>\n      <th>2</th>\n      <td>python, solidity</td>\n      <td>Germany</td>\n    </tr>\n    <tr>\n      <th>3</th>\n      <td>solidity, hardhat, thegraph, typechain, typesc...</td>\n      <td>Portugal</td>\n    </tr>\n    <tr>\n      <th>4</th>\n      <td>python</td>\n      <td>中国</td>\n    </tr>\n    <tr>\n      <th>...</th>\n      <td>...</td>\n      <td>...</td>\n    </tr>\n    <tr>\n      <th>282272</th>\n      <td>javascript, python, c++</td>\n      <td>Houston, Texas, United States</td>\n    </tr>\n    <tr>\n      <th>282273</th>\n      <td>ios, cocoapods, swift, ibeacon</td>\n      <td>Berlin, Berlin, Germany</td>\n    </tr>\n    <tr>\n      <th>282274</th>\n      <td>Nan</td>\n      <td>Montreal, Quebec, Canada</td>\n    </tr>\n    <tr>\n      <th>282275</th>\n      <td>android, python, verilog, c, c++, kernel, brow...</td>\n      <td>Irvine, California, United States</td>\n    </tr>\n    <tr>\n      <th>282276</th>\n      <td>stanning-day6</td>\n      <td>Ottawa, Ontario, Canada</td>\n    </tr>\n  </tbody>\n</table>\n<p>282095 rows × 2 columns</p>\n</div>"
     },
     "execution_count": 70,
     "metadata": {},
     "output_type": "execute_result"
    }
   ],
   "source": [
    "# Drop rows with missing values in the 'skills' column\n",
    "participants.dropna(subset=['skills'], inplace=True)\n",
    "\n",
    "participants[['skills','country']]"
   ],
   "metadata": {
    "collapsed": false,
    "ExecuteTime": {
     "end_time": "2024-02-12T16:34:39.907871Z",
     "start_time": "2024-02-12T16:34:39.862421Z"
    }
   }
  },
  {
   "cell_type": "markdown",
   "source": [
    "### Handling missing data in participants_links df"
   ],
   "metadata": {
    "collapsed": false
   }
  },
  {
   "cell_type": "markdown",
   "source": [
    "From the participants_links df, these are the columns I think are most relevant for examining the impact of diversity initiatives: ‘url’, ‘website’, ‘github’"
   ],
   "metadata": {
    "collapsed": false
   }
  },
  {
   "cell_type": "code",
   "execution_count": 71,
   "outputs": [
    {
     "name": "stdout",
     "output_type": "stream",
     "text": [
      "Number of missing values in 'url': 0\n",
      "Number of missing values in 'website': 108960\n",
      "Number of missing values in 'github': 106011\n"
     ]
    }
   ],
   "source": [
    "# Check for missing values in the 'url' column\n",
    "print(f\"Number of missing values in 'url': {participants_links['url'].isnull().sum()}\")\n",
    "\n",
    "# Check for missing values in the 'website' column\n",
    "print(f\"Number of missing values in 'website': {participants_links['website'].isnull().sum()}\")\n",
    "\n",
    "# Check for missing values in the 'github' column\n",
    "print(f\"Number of missing values in 'github': {participants_links['github'].isnull().sum()}\")"
   ],
   "metadata": {
    "collapsed": false,
    "ExecuteTime": {
     "end_time": "2024-02-12T16:34:39.924671Z",
     "start_time": "2024-02-12T16:34:39.903128Z"
    }
   }
  },
  {
   "cell_type": "code",
   "execution_count": 72,
   "outputs": [
    {
     "data": {
      "text/plain": "                                        url  \\\n0           https://devpost.com/CraigHiller   \n1              https://devpost.com/asheleby   \n2             https://devpost.com/evanho239   \n3         https://devpost.com/mag97palacios   \n4          https://devpost.com/vivekvjk2020   \n...                                     ...   \n191633  https://devpost.com/amulyagarimella   \n191634       https://devpost.com/hiennguyen   \n191635  https://devpost.com/daironrodriguez   \n191636         https://devpost.com/brentmin   \n191637    https://devpost.com/JoaquinMelara   \n\n                                   website                              github  \n0                            Not Specified                       Not Specified  \n1                            Not Specified                       Not Specified  \n2                            Not Specified                       Not Specified  \n3                            Not Specified                       Not Specified  \n4              https://github.com/vivekvjk         https://github.com/vivekvjk  \n...                                    ...                                 ...  \n191633  https://amulyagarimella.github.io/  https://github.com/amulyagarimella  \n191634                       Not Specified       https://github.com/HienNguyen  \n191635  https://github.com/daironrodriguez  https://github.com/daironrodriguez  \n191636         https://github.com/brentmin         https://github.com/brentmin  \n191637                       Not Specified                       Not Specified  \n\n[191638 rows x 3 columns]",
      "text/html": "<div>\n<style scoped>\n    .dataframe tbody tr th:only-of-type {\n        vertical-align: middle;\n    }\n\n    .dataframe tbody tr th {\n        vertical-align: top;\n    }\n\n    .dataframe thead th {\n        text-align: right;\n    }\n</style>\n<table border=\"1\" class=\"dataframe\">\n  <thead>\n    <tr style=\"text-align: right;\">\n      <th></th>\n      <th>url</th>\n      <th>website</th>\n      <th>github</th>\n    </tr>\n  </thead>\n  <tbody>\n    <tr>\n      <th>0</th>\n      <td>https://devpost.com/CraigHiller</td>\n      <td>Not Specified</td>\n      <td>Not Specified</td>\n    </tr>\n    <tr>\n      <th>1</th>\n      <td>https://devpost.com/asheleby</td>\n      <td>Not Specified</td>\n      <td>Not Specified</td>\n    </tr>\n    <tr>\n      <th>2</th>\n      <td>https://devpost.com/evanho239</td>\n      <td>Not Specified</td>\n      <td>Not Specified</td>\n    </tr>\n    <tr>\n      <th>3</th>\n      <td>https://devpost.com/mag97palacios</td>\n      <td>Not Specified</td>\n      <td>Not Specified</td>\n    </tr>\n    <tr>\n      <th>4</th>\n      <td>https://devpost.com/vivekvjk2020</td>\n      <td>https://github.com/vivekvjk</td>\n      <td>https://github.com/vivekvjk</td>\n    </tr>\n    <tr>\n      <th>...</th>\n      <td>...</td>\n      <td>...</td>\n      <td>...</td>\n    </tr>\n    <tr>\n      <th>191633</th>\n      <td>https://devpost.com/amulyagarimella</td>\n      <td>https://amulyagarimella.github.io/</td>\n      <td>https://github.com/amulyagarimella</td>\n    </tr>\n    <tr>\n      <th>191634</th>\n      <td>https://devpost.com/hiennguyen</td>\n      <td>Not Specified</td>\n      <td>https://github.com/HienNguyen</td>\n    </tr>\n    <tr>\n      <th>191635</th>\n      <td>https://devpost.com/daironrodriguez</td>\n      <td>https://github.com/daironrodriguez</td>\n      <td>https://github.com/daironrodriguez</td>\n    </tr>\n    <tr>\n      <th>191636</th>\n      <td>https://devpost.com/brentmin</td>\n      <td>https://github.com/brentmin</td>\n      <td>https://github.com/brentmin</td>\n    </tr>\n    <tr>\n      <th>191637</th>\n      <td>https://devpost.com/JoaquinMelara</td>\n      <td>Not Specified</td>\n      <td>Not Specified</td>\n    </tr>\n  </tbody>\n</table>\n<p>191638 rows × 3 columns</p>\n</div>"
     },
     "execution_count": 72,
     "metadata": {},
     "output_type": "execute_result"
    }
   ],
   "source": [
    "# Imputation with \"Not Specified\" for 'website'\n",
    "participants_links['website'].fillna(value='Not Specified', inplace=True)\n",
    "\n",
    "# Imputation with \"Not Specified\" for 'github'\n",
    "participants_links['github'].fillna(value='Not Specified', inplace=True)\n",
    "\n",
    "participants_links[['url','website','github']]"
   ],
   "metadata": {
    "collapsed": false,
    "ExecuteTime": {
     "end_time": "2024-02-12T16:34:39.986669Z",
     "start_time": "2024-02-12T16:34:39.931470Z"
    }
   }
  },
  {
   "cell_type": "code",
   "execution_count": 73,
   "outputs": [],
   "source": [
    "# Create a binary indicator column for missing 'github'\n",
    "participants_links['github_missing'] = participants_links['github'].isnull().astype(int)"
   ],
   "metadata": {
    "collapsed": false,
    "ExecuteTime": {
     "end_time": "2024-02-12T16:34:39.986866Z",
     "start_time": "2024-02-12T16:34:39.969731Z"
    }
   }
  },
  {
   "cell_type": "markdown",
   "source": [
    "### Handling missing data in projects df"
   ],
   "metadata": {
    "collapsed": false
   }
  },
  {
   "cell_type": "markdown",
   "source": [
    "From the projects df, these are the columns I think are most relevant for examining the impact of diversity initiatives: ‘github_links’, ‘participants_num’, ‘build_with’\n"
   ],
   "metadata": {
    "collapsed": false
   }
  },
  {
   "cell_type": "code",
   "execution_count": 74,
   "outputs": [
    {
     "name": "stdout",
     "output_type": "stream",
     "text": [
      "Number of missing values in 'url': 145720\n",
      "Number of missing values in 'participants': 5479\n",
      "Number of missing values in 'participants_num': 0\n",
      "Number of missing values in 'build_with': 19447\n"
     ]
    }
   ],
   "source": [
    "# Check for missing values in the 'github_links' column\n",
    "print(f\"Number of missing values in 'url': {projects['github_links'].isnull().sum()}\")\n",
    "\n",
    "# Check for missing values in the 'participants' column\n",
    "print(f\"Number of missing values in 'participants': {projects['participants'].isnull().sum()}\")\n",
    "\n",
    "# Check for missing values in the 'participants_num' column\n",
    "print(f\"Number of missing values in 'participants_num': {projects['participants_num'].isnull().sum()}\")\n",
    "\n",
    "# Check for missing values in the 'build_with' column\n",
    "print(f\"Number of missing values in 'build_with': {projects['build_with'].isnull().sum()}\")"
   ],
   "metadata": {
    "collapsed": false,
    "ExecuteTime": {
     "end_time": "2024-02-12T16:34:40.043711Z",
     "start_time": "2024-02-12T16:34:39.974662Z"
    }
   }
  },
  {
   "cell_type": "markdown",
   "source": [
    "Thus, need to handle missing values only for columns 'url', 'participants', 'build_with'"
   ],
   "metadata": {
    "collapsed": false
   }
  },
  {
   "cell_type": "code",
   "execution_count": 75,
   "outputs": [],
   "source": [
    "# Imputation with \"Not Specified\" for 'github_links'\n",
    "projects['github_links'].fillna(value='Not Specified', inplace=True)\n",
    "\n",
    "# Imputation with \"Not Specified\" for 'build_with'\n",
    "projects['build_with'].fillna(value='Not Specified', inplace=True)"
   ],
   "metadata": {
    "collapsed": false,
    "ExecuteTime": {
     "end_time": "2024-02-12T16:34:40.066299Z",
     "start_time": "2024-02-12T16:34:40.017683Z"
    }
   }
  },
  {
   "cell_type": "code",
   "execution_count": 76,
   "outputs": [
    {
     "data": {
      "text/plain": "        Unnamed: 0                                 submission_gal_url  \\\n15              15      https://supernova.devpost.com/project-gallery   \n23              23      https://supernova.devpost.com/project-gallery   \n39              39      https://supernova.devpost.com/project-gallery   \n47              47      https://supernova.devpost.com/project-gallery   \n66              66      https://supernova.devpost.com/project-gallery   \n...            ...                                                ...   \n303557      303557  https://eco-it-biohackathon-11439.devpost.com/...   \n303609      303609    https://genhacks-iv.devpost.com/project-gallery   \n303616      303616    https://genhacks-iv.devpost.com/project-gallery   \n303658      303658  https://market-challenge-us.devpost.com/projec...   \n303659      303659  https://market-challenge-us.devpost.com/projec...   \n\n                                              project_URL  \\\n15                  https://devpost.com/software/minerium   \n23                  https://devpost.com/software/openchan   \n39                  https://devpost.com/software/minerium   \n47                  https://devpost.com/software/openchan   \n66                 https://devpost.com/software/my-status   \n...                                                   ...   \n303557  https://devpost.com/software/soil-health-monit...   \n303609       https://devpost.com/software/toureasy-tnmwpf   \n303616       https://devpost.com/software/toureasy-tnmwpf   \n303658  https://devpost.com/software/michael-beirne-pr...   \n303659  https://devpost.com/software/michael-beirne-pr...   \n\n                                             github_links participants  \\\n15                      https://github.com/KOSASIH/Ontics          NaN   \n23      https://github.com/oc-ic/openchan, https://git...          NaN   \n39                      https://github.com/KOSASIH/Ontics          NaN   \n47      https://github.com/oc-ic/openchan, https://git...          NaN   \n66                                          Not Specified          NaN   \n...                                                   ...          ...   \n303557                                      Not Specified          NaN   \n303609          https://github.com/beecoder-pro/Tour-easy          NaN   \n303616          https://github.com/beecoder-pro/Tour-easy          NaN   \n303658                                      Not Specified          NaN   \n303659                                      Not Specified          NaN   \n\n       participants_num                                         build_with  \\\n15                    0             css, github, html, javascript, windows   \n23                    0                         javascript, motoko, svelte   \n39                    0             css, github, html, javascript, windows   \n47                    0                         javascript, motoko, svelte   \n66                    0                                                 na   \n...                 ...                                                ...   \n303557                0                                            arduino   \n303609                0  blockchain, bootstrap, css3, data-science-tool...   \n303616                0  blockchain, bootstrap, css3, data-science-tool...   \n303658                0                                         javascript   \n303659                0                                         javascript   \n\n                                                repo_link  \\\n15                      https://github.com/KOSASIH/Ontics   \n23      https://github.com/oc-ic/openchan, https://git...   \n39                      https://github.com/KOSASIH/Ontics   \n47      https://github.com/oc-ic/openchan, https://git...   \n66                                                    Nan   \n...                                                   ...   \n303557                                                Nan   \n303609          https://github.com/beecoder-pro/Tour-easy   \n303616          https://github.com/beecoder-pro/Tour-easy   \n303658                                                Nan   \n303659                                                Nan   \n\n                                      repo  \\\n15                              github.com   \n23      github.com, github.com, github.com   \n39                              github.com   \n47      github.com, github.com, github.com   \n66                                     Nan   \n...                                    ...   \n303557                                 Nan   \n303609                          github.com   \n303616                          github.com   \n303658                                 Nan   \n303659                                 Nan   \n\n                                        submitted_to_link  \\\n15                         https://supernova.devpost.com/   \n23                         https://supernova.devpost.com/   \n39                         https://supernova.devpost.com/   \n47                         https://supernova.devpost.com/   \n66                         https://supernova.devpost.com/   \n...                                                   ...   \n303557  https://625001.devpost.com/, https://smartciti...   \n303609                   https://genhacks-iv.devpost.com/   \n303616                   https://genhacks-iv.devpost.com/   \n303658           https://market-challenge-us.devpost.com/   \n303659           https://market-challenge-us.devpost.com/   \n\n                                        submitted_to_name  \\\n15                                              Supernova   \n23                                              Supernova   \n39                                              Supernova   \n47                                              Supernova   \n66                                              Supernova   \n...                                                   ...   \n303557  MadurAIOpenTecHackathon, 2020 Tunisian Smart C...   \n303609                                        GenHacks IV   \n303616                                        GenHacks IV   \n303658                                Market Challenge US   \n303659                                Market Challenge US   \n\n        submitted_to_hacks_num  likes  comments  \n15                         1.0      0         0  \n23                         1.0      5         1  \n39                         1.0      0         0  \n47                         1.0      5         1  \n66                         1.0      2         2  \n...                        ...    ...       ...  \n303557                     6.0      3         2  \n303609                     1.0      0         0  \n303616                     1.0      0         0  \n303658                     1.0      0         0  \n303659                     1.0      0         0  \n\n[5479 rows x 14 columns]",
      "text/html": "<div>\n<style scoped>\n    .dataframe tbody tr th:only-of-type {\n        vertical-align: middle;\n    }\n\n    .dataframe tbody tr th {\n        vertical-align: top;\n    }\n\n    .dataframe thead th {\n        text-align: right;\n    }\n</style>\n<table border=\"1\" class=\"dataframe\">\n  <thead>\n    <tr style=\"text-align: right;\">\n      <th></th>\n      <th>Unnamed: 0</th>\n      <th>submission_gal_url</th>\n      <th>project_URL</th>\n      <th>github_links</th>\n      <th>participants</th>\n      <th>participants_num</th>\n      <th>build_with</th>\n      <th>repo_link</th>\n      <th>repo</th>\n      <th>submitted_to_link</th>\n      <th>submitted_to_name</th>\n      <th>submitted_to_hacks_num</th>\n      <th>likes</th>\n      <th>comments</th>\n    </tr>\n  </thead>\n  <tbody>\n    <tr>\n      <th>15</th>\n      <td>15</td>\n      <td>https://supernova.devpost.com/project-gallery</td>\n      <td>https://devpost.com/software/minerium</td>\n      <td>https://github.com/KOSASIH/Ontics</td>\n      <td>NaN</td>\n      <td>0</td>\n      <td>css, github, html, javascript, windows</td>\n      <td>https://github.com/KOSASIH/Ontics</td>\n      <td>github.com</td>\n      <td>https://supernova.devpost.com/</td>\n      <td>Supernova</td>\n      <td>1.0</td>\n      <td>0</td>\n      <td>0</td>\n    </tr>\n    <tr>\n      <th>23</th>\n      <td>23</td>\n      <td>https://supernova.devpost.com/project-gallery</td>\n      <td>https://devpost.com/software/openchan</td>\n      <td>https://github.com/oc-ic/openchan, https://git...</td>\n      <td>NaN</td>\n      <td>0</td>\n      <td>javascript, motoko, svelte</td>\n      <td>https://github.com/oc-ic/openchan, https://git...</td>\n      <td>github.com, github.com, github.com</td>\n      <td>https://supernova.devpost.com/</td>\n      <td>Supernova</td>\n      <td>1.0</td>\n      <td>5</td>\n      <td>1</td>\n    </tr>\n    <tr>\n      <th>39</th>\n      <td>39</td>\n      <td>https://supernova.devpost.com/project-gallery</td>\n      <td>https://devpost.com/software/minerium</td>\n      <td>https://github.com/KOSASIH/Ontics</td>\n      <td>NaN</td>\n      <td>0</td>\n      <td>css, github, html, javascript, windows</td>\n      <td>https://github.com/KOSASIH/Ontics</td>\n      <td>github.com</td>\n      <td>https://supernova.devpost.com/</td>\n      <td>Supernova</td>\n      <td>1.0</td>\n      <td>0</td>\n      <td>0</td>\n    </tr>\n    <tr>\n      <th>47</th>\n      <td>47</td>\n      <td>https://supernova.devpost.com/project-gallery</td>\n      <td>https://devpost.com/software/openchan</td>\n      <td>https://github.com/oc-ic/openchan, https://git...</td>\n      <td>NaN</td>\n      <td>0</td>\n      <td>javascript, motoko, svelte</td>\n      <td>https://github.com/oc-ic/openchan, https://git...</td>\n      <td>github.com, github.com, github.com</td>\n      <td>https://supernova.devpost.com/</td>\n      <td>Supernova</td>\n      <td>1.0</td>\n      <td>5</td>\n      <td>1</td>\n    </tr>\n    <tr>\n      <th>66</th>\n      <td>66</td>\n      <td>https://supernova.devpost.com/project-gallery</td>\n      <td>https://devpost.com/software/my-status</td>\n      <td>Not Specified</td>\n      <td>NaN</td>\n      <td>0</td>\n      <td>na</td>\n      <td>Nan</td>\n      <td>Nan</td>\n      <td>https://supernova.devpost.com/</td>\n      <td>Supernova</td>\n      <td>1.0</td>\n      <td>2</td>\n      <td>2</td>\n    </tr>\n    <tr>\n      <th>...</th>\n      <td>...</td>\n      <td>...</td>\n      <td>...</td>\n      <td>...</td>\n      <td>...</td>\n      <td>...</td>\n      <td>...</td>\n      <td>...</td>\n      <td>...</td>\n      <td>...</td>\n      <td>...</td>\n      <td>...</td>\n      <td>...</td>\n      <td>...</td>\n    </tr>\n    <tr>\n      <th>303557</th>\n      <td>303557</td>\n      <td>https://eco-it-biohackathon-11439.devpost.com/...</td>\n      <td>https://devpost.com/software/soil-health-monit...</td>\n      <td>Not Specified</td>\n      <td>NaN</td>\n      <td>0</td>\n      <td>arduino</td>\n      <td>Nan</td>\n      <td>Nan</td>\n      <td>https://625001.devpost.com/, https://smartciti...</td>\n      <td>MadurAIOpenTecHackathon, 2020 Tunisian Smart C...</td>\n      <td>6.0</td>\n      <td>3</td>\n      <td>2</td>\n    </tr>\n    <tr>\n      <th>303609</th>\n      <td>303609</td>\n      <td>https://genhacks-iv.devpost.com/project-gallery</td>\n      <td>https://devpost.com/software/toureasy-tnmwpf</td>\n      <td>https://github.com/beecoder-pro/Tour-easy</td>\n      <td>NaN</td>\n      <td>0</td>\n      <td>blockchain, bootstrap, css3, data-science-tool...</td>\n      <td>https://github.com/beecoder-pro/Tour-easy</td>\n      <td>github.com</td>\n      <td>https://genhacks-iv.devpost.com/</td>\n      <td>GenHacks IV</td>\n      <td>1.0</td>\n      <td>0</td>\n      <td>0</td>\n    </tr>\n    <tr>\n      <th>303616</th>\n      <td>303616</td>\n      <td>https://genhacks-iv.devpost.com/project-gallery</td>\n      <td>https://devpost.com/software/toureasy-tnmwpf</td>\n      <td>https://github.com/beecoder-pro/Tour-easy</td>\n      <td>NaN</td>\n      <td>0</td>\n      <td>blockchain, bootstrap, css3, data-science-tool...</td>\n      <td>https://github.com/beecoder-pro/Tour-easy</td>\n      <td>github.com</td>\n      <td>https://genhacks-iv.devpost.com/</td>\n      <td>GenHacks IV</td>\n      <td>1.0</td>\n      <td>0</td>\n      <td>0</td>\n    </tr>\n    <tr>\n      <th>303658</th>\n      <td>303658</td>\n      <td>https://market-challenge-us.devpost.com/projec...</td>\n      <td>https://devpost.com/software/michael-beirne-pr...</td>\n      <td>Not Specified</td>\n      <td>NaN</td>\n      <td>0</td>\n      <td>javascript</td>\n      <td>Nan</td>\n      <td>Nan</td>\n      <td>https://market-challenge-us.devpost.com/</td>\n      <td>Market Challenge US</td>\n      <td>1.0</td>\n      <td>0</td>\n      <td>0</td>\n    </tr>\n    <tr>\n      <th>303659</th>\n      <td>303659</td>\n      <td>https://market-challenge-us.devpost.com/projec...</td>\n      <td>https://devpost.com/software/michael-beirne-pr...</td>\n      <td>Not Specified</td>\n      <td>NaN</td>\n      <td>0</td>\n      <td>javascript</td>\n      <td>Nan</td>\n      <td>Nan</td>\n      <td>https://market-challenge-us.devpost.com/</td>\n      <td>Market Challenge US</td>\n      <td>1.0</td>\n      <td>0</td>\n      <td>0</td>\n    </tr>\n  </tbody>\n</table>\n<p>5479 rows × 14 columns</p>\n</div>"
     },
     "execution_count": 76,
     "metadata": {},
     "output_type": "execute_result"
    }
   ],
   "source": [
    " # Find rows with missing values in 'participants' column\n",
    "rows_missing_participants = projects[projects['participants'].isnull()]\n",
    "\n",
    "# Display the rows\n",
    "rows_missing_participants"
   ],
   "metadata": {
    "collapsed": false,
    "ExecuteTime": {
     "end_time": "2024-02-12T16:34:40.091621Z",
     "start_time": "2024-02-12T16:34:40.047260Z"
    }
   }
  },
  {
   "cell_type": "markdown",
   "source": [
    "Given the observation from the output above that rows with missing values in the 'participants' column also have a corresponding value of 0 in the 'participants_num' column (which is incorrect since there cannot be 0 participants), we need to handle this inconsistency.\n",
    "\n",
    "Imputing 'participants_num' with the Average:\n",
    "This approach assumes that the average count of participants is a reasonable estimate for the missing or incorrect values. It might work well if the distribution of participants is relatively uniform across projects.\n",
    "\n",
    "Filling 'participants' with \"Not Specified\":\n",
    "Filling 'participants' with a placeholder like \"Not Specified\" is a valid choice to indicate that specific participant information is missing."
   ],
   "metadata": {
    "collapsed": false
   }
  },
  {
   "cell_type": "code",
   "execution_count": 77,
   "outputs": [
    {
     "name": "stdout",
     "output_type": "stream",
     "text": [
      "Unique values in 'participants_num' (ascending order): ['0', '1', '10', '11', '12', '13', '14', '15', '16', '17', '18', '19', '2', '20', '21', '22', '23', '24', '25', '26', '27', '28', '3', '30', '31', '32', '33', '34', '35', '36', '37', '38', '39', '4', '40', '41', '42', '43', '44', '46', '5', '51', '6', '64', '66', '7', '75', '8', '80', '9', 'Nan']\n",
      "0       5479\n",
      "1      96375\n",
      "10       283\n",
      "11       168\n",
      "12       182\n",
      "13        74\n",
      "14       136\n",
      "15        83\n",
      "16        55\n",
      "17        22\n",
      "18        38\n",
      "19        22\n",
      "2      57382\n",
      "20        21\n",
      "21        20\n",
      "22        15\n",
      "23        12\n",
      "24         6\n",
      "25        19\n",
      "26         9\n",
      "27         3\n",
      "28         5\n",
      "3      56718\n",
      "30         5\n",
      "31        17\n",
      "32         2\n",
      "33         4\n",
      "34         8\n",
      "35         2\n",
      "36        11\n",
      "37         4\n",
      "38         2\n",
      "39         2\n",
      "4      61963\n",
      "40         2\n",
      "41         3\n",
      "42         4\n",
      "43         2\n",
      "44         4\n",
      "46         2\n",
      "5      14971\n",
      "51         2\n",
      "6       3523\n",
      "64         4\n",
      "66         4\n",
      "7       1280\n",
      "75         2\n",
      "8        759\n",
      "80         2\n",
      "9        484\n",
      "Nan     3485\n",
      "Name: participants_num, dtype: int64\n"
     ]
    }
   ],
   "source": [
    "# Display unique values in 'participants_num' column in ascending order\n",
    "unique_participants_num_sorted = sorted(projects['participants_num'].unique())\n",
    "print(f\"Unique values in 'participants_num' (ascending order): {unique_participants_num_sorted}\")\n",
    "\n",
    "# Display frequency of each unique value in 'participants_num' column\n",
    "participants_num_frequency = projects['participants_num'].value_counts().sort_index()\n",
    "print(participants_num_frequency)"
   ],
   "metadata": {
    "collapsed": false,
    "ExecuteTime": {
     "end_time": "2024-02-12T16:34:40.105294Z",
     "start_time": "2024-02-12T16:34:40.068085Z"
    }
   }
  },
  {
   "cell_type": "markdown",
   "source": [
    "Based on the distribution of values in the 'participants_num' column, it seems that '0' and 'Nan' are outliers and make up only 3% of the dataframe, hence, we can exclude these rows"
   ],
   "metadata": {
    "collapsed": false
   }
  },
  {
   "cell_type": "code",
   "execution_count": 81,
   "outputs": [
    {
     "name": "stdout",
     "output_type": "stream",
     "text": [
      "Size of Cleaned DataFrame: (294716, 14)\n"
     ]
    }
   ],
   "source": [
    "# Filter out rows with '0' in the 'participants_num' column\n",
    "projects = projects[projects['participants_num'] != '0']\n",
    "\n",
    "# Filter out rows with '0' in the 'participants_num' column\n",
    "projects = projects[projects['participants_num'] != 'Nan']\n",
    "\n",
    "# Display the size of the cleaned dataframe\n",
    "print(\"Size of Cleaned DataFrame:\", projects.shape)"
   ],
   "metadata": {
    "collapsed": false,
    "ExecuteTime": {
     "end_time": "2024-02-12T16:38:30.142944Z",
     "start_time": "2024-02-12T16:38:29.989567Z"
    }
   }
  },
  {
   "cell_type": "code",
   "execution_count": 82,
   "outputs": [],
   "source": [],
   "metadata": {
    "collapsed": false,
    "ExecuteTime": {
     "end_time": "2024-02-12T16:38:53.105669Z",
     "start_time": "2024-02-12T16:38:53.099033Z"
    }
   }
  },
  {
   "cell_type": "markdown",
   "source": [],
   "metadata": {
    "collapsed": false
   }
  }
 ],
 "metadata": {
  "kernelspec": {
   "display_name": "Python 3",
   "language": "python",
   "name": "python3"
  },
  "language_info": {
   "codemirror_mode": {
    "name": "ipython",
    "version": 2
   },
   "file_extension": ".py",
   "mimetype": "text/x-python",
   "name": "python",
   "nbconvert_exporter": "python",
   "pygments_lexer": "ipython2",
   "version": "2.7.6"
  }
 },
 "nbformat": 4,
 "nbformat_minor": 0
}
