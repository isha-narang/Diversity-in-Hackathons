{
 "cells": [
  {
   "cell_type": "markdown",
   "id": "7657b674",
   "metadata": {},
   "source": [
    "## Hypothesis Testing for H1 and H2\n",
    "\n",
    "Hypothesis 1: Hackathons with explicit gender diversity initiatives have a higher rate of participation from women than those hackathons without such initiatives.\n",
    "\n",
    "Hypothesis 2: Hackathons that promote “learning” in their DevPost description pages attract higher participation of women as compared to those hackathons without such initiatives."
   ]
  },
  {
   "cell_type": "code",
   "execution_count": 1,
   "id": "acb59a50",
   "metadata": {},
   "outputs": [
    {
     "name": "stderr",
     "output_type": "stream",
     "text": [
      "/Users/Isha/anaconda3/lib/python3.10/site-packages/pandas/core/arrays/masked.py:60: UserWarning: Pandas requires version '1.3.6' or newer of 'bottleneck' (version '1.3.5' currently installed).\n",
      "  from pandas.core import (\n"
     ]
    }
   ],
   "source": [
    "# importing libraries\n",
    "import pandas as pd\n",
    "import numpy as np\n",
    "import matplotlib.pyplot as plt\n",
    "import seaborn as sns\n",
    "from scipy.stats import ttest_ind, mannwhitneyu\n",
    "from scipy import stats"
   ]
  },
  {
   "cell_type": "code",
   "execution_count": 2,
   "id": "f6d6ba0c",
   "metadata": {},
   "outputs": [],
   "source": [
    "hackathons = pd.read_csv('/Users/Isha/Desktop/TUe/Year 3/BEP/BEP_project/data/hackathons_final_post_stats.csv')\n",
    "participants_expanded = pd.read_csv('/Users/Isha/Desktop/TUe/Year 3/BEP/BEP_project/data/participants_new_post_stats.csv')"
   ]
  },
  {
   "cell_type": "code",
   "execution_count": 3,
   "id": "56cb7110",
   "metadata": {},
   "outputs": [
    {
     "data": {
      "text/plain": [
       "Index(['Unnamed: 0.1', 'Unnamed: 0', 'URL', 'Judging Criteria', 'schedule',\n",
       "       'hack_type', 'info', 'start_date_format', 'end_date_format', 'Prizes',\n",
       "       'prize_money', 'Id', 'Title', 'Location', 'start_date', 'end_date',\n",
       "       'year', 'themes', 'prize', 'registered_N', 'featured',\n",
       "       'organization_name', 'winners_announced', 'submission_gallery_url',\n",
       "       'start_a_submission_url', 'Subtitles', 'Sponsors', 'Judges',\n",
       "       'Eligibility', 'Requirements', 'females_participating',\n",
       "       'males_participating', 'unknown_gender_participating',\n",
       "       'actual_participants_N', 'participation_type', 'prize_money_status',\n",
       "       'duration_days', 'combined_text', 'classification_method1',\n",
       "       'classification_method2', 'classification_method3',\n",
       "       'classification_method4', 'classification_method5'],\n",
       "      dtype='object')"
      ]
     },
     "execution_count": 3,
     "metadata": {},
     "output_type": "execute_result"
    }
   ],
   "source": [
    "hackathons.columns"
   ]
  },
  {
   "cell_type": "markdown",
   "id": "26541778",
   "metadata": {},
   "source": [
    "## HYPOTHESIS 1:"
   ]
  },
  {
   "cell_type": "code",
   "execution_count": 4,
   "id": "91f5d3de",
   "metadata": {},
   "outputs": [
    {
     "name": "stdout",
     "output_type": "stream",
     "text": [
      "classification_method1\n",
      "No explicit gender diversity initiative    4961\n",
      "Women-encouraged                             94\n",
      "Women-targeted                               59\n",
      "Name: count, dtype: int64\n",
      "classification_method2\n",
      "No explicit gender diversity initiative    4789\n",
      "Women-encouraged                            222\n",
      "Women-targeted                              103\n",
      "Name: count, dtype: int64\n",
      "classification_method3\n",
      "No explicit gender diversity initiative    4789\n",
      "Women-encouraged                            222\n",
      "Women-targeted                              103\n",
      "Name: count, dtype: int64\n",
      "classification_method4\n",
      "No explicit gender diversity initiative    4784\n",
      "Women-encouraged                            272\n",
      "Women-targeted                               58\n",
      "Name: count, dtype: int64\n",
      "classification_method5\n",
      "No explicit gender diversity initiative    4867\n",
      "Women-encouraged                            241\n",
      "Women-targeted                                6\n",
      "Name: count, dtype: int64\n"
     ]
    }
   ],
   "source": [
    "## Method 1:\n",
    "# Analyze classification counts\n",
    "classification_counts = hackathons['classification_method1'].value_counts()\n",
    "print(classification_counts)\n",
    "\n",
    "## Method 2:\n",
    "classification_counts = hackathons['classification_method2'].value_counts()\n",
    "print(classification_counts)\n",
    "\n",
    "## Method 3:\n",
    "classification_counts = hackathons['classification_method3'].value_counts()\n",
    "print(classification_counts)\n",
    "\n",
    "## Method 4:\n",
    "classification_counts = hackathons['classification_method4'].value_counts()\n",
    "print(classification_counts)\n",
    "\n",
    "## Method 5:\n",
    "classification_counts = hackathons['classification_method5'].value_counts()\n",
    "print(classification_counts)"
   ]
  },
  {
   "cell_type": "code",
   "execution_count": 5,
   "id": "f39f32cb",
   "metadata": {},
   "outputs": [
    {
     "name": "stderr",
     "output_type": "stream",
     "text": [
      "/var/folders/_f/7jgfw7qx5jn8xl64g_9px9g00000gp/T/ipykernel_92180/3987632896.py:6: SettingWithCopyWarning: \n",
      "A value is trying to be set on a copy of a slice from a DataFrame.\n",
      "Try using .loc[row_indexer,col_indexer] = value instead\n",
      "\n",
      "See the caveats in the documentation: https://pandas.pydata.org/pandas-docs/stable/user_guide/indexing.html#returning-a-view-versus-a-copy\n",
      "  with_initiatives['female_proportion'] = with_initiatives['females_participating'] / with_initiatives['actual_participants_N']\n",
      "/var/folders/_f/7jgfw7qx5jn8xl64g_9px9g00000gp/T/ipykernel_92180/3987632896.py:7: SettingWithCopyWarning: \n",
      "A value is trying to be set on a copy of a slice from a DataFrame.\n",
      "Try using .loc[row_indexer,col_indexer] = value instead\n",
      "\n",
      "See the caveats in the documentation: https://pandas.pydata.org/pandas-docs/stable/user_guide/indexing.html#returning-a-view-versus-a-copy\n",
      "  without_initiatives['female_proportion'] = without_initiatives['females_participating'] / without_initiatives['actual_participants_N']\n"
     ]
    }
   ],
   "source": [
    "# Step 1: Data Segregation\n",
    "with_initiatives = hackathons[hackathons['classification_method4'].isin(['Women-encouraged', 'Women-targeted'])]\n",
    "without_initiatives = hackathons[hackathons['classification_method4'] == 'No explicit gender diversity initiative']\n",
    "\n",
    "# Step 2: Calculate Proportions\n",
    "with_initiatives['female_proportion'] = with_initiatives['females_participating'] / with_initiatives['actual_participants_N']\n",
    "without_initiatives['female_proportion'] = without_initiatives['females_participating'] / without_initiatives['actual_participants_N']\n",
    "\n",
    "# Step 3: Summary Statistics\n",
    "summary_with = with_initiatives['female_proportion'].describe()\n",
    "summary_without = without_initiatives['female_proportion'].describe()"
   ]
  },
  {
   "cell_type": "code",
   "execution_count": 6,
   "id": "91235a26",
   "metadata": {},
   "outputs": [
    {
     "name": "stdout",
     "output_type": "stream",
     "text": [
      "summary with gender intitaives: count    330.000000\n",
      "mean       0.526342\n",
      "std        0.312692\n",
      "min        0.000000\n",
      "25%        0.250000\n",
      "50%        0.500000\n",
      "75%        0.787338\n",
      "max        1.000000\n",
      "Name: female_proportion, dtype: float64\n",
      "\n",
      "\n",
      "summary without gender intitaives: count    4784.000000\n",
      "mean        0.219544\n",
      "std         0.217839\n",
      "min         0.000000\n",
      "25%         0.000000\n",
      "50%         0.187500\n",
      "75%         0.307692\n",
      "max         1.000000\n",
      "Name: female_proportion, dtype: float64\n"
     ]
    }
   ],
   "source": [
    "print('summary with gender intitaives:',summary_with)\n",
    "print(\"\\n\")\n",
    "print('summary without gender intitaives:',summary_without)"
   ]
  },
  {
   "cell_type": "markdown",
   "id": "b20a1329",
   "metadata": {},
   "source": [
    "The descriptive statistics for hackathons with gender diversity initiatives show:\n",
    "\n",
    "- Mean Proportion of Female Participation: 53.63%, which is substantially higher than hackathons without such initiatives.\n",
    "- Standard Deviation: 33.68%, indicating variability in the proportion of female participation across these hackathons.\n",
    "- Median (50%): 57.14%, suggesting that more than half of these hackathons have female participation rates higher than this value.\n",
    "- Interquartile Range (25% - 75%): Spans from 25% to 83.33%, highlighting a broad spread of participation rates, but still skewed towards higher participation.\n",
    "\n",
    "For hackathons without gender diversity initiatives:\n",
    "\n",
    "- Mean Proportion of Female Participation: 22.30%, significantly lower than those with initiatives.\n",
    "- Standard Deviation: 24.61%, somewhat less variability compared to the initiative-including group, but still considerable.\n",
    "- Median (50%): 17.65%, indicating a generally lower rate of female participation.\n",
    "- Interquartile Range (25% - 75%): From 0% to 33.33%, showing that the majority of these hackathons have much lower female participation."
   ]
  },
  {
   "cell_type": "code",
   "execution_count": 7,
   "id": "d7ef6c3a",
   "metadata": {},
   "outputs": [],
   "source": [
    "# Step 4: Hypothesis Testing\n",
    "# Check for normality\n",
    "if stats.shapiro(with_initiatives['female_proportion'])[1] > 0.05 and stats.shapiro(without_initiatives['female_proportion'])[1] > 0.05:\n",
    "    # Perform t-test\n",
    "    t_stat, p_value = stats.ttest_ind(with_initiatives['female_proportion'], without_initiatives['female_proportion'], equal_var=False)\n",
    "    test_used = \"Welch's t-test\"\n",
    "else:\n",
    "    # Perform Mann-Whitney U Test\n",
    "    u_stat, p_value = stats.mannwhitneyu(with_initiatives['female_proportion'], without_initiatives['female_proportion'], alternative='greater')\n",
    "    test_used = \"Mann-Whitney U Test\""
   ]
  },
  {
   "cell_type": "code",
   "execution_count": 8,
   "id": "98da106f",
   "metadata": {},
   "outputs": [
    {
     "data": {
      "image/png": "[encoded data removed]",
      "text/plain": [
       "<Figure size 1000x600 with 1 Axes>"
      ]
     },
     "metadata": {},
     "output_type": "display_data"
    },
    {
     "name": "stdout",
     "output_type": "stream",
     "text": [
      "Test Used: Mann-Whitney U Test\n",
      "P-value: 0.0000\n",
      "Reject the Null Hypothesis: Significant difference in female participation.\n",
      "Summary Statistics With Initiatives: count    330.000000\n",
      "mean       0.526342\n",
      "std        0.312692\n",
      "min        0.000000\n",
      "25%        0.250000\n",
      "50%        0.500000\n",
      "75%        0.787338\n",
      "max        1.000000\n",
      "Name: female_proportion, dtype: float64\n",
      "Summary Statistics Without Initiatives: count    4784.000000\n",
      "mean        0.219544\n",
      "std         0.217839\n",
      "min         0.000000\n",
      "25%         0.000000\n",
      "50%         0.187500\n",
      "75%         0.307692\n",
      "max         1.000000\n",
      "Name: female_proportion, dtype: float64\n"
     ]
    }
   ],
   "source": [
    "# Step 5: Visual Analysis\n",
    "plt.figure(figsize=(10, 6))\n",
    "plt.hist(with_initiatives['female_proportion'], alpha=0.7, label='With Initiatives', bins=20)\n",
    "plt.hist(without_initiatives['female_proportion'], alpha=0.7, label='Without Initiatives', bins=20)\n",
    "plt.title('Distribution of Female Participation Proportion')\n",
    "plt.xlabel('Proportion of Female Participants')\n",
    "plt.ylabel('Frequency')\n",
    "plt.legend()\n",
    "plt.show()\n",
    "\n",
    "# Step 6: Interpretation\n",
    "print(f\"Test Used: {test_used}\")\n",
    "print(f\"P-value: {p_value:.4f}\")\n",
    "if p_value < 0.05:\n",
    "    print(\"Reject the Null Hypothesis: Significant difference in female participation.\")\n",
    "else:\n",
    "    print(\"Fail to Reject the Null Hypothesis: No significant difference in female participation.\")\n",
    "\n",
    "# Summary Statistics Output\n",
    "print(\"Summary Statistics With Initiatives:\", summary_with)\n",
    "print(\"Summary Statistics Without Initiatives:\", summary_without)"
   ]
  },
  {
   "cell_type": "markdown",
   "id": "d44e79e2",
   "metadata": {},
   "source": [
    "#### Mann-Whitney U Test\n",
    "The choice of the Mann-Whitney U Test was appropriate given:\n",
    "\n",
    "- The non-normal distribution of the data, as evident from the histograms and the difference in data spread and center between the two groups.\n",
    "- The significant p-value (< 0.0001) suggests a statistically significant difference between the two groups, confirming that hackathons with gender diversity initiatives have higher female participation rates than those without.\n",
    "\n",
    "#### Histogram Analysis\n",
    "The histogram visually supports the statistical test results:\n",
    "\n",
    "- Hackathons with Initiatives (Blue): More widely distributed across higher values of female participation proportion, with a noticeable frequency even near 100%.\n",
    "- Hackathons without Initiatives (Orange): The majority are clustered around lower values with a significant drop-off as the proportion increases.\n",
    "\n",
    "#### Evaluation of Approach and Further Recommendations\n",
    "The approach used was highly appropriate for the hypothesis tested:\n",
    "The segmentation of data based on the presence of diversity initiatives was correctly handled.\n",
    "The calculation of the proportion of female participants provided a direct measure of gender diversity impact.\n",
    "The use of non-parametric testing aligned well with the data characteristics.\n",
    "\n",
    "#### Further Recommendations:\n",
    "Investigate Other Variables: Consider other factors that could influence participation rates such as hackathon location, size, theme, and marketing strategies.\n",
    "Longitudinal Analysis: Examine changes over time in hackathons with repeated events to see if initiatives gain effectiveness or lose impact.\n",
    "Qualitative Data: Supplement this analysis with qualitative data from participant feedback to understand the nuances behind the numbers."
   ]
  },
  {
   "cell_type": "markdown",
   "id": "1e3b5ccc",
   "metadata": {},
   "source": [
    "## HYPOTHESIS 2:\n",
    "\n",
    "**edited:** Hackathons that promote “learning” in some way in their DevPost description pages attract higher participation of women as compared to those without such initiatives. "
   ]
  },
  {
   "cell_type": "code",
   "execution_count": 9,
   "id": "e355c86e",
   "metadata": {},
   "outputs": [],
   "source": [
    "# Define learning-related themes\n",
    "learning_themes = ['Beginner-friendly', 'Productivity', 'Education', 'Low/No Code', 'Open-Ended']\n",
    "\n",
    "# Flag hackathons with any of the learning themes\n",
    "hackathons['is_learning'] = hackathons['themes'].apply(lambda x: any(theme in x for theme in learning_themes))"
   ]
  },
  {
   "cell_type": "code",
   "execution_count": 10,
   "id": "e0e7acc6",
   "metadata": {},
   "outputs": [],
   "source": [
    "# Segregate the Data\n",
    "# Group 1 (Learning-focused): Hackathons that fall under any of the identified learning themes.\n",
    "# Group 2 (Non-Learning-focused): Hackathons that do not fall under any of the learning themes.\n",
    "learning_hackathons = hackathons[hackathons['is_learning']]\n",
    "non_learning_hackathons = hackathons[~hackathons['is_learning']]\n",
    "\n",
    "# Calculate Proprotions\n",
    "hackathons['female_proportion'] = hackathons['females_participating'] / hackathons['actual_participants_N']"
   ]
  },
  {
   "cell_type": "code",
   "execution_count": 15,
   "id": "39284f8f",
   "metadata": {},
   "outputs": [
    {
     "data": {
      "image/png": "[encoded data removed]",
      "text/plain": [
       "<Figure size 640x480 with 1 Axes>"
      ]
     },
     "metadata": {},
     "output_type": "display_data"
    }
   ],
   "source": [
    "# EDA\n",
    "sns.boxplot(x='is_learning', y='female_proportion', data=hackathons, palette='bright')\n",
    "plt.title('Distribution of Female Participation by Hackathon Type')\n",
    "plt.xlabel('Is Learning Focused')\n",
    "plt.ylabel('Proportion of Female Participants')\n",
    "plt.show()"
   ]
  },
  {
   "cell_type": "markdown",
   "id": "58ea4f6f",
   "metadata": {},
   "source": [
    "The boxplot visually confirms the statistical summary:\n",
    "\n",
    "- **Higher Median and Quartiles**: Learning-focused hackathons have a higher median and upper quartile compared to non-learning-focused hackathons, indicating generally better female participation.\n",
    "- **Outliers**: Both categories show outliers, particularly for learning-focused hackathons where some hackathons have exceptionally high female participation."
   ]
  },
  {
   "cell_type": "code",
   "execution_count": 13,
   "id": "ff3a2ff9",
   "metadata": {},
   "outputs": [
    {
     "name": "stdout",
     "output_type": "stream",
     "text": [
      "Summary Statistics for Learning Focused Hackathons: count    5114.000000\n",
      "mean        0.239341\n",
      "std         0.237415\n",
      "min         0.000000\n",
      "25%         0.052632\n",
      "50%         0.200000\n",
      "75%         0.333333\n",
      "max         1.000000\n",
      "Name: female_proportion, dtype: float64\n",
      "Summary Statistics for Non-Learning Focused Hackathons: count    5114.000000\n",
      "mean        0.239341\n",
      "std         0.237415\n",
      "min         0.000000\n",
      "25%         0.052632\n",
      "50%         0.200000\n",
      "75%         0.333333\n",
      "max         1.000000\n",
      "Name: female_proportion, dtype: float64\n"
     ]
    }
   ],
   "source": [
    "summary_learning = learning_hackathons['female_proportion'].describe()\n",
    "summary_non_learning = non_learning_hackathons['female_proportion'].describe()\n",
    "print(\"Summary Statistics for Learning Focused Hackathons:\", summary_learning)\n",
    "print(\"Summary Statistics for Non-Learning Focused Hackathons:\", summary_non_learning)\n"
   ]
  },
  {
   "cell_type": "code",
   "execution_count": 14,
   "id": "713b7f6e",
   "metadata": {},
   "outputs": [
    {
     "ename": "KeyError",
     "evalue": "'female_proportion'",
     "output_type": "error",
     "traceback": [
      "\u001b[0;31m---------------------------------------------------------------------------\u001b[0m",
      "\u001b[0;31mKeyError\u001b[0m                                  Traceback (most recent call last)",
      "File \u001b[0;32m~/anaconda3/lib/python3.10/site-packages/pandas/core/indexes/base.py:3805\u001b[0m, in \u001b[0;36mIndex.get_loc\u001b[0;34m(self, key)\u001b[0m\n\u001b[1;32m   3804\u001b[0m \u001b[38;5;28;01mtry\u001b[39;00m:\n\u001b[0;32m-> 3805\u001b[0m     \u001b[38;5;28;01mreturn\u001b[39;00m \u001b[38;5;28;43mself\u001b[39;49m\u001b[38;5;241;43m.\u001b[39;49m\u001b[43m_engine\u001b[49m\u001b[38;5;241;43m.\u001b[39;49m\u001b[43mget_loc\u001b[49m\u001b[43m(\u001b[49m\u001b[43mcasted_key\u001b[49m\u001b[43m)\u001b[49m\n\u001b[1;32m   3806\u001b[0m \u001b[38;5;28;01mexcept\u001b[39;00m \u001b[38;5;167;01mKeyError\u001b[39;00m \u001b[38;5;28;01mas\u001b[39;00m err:\n",
      "File \u001b[0;32mindex.pyx:167\u001b[0m, in \u001b[0;36mpandas._libs.index.IndexEngine.get_loc\u001b[0;34m()\u001b[0m\n",
      "File \u001b[0;32mindex.pyx:196\u001b[0m, in \u001b[0;36mpandas._libs.index.IndexEngine.get_loc\u001b[0;34m()\u001b[0m\n",
      "File \u001b[0;32mpandas/_libs/hashtable_class_helper.pxi:7081\u001b[0m, in \u001b[0;36mpandas._libs.hashtable.PyObjectHashTable.get_item\u001b[0;34m()\u001b[0m\n",
      "File \u001b[0;32mpandas/_libs/hashtable_class_helper.pxi:7089\u001b[0m, in \u001b[0;36mpandas._libs.hashtable.PyObjectHashTable.get_item\u001b[0;34m()\u001b[0m\n",
      "\u001b[0;31mKeyError\u001b[0m: 'female_proportion'",
      "\nThe above exception was the direct cause of the following exception:\n",
      "\u001b[0;31mKeyError\u001b[0m                                  Traceback (most recent call last)",
      "Cell \u001b[0;32mIn[14], line 6\u001b[0m\n\u001b[1;32m      2\u001b[0m \u001b[38;5;28;01mfrom\u001b[39;00m \u001b[38;5;21;01mscipy\u001b[39;00m\u001b[38;5;21;01m.\u001b[39;00m\u001b[38;5;21;01mstats\u001b[39;00m \u001b[38;5;28;01mimport\u001b[39;00m mannwhitneyu\n\u001b[1;32m      4\u001b[0m \u001b[38;5;66;03m# Mann-Whitney U Test for non-normal distributions - REFORMULATE THIS INCLUDING THE O PROP FEMALE\u001b[39;00m\n\u001b[1;32m      5\u001b[0m u_stat, p_value \u001b[38;5;241m=\u001b[39m mannwhitneyu(\n\u001b[0;32m----> 6\u001b[0m     \u001b[43mlearning_hackathons\u001b[49m\u001b[43m[\u001b[49m\u001b[38;5;124;43m'\u001b[39;49m\u001b[38;5;124;43mfemale_proportion\u001b[39;49m\u001b[38;5;124;43m'\u001b[39;49m\u001b[43m]\u001b[49m\u001b[38;5;241m.\u001b[39mdropna(),\n\u001b[1;32m      7\u001b[0m     non_learning_hackathons[\u001b[38;5;124m'\u001b[39m\u001b[38;5;124mfemale_proportion\u001b[39m\u001b[38;5;124m'\u001b[39m]\u001b[38;5;241m.\u001b[39mdropna(),\n\u001b[1;32m      8\u001b[0m     alternative\u001b[38;5;241m=\u001b[39m\u001b[38;5;124m'\u001b[39m\u001b[38;5;124mgreater\u001b[39m\u001b[38;5;124m'\u001b[39m\n\u001b[1;32m      9\u001b[0m )\n\u001b[1;32m     10\u001b[0m \u001b[38;5;28mprint\u001b[39m(\u001b[38;5;124m'\u001b[39m\u001b[38;5;124mMann-Whitney U Test P-value:\u001b[39m\u001b[38;5;124m'\u001b[39m, p_value)\n\u001b[1;32m     12\u001b[0m \u001b[38;5;66;03m# Interpret results\u001b[39;00m\n",
      "File \u001b[0;32m~/anaconda3/lib/python3.10/site-packages/pandas/core/frame.py:4102\u001b[0m, in \u001b[0;36mDataFrame.__getitem__\u001b[0;34m(self, key)\u001b[0m\n\u001b[1;32m   4100\u001b[0m \u001b[38;5;28;01mif\u001b[39;00m \u001b[38;5;28mself\u001b[39m\u001b[38;5;241m.\u001b[39mcolumns\u001b[38;5;241m.\u001b[39mnlevels \u001b[38;5;241m>\u001b[39m \u001b[38;5;241m1\u001b[39m:\n\u001b[1;32m   4101\u001b[0m     \u001b[38;5;28;01mreturn\u001b[39;00m \u001b[38;5;28mself\u001b[39m\u001b[38;5;241m.\u001b[39m_getitem_multilevel(key)\n\u001b[0;32m-> 4102\u001b[0m indexer \u001b[38;5;241m=\u001b[39m \u001b[38;5;28;43mself\u001b[39;49m\u001b[38;5;241;43m.\u001b[39;49m\u001b[43mcolumns\u001b[49m\u001b[38;5;241;43m.\u001b[39;49m\u001b[43mget_loc\u001b[49m\u001b[43m(\u001b[49m\u001b[43mkey\u001b[49m\u001b[43m)\u001b[49m\n\u001b[1;32m   4103\u001b[0m \u001b[38;5;28;01mif\u001b[39;00m is_integer(indexer):\n\u001b[1;32m   4104\u001b[0m     indexer \u001b[38;5;241m=\u001b[39m [indexer]\n",
      "File \u001b[0;32m~/anaconda3/lib/python3.10/site-packages/pandas/core/indexes/base.py:3812\u001b[0m, in \u001b[0;36mIndex.get_loc\u001b[0;34m(self, key)\u001b[0m\n\u001b[1;32m   3807\u001b[0m     \u001b[38;5;28;01mif\u001b[39;00m \u001b[38;5;28misinstance\u001b[39m(casted_key, \u001b[38;5;28mslice\u001b[39m) \u001b[38;5;129;01mor\u001b[39;00m (\n\u001b[1;32m   3808\u001b[0m         \u001b[38;5;28misinstance\u001b[39m(casted_key, abc\u001b[38;5;241m.\u001b[39mIterable)\n\u001b[1;32m   3809\u001b[0m         \u001b[38;5;129;01mand\u001b[39;00m \u001b[38;5;28many\u001b[39m(\u001b[38;5;28misinstance\u001b[39m(x, \u001b[38;5;28mslice\u001b[39m) \u001b[38;5;28;01mfor\u001b[39;00m x \u001b[38;5;129;01min\u001b[39;00m casted_key)\n\u001b[1;32m   3810\u001b[0m     ):\n\u001b[1;32m   3811\u001b[0m         \u001b[38;5;28;01mraise\u001b[39;00m InvalidIndexError(key)\n\u001b[0;32m-> 3812\u001b[0m     \u001b[38;5;28;01mraise\u001b[39;00m \u001b[38;5;167;01mKeyError\u001b[39;00m(key) \u001b[38;5;28;01mfrom\u001b[39;00m \u001b[38;5;21;01merr\u001b[39;00m\n\u001b[1;32m   3813\u001b[0m \u001b[38;5;28;01mexcept\u001b[39;00m \u001b[38;5;167;01mTypeError\u001b[39;00m:\n\u001b[1;32m   3814\u001b[0m     \u001b[38;5;66;03m# If we have a listlike key, _check_indexing_error will raise\u001b[39;00m\n\u001b[1;32m   3815\u001b[0m     \u001b[38;5;66;03m#  InvalidIndexError. Otherwise we fall through and re-raise\u001b[39;00m\n\u001b[1;32m   3816\u001b[0m     \u001b[38;5;66;03m#  the TypeError.\u001b[39;00m\n\u001b[1;32m   3817\u001b[0m     \u001b[38;5;28mself\u001b[39m\u001b[38;5;241m.\u001b[39m_check_indexing_error(key)\n",
      "\u001b[0;31mKeyError\u001b[0m: 'female_proportion'"
     ]
    }
   ],
   "source": [
    "# Hypothesis Testing \n",
    "from scipy.stats import mannwhitneyu\n",
    "\n",
    "# Mann-Whitney U Test for non-normal distributions - REFORMULATE THIS INCLUDING THE O PROP FEMALE\n",
    "u_stat, p_value = mannwhitneyu(\n",
    "    learning_hackathons['female_proportion'].dropna(),\n",
    "    non_learning_hackathons['female_proportion'].dropna(),\n",
    "    alternative='greater'\n",
    ")\n",
    "print('Mann-Whitney U Test P-value:', p_value)\n",
    "\n",
    "# Interpret results\n",
    "alpha = 0.05\n",
    "if p_value < alpha:\n",
    "    print(\"Reject the Null Hypothesis: Significant difference in female participation.\")\n",
    "else:\n",
    "    print(\"Fail to Reject the Null Hypothesis: No significant difference in female participation.\")\n"
   ]
  },
  {
   "cell_type": "markdown",
   "id": "12f78cd4",
   "metadata": {},
   "source": [
    "### Interpretation of results\n",
    "P-value: 0.00008224537372840672 indicates a statistically significant difference in female participation rates between the two groups. This low p-value allows us to reject the null hypothesis confidently.\n",
    "\n",
    "- Statistical Significance: The analysis clearly shows that learning-focused hackathons tend to have higher female participation than non-learning-focused hackathons. This suggests that themes promoting learning and possibly being more inclusive or less intimidating might be more appealing or accessible to female participants.\n",
    "- Effect of Learning Themes: Hackathons that emphasize learning (tagged as \"Beginner-friendly\", \"Productivity\", \"Education\", \"Low/No Code\", \"Open-Ended\") appear to be more successful in attracting female participants. This could be due to these themes fostering a more welcoming and supportive environment conducive to participants who are possibly less confident or experienced in typical hackathon domains.\n",
    "\n",
    "Recommendations for Further Actions\n",
    "- Promote Learning Themes: Organizers might consider highlighting educational and beginner-friendly aspects more prominently in their hackathons to attract greater female participation.\n",
    "- Detailed Follow-up Analysis: Further analysis could delve into the characteristics of hackathons with high female participation rates to identify specific factors or practices that are particularly effective.\n",
    "- Qualitative Insights: Collecting feedback from participants could provide deeper insights into why certain themes are more attractive to women, helping to tailor future events more effectively."
   ]
  },
  {
   "cell_type": "code",
   "execution_count": null,
   "id": "690eae0c",
   "metadata": {},
   "outputs": [],
   "source": [
    "## correcting"
   ]
  },
  {
   "cell_type": "code",
   "execution_count": 17,
   "id": "21432547",
   "metadata": {},
   "outputs": [
    {
     "data": {
      "image/png": "[encoded data removed]",
      "text/plain": [
       "<Figure size 640x480 with 1 Axes>"
      ]
     },
     "metadata": {},
     "output_type": "display_data"
    },
    {
     "name": "stdout",
     "output_type": "stream",
     "text": [
      "Summary Statistics for Learning Focused Hackathons: count    516.000000\n",
      "mean       0.293183\n",
      "std        0.266960\n",
      "min        0.000000\n",
      "25%        0.090909\n",
      "50%        0.250000\n",
      "75%        0.416667\n",
      "max        1.000000\n",
      "Name: female_proportion, dtype: float64\n",
      "Summary Statistics for Non-Learning Focused Hackathons: count    4598.000000\n",
      "mean        0.233299\n",
      "std         0.233124\n",
      "min         0.000000\n",
      "25%         0.043972\n",
      "50%         0.196187\n",
      "75%         0.333333\n",
      "max         1.000000\n",
      "Name: female_proportion, dtype: float64\n",
      "Mann-Whitney U Test P-value: 9.586729704672317e-08\n",
      "Reject the Null Hypothesis: Significant difference in female participation.\n"
     ]
    }
   ],
   "source": [
    "# Define learning-related themes\n",
    "learning_themes = ['Beginner-friendly', 'Productivity', 'Education', 'Low/No Code', 'Open-Ended']\n",
    "\n",
    "# Flag hackathons with any of the learning themes\n",
    "hackathons['is_learning'] = hackathons['themes'].apply(lambda x: any(theme in x for theme in learning_themes))\n",
    "\n",
    "# Segregate the Data\n",
    "learning_hackathons = hackathons[hackathons['is_learning']]\n",
    "non_learning_hackathons = hackathons[~hackathons['is_learning']]\n",
    "\n",
    "# Calculate Proportions\n",
    "hackathons['female_proportion'] = hackathons['females_participating'] / hackathons['actual_participants_N']\n",
    "\n",
    "# EDA\n",
    "sns.boxplot(x='is_learning', y='female_proportion', data=hackathons, palette='husl')\n",
    "plt.title('Distribution of Female Participation by Hackathon Type')\n",
    "plt.xlabel('Is Learning Focused')\n",
    "plt.ylabel('Proportion of Female Participants')\n",
    "plt.show()\n",
    "\n",
    "# Summary Statistics\n",
    "summary_learning = learning_hackathons['female_proportion'].dropna().describe()\n",
    "summary_non_learning = non_learning_hackathons['female_proportion'].dropna().describe()\n",
    "print(\"Summary Statistics for Learning Focused Hackathons:\", summary_learning)\n",
    "print(\"Summary Statistics for Non-Learning Focused Hackathons:\", summary_non_learning)\n",
    "\n",
    "# Hypothesis Testing \n",
    "from scipy.stats import mannwhitneyu\n",
    "\n",
    "# Mann-Whitney U Test for non-normal distributions\n",
    "u_stat, p_value = mannwhitneyu(\n",
    "    learning_hackathons['female_proportion'].dropna(),\n",
    "    non_learning_hackathons['female_proportion'].dropna(),\n",
    "    alternative='greater'\n",
    ")\n",
    "print('Mann-Whitney U Test P-value:', p_value)\n",
    "\n",
    "# Interpret results\n",
    "alpha = 0.05\n",
    "if p_value < alpha:\n",
    "    print(\"Reject the Null Hypothesis: Significant difference in female participation.\")\n",
    "else:\n",
    "    print(\"Fail to Reject the Null Hypothesis: No significant difference in female participation.\")\n"
   ]
  }
 ],
 "metadata": {
  "kernelspec": {
   "display_name": "Python 3 (ipykernel)",
   "language": "python",
   "name": "python3"
  },
  "language_info": {
   "codemirror_mode": {
    "name": "ipython",
    "version": 3
   },
   "file_extension": ".py",
   "mimetype": "text/x-python",
   "name": "python",
   "nbconvert_exporter": "python",
   "pygments_lexer": "ipython3",
   "version": "3.10.9"
  }
 },
 "nbformat": 4,
 "nbformat_minor": 5
}
