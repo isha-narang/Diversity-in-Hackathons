{
 "cells": [
  {
   "cell_type": "markdown",
   "metadata": {},
   "source": [
    "## EDA"
   ]
  },
  {
   "cell_type": "code",
   "execution_count": 1,
   "metadata": {
    "ExecuteTime": {
     "end_time": "2024-03-24T15:03:21.690932Z",
     "start_time": "2024-03-24T15:03:21.023237Z"
    }
   },
   "outputs": [],
   "source": [
    "# Importing libraries\n",
    "import pandas as pd"
   ]
  },
  {
   "cell_type": "code",
   "execution_count": 2,
   "metadata": {
    "ExecuteTime": {
     "end_time": "2024-03-24T15:03:24.381078Z",
     "start_time": "2024-03-24T15:03:21.692633Z"
    }
   },
   "outputs": [
    {
     "name": "stderr",
     "output_type": "stream",
     "text": [
      "/var/folders/_f/7jgfw7qx5jn8xl64g_9px9g00000gp/T/ipykernel_2489/3353905109.py:3: DtypeWarning: Columns (5) have mixed types. Specify dtype option on import or set low_memory=False.\n",
      "  participants = pd.read_csv('/Users/Isha/Desktop/TUe/Year 3/BEP/BEP_project/data/participants.csv')\n"
     ]
    }
   ],
   "source": [
    "# Read CSV files from data folder and store in dataframes\n",
    "hackathons = pd.read_csv('/Users/Isha/Desktop/TUe/Year 3/BEP/BEP_project/data/hackathons.csv')\n",
    "participants = pd.read_csv('/Users/Isha/Desktop/TUe/Year 3/BEP/BEP_project/data/participants.csv')\n",
    "participants_links = pd.read_csv('/Users/Isha/Desktop/TUe/Year 3/BEP/BEP_project/data/participants-links.csv')\n",
    "projects = pd.read_csv('/Users/Isha/Desktop/TUe/Year 3/BEP/BEP_project/data/projects.csv')"
   ]
  },
  {
   "cell_type": "code",
   "execution_count": 3,
   "metadata": {
    "ExecuteTime": {
     "end_time": "2024-03-24T15:03:25.442519Z",
     "start_time": "2024-03-24T15:03:25.437444Z"
    }
   },
   "outputs": [
    {
     "name": "stdout",
     "output_type": "stream",
     "text": [
      "Hackathon dataframe columns:  Index(['Unnamed: 0', 'URL', 'Criteria', 'schedule', 'hack_type', 'info',\n",
      "       'start_date_format', 'end_date_format', 'Prizes', 'prize_money', 'Id',\n",
      "       'Title', 'Location', 'start_date', 'end_date', 'year', 'themes',\n",
      "       'prize', 'registered_N', 'featured', 'organization_name',\n",
      "       'winners_announced', 'submission_gallery_url',\n",
      "       'start_a_submission_url'],\n",
      "      dtype='object')\n"
     ]
    },
    {
     "data": {
      "text/plain": [
       "7053"
      ]
     },
     "execution_count": 3,
     "metadata": {},
     "output_type": "execute_result"
    }
   ],
   "source": [
    "print('Hackathon dataframe columns: ', hackathons.columns)\n",
    "hackathons.head(50)\n",
    "len(hackathons)"
   ]
  },
  {
   "cell_type": "code",
   "execution_count": 5,
   "metadata": {
    "ExecuteTime": {
     "end_time": "2024-03-14T07:28:56.150343Z",
     "start_time": "2024-03-14T07:28:56.147159Z"
    }
   },
   "outputs": [
    {
     "name": "stdout",
     "output_type": "stream",
     "text": [
      "Participants dataframe columns:  Index(['Unnamed: 0', 'name', 'skills', 'info', 'country', 'url'], dtype='object')\n"
     ]
    },
    {
     "data": {
      "text/plain": [
       "282277"
      ]
     },
     "execution_count": 5,
     "metadata": {},
     "output_type": "execute_result"
    }
   ],
   "source": [
    "print('Participants dataframe columns: ', participants.columns)\n",
    "participants.head(50)\n",
    "len(participants)"
   ]
  },
  {
   "cell_type": "code",
   "execution_count": 6,
   "metadata": {
    "ExecuteTime": {
     "end_time": "2024-03-14T07:28:56.155169Z",
     "start_time": "2024-03-14T07:28:56.152291Z"
    }
   },
   "outputs": [
    {
     "name": "stdout",
     "output_type": "stream",
     "text": [
      "Participants_links dataframe columns:  Index(['url', 'name', 'website', 'github', 'twitter', 'address', 'skills',\n",
      "       'interests'],\n",
      "      dtype='object')\n"
     ]
    },
    {
     "data": {
      "text/plain": [
       "191638"
      ]
     },
     "execution_count": 6,
     "metadata": {},
     "output_type": "execute_result"
    }
   ],
   "source": [
    "print('Participants_links dataframe columns: ', participants_links.columns)\n",
    "participants_links.head(50)\n",
    "len(participants_links)"
   ]
  },
  {
   "cell_type": "code",
   "execution_count": 7,
   "metadata": {
    "ExecuteTime": {
     "end_time": "2024-03-14T07:28:56.210285Z",
     "start_time": "2024-03-14T07:28:56.156155Z"
    }
   },
   "outputs": [
    {
     "name": "stdout",
     "output_type": "stream",
     "text": [
      "Projects dataframe columns:  Index(['Unnamed: 0', 'submission_gal_url', 'project_URL', 'github_links',\n",
      "       'participants', 'participants_num', 'build_with', 'repo_link', 'repo',\n",
      "       'submitted_to_link', 'submitted_to_name', 'submitted_to_hacks_num',\n",
      "       'likes', 'comments'],\n",
      "      dtype='object')\n"
     ]
    },
    {
     "data": {
      "text/plain": [
       "303680"
      ]
     },
     "execution_count": 7,
     "metadata": {},
     "output_type": "execute_result"
    }
   ],
   "source": [
    "print('Projects dataframe columns: ', projects.columns)\n",
    "projects.head(50)\n",
    "len(projects)"
   ]
  },
  {
   "cell_type": "markdown",
   "metadata": {},
   "source": [
    "### Descriptive statistics"
   ]
  },
  {
   "cell_type": "code",
   "execution_count": 8,
   "metadata": {
    "ExecuteTime": {
     "end_time": "2024-03-14T07:28:56.746324Z",
     "start_time": "2024-03-14T07:28:56.303473Z"
    }
   },
   "outputs": [
    {
     "name": "stdout",
     "output_type": "stream",
     "text": [
      "Hackathons Missing Values:\n",
      "Index(['Criteria', 'Prizes', 'Title', 'Location', 'start_date', 'themes',\n",
      "       'organization_name'],\n",
      "      dtype='object')\n",
      "\n",
      "Participants Missing Values:\n",
      "Index(['skills', 'url'], dtype='object')\n",
      "\n",
      "Participants Links Missing Values:\n",
      "Index(['website', 'github', 'twitter', 'address', 'skills', 'interests'], dtype='object')\n",
      "\n",
      "Projects Missing Values:\n",
      "Index(['github_links', 'participants', 'build_with', 'repo',\n",
      "       'submitted_to_hacks_num'],\n",
      "      dtype='object')\n"
     ]
    }
   ],
   "source": [
    "# Display columns with missing values for each dataframe\n",
    "print(\"Hackathons Missing Values:\")\n",
    "print(hackathons.columns[hackathons.isnull().any()])\n",
    "\n",
    "print(\"\\nParticipants Missing Values:\")\n",
    "print(participants.columns[participants.isnull().any()])\n",
    "\n",
    "print(\"\\nParticipants Links Missing Values:\")\n",
    "print(participants_links.columns[participants_links.isnull().any()])\n",
    "\n",
    "print(\"\\nProjects Missing Values:\")\n",
    "print(projects.columns[projects.isnull().any()])\n"
   ]
  },
  {
   "cell_type": "markdown",
   "metadata": {},
   "source": [
    "#### Count of missing values for each column in all the 4 dataframes"
   ]
  },
  {
   "cell_type": "code",
   "execution_count": 9,
   "metadata": {
    "ExecuteTime": {
     "end_time": "2024-03-14T07:28:57.310742Z",
     "start_time": "2024-03-14T07:28:56.761060Z"
    }
   },
   "outputs": [
    {
     "name": "stdout",
     "output_type": "stream",
     "text": [
      "Hackathons Missing Values Count:\n",
      "Criteria               40\n",
      "Prizes                 50\n",
      "Title                   1\n",
      "Location              157\n",
      "start_date           1128\n",
      "themes               4319\n",
      "organization_name    5088\n",
      "dtype: int64\n",
      "\n",
      "Participants Missing Values Count:\n",
      "skills       182\n",
      "url       280473\n",
      "dtype: int64\n",
      "\n",
      "Participant_links Missing Values Count:\n",
      "website      108960\n",
      "github       106011\n",
      "twitter      179342\n",
      "address       38252\n",
      "skills        40265\n",
      "interests     99880\n",
      "dtype: int64\n",
      "\n",
      "Projects Missing Values Count:\n",
      "github_links              145720\n",
      "participants                5479\n",
      "build_with                 19447\n",
      "repo                           2\n",
      "submitted_to_hacks_num      3485\n",
      "dtype: int64\n"
     ]
    }
   ],
   "source": [
    "# Function to display count of missing values for each column in a given dataframe\n",
    "def print_missing_values_count(df):\n",
    "    missing_values_count = df.isnull().sum()\n",
    "    print(missing_values_count[missing_values_count > 0])\n",
    "\n",
    "# Display count of missing values for each column in the 'hackathons' dataframe\n",
    "print(\"Hackathons Missing Values Count:\")\n",
    "print_missing_values_count(hackathons)\n",
    "\n",
    "print(\"\\nParticipants Missing Values Count:\")\n",
    "print_missing_values_count(participants)\n",
    "\n",
    "print(\"\\nParticipant_links Missing Values Count:\")\n",
    "print_missing_values_count(participants_links)\n",
    "\n",
    "print(\"\\nProjects Missing Values Count:\")\n",
    "print_missing_values_count(projects)"
   ]
  },
  {
   "cell_type": "code",
   "execution_count": 10,
   "metadata": {
    "ExecuteTime": {
     "end_time": "2024-03-14T07:28:57.314214Z",
     "start_time": "2024-03-14T07:28:57.312304Z"
    }
   },
   "outputs": [],
   "source": [
    "# Function to display columns with missing values for a given dataframe\n",
    "def print_columns_with_missing_values(df):\n",
    "    columns_with_missing_values = df.columns[df.isnull().any()]\n",
    "    print(df[columns_with_missing_values])"
   ]
  },
  {
   "cell_type": "markdown",
   "metadata": {},
   "source": [
    "Prints the **all the rows** for the columns that contain **at least one missing value.**"
   ]
  },
  {
   "cell_type": "code",
   "execution_count": 11,
   "metadata": {
    "ExecuteTime": {
     "end_time": "2024-03-14T07:28:57.338698Z",
     "start_time": "2024-03-14T07:28:57.327838Z"
    }
   },
   "outputs": [
    {
     "name": "stdout",
     "output_type": "stream",
     "text": [
      "Hackathons Rows with Missing Values:\n",
      "                                               Criteria  \\\n",
      "0     Gesellschaftlicher Mehrwert, Innovationsgrad, ...   \n",
      "1     Potential impact of the project, Technical exe...   \n",
      "2     X Factor and Potential, Technical Competence, ...   \n",
      "3     Design           |             التصميم, Simpli...   \n",
      "4     User Experience / User Interface, Originality ...   \n",
      "...                                                 ...   \n",
      "7048                                              biden   \n",
      "7049                   Criteria 1, Criteria 1, criteria   \n",
      "7050                                                TBA   \n",
      "7051                                              biden   \n",
      "7052                                     Firts criteria   \n",
      "\n",
      "                                                 Prizes  \\\n",
      "0     Euer Preis ist Anerkennung und Ehre!, Habt Spa...   \n",
      "1                                        Overall Winner   \n",
      "2     SocialFi - 1ST PLACE, SocialFi - 2ND PLACE, So...   \n",
      "3     1st place: 1 million Saudi Riyal (15% equity i...   \n",
      "4     Chainlink Grand Prize - $40,000, Chainlink NFT...   \n",
      "...                                                 ...   \n",
      "7048                                         cash value   \n",
      "7049               1st place, 2nd place, 3rd place, 4nd   \n",
      "7050                                                TBA   \n",
      "7051                                      Thailand cash   \n",
      "7052                                                  1   \n",
      "\n",
      "                                Title  \\\n",
      "0                        #WirVsVirus    \n",
      "1                     The Global Hack   \n",
      "2                          Supernova    \n",
      "3                      Hajj Hackathon   \n",
      "4     Chainlink Spring 2022 Hackathon   \n",
      "...                               ...   \n",
      "7048                   CheckInProject   \n",
      "7049         AI Apps - Hackathon 2021   \n",
      "7050                        Old Hacks   \n",
      "7051                Thailand champion   \n",
      "7052                Manager Hackathon   \n",
      "\n",
      "                                               Location start_date  \\\n",
      "0                                                Online    Mar 20    \n",
      "1                                                Online    Apr 03    \n",
      "2                                                Online    May 10    \n",
      "3     Jeddah International Exhibition & Convention C...    Aug 01    \n",
      "4                                                Online    Apr 22    \n",
      "...                                                 ...        ...   \n",
      "7048                                           Thái Lan        NaN   \n",
      "7049                                             Online        NaN   \n",
      "7050                                    Quận 2, Vietnam        NaN   \n",
      "7051                                           Thái Lan        NaN   \n",
      "7052                                           Việt Nam        NaN   \n",
      "\n",
      "                                      themes  \\\n",
      "0                      Social Good, COVID-19   \n",
      "1                                   COVID-19   \n",
      "2        Social Good, Blockchain, Open Ended   \n",
      "3                                        NaN   \n",
      "4                   Blockchain, Web, Fintech   \n",
      "...                                      ...   \n",
      "7048                            Voice skills   \n",
      "7049  AR/VR, Machine Learning/AI, Open Ended   \n",
      "7050                              Open Ended   \n",
      "7051                            Voice skills   \n",
      "7052                            Voice skills   \n",
      "\n",
      "                             organization_name  \n",
      "0                                          NaN  \n",
      "1                                          NaN  \n",
      "2                           DFINITY Foundation  \n",
      "3                                          NaN  \n",
      "4                               Chainlink Labs  \n",
      "...                                        ...  \n",
      "7048                             ACM Monterrey  \n",
      "7049                            Dong Trinh LTD  \n",
      "7050                            Hackers Galore  \n",
      "7051  Screen Composers Guild of Canada & SOCAN  \n",
      "7052                        Girls Who Code UVA  \n",
      "\n",
      "[7053 rows x 7 columns]\n"
     ]
    }
   ],
   "source": [
    "# Display columns with missing values for each dataframe\n",
    "print(\"Hackathons Rows with Missing Values:\")\n",
    "print_columns_with_missing_values(hackathons)"
   ]
  },
  {
   "cell_type": "code",
   "execution_count": 12,
   "metadata": {
    "ExecuteTime": {
     "end_time": "2024-03-14T07:28:57.468201Z",
     "start_time": "2024-03-14T07:28:57.333833Z"
    }
   },
   "outputs": [
    {
     "name": "stdout",
     "output_type": "stream",
     "text": [
      "\n",
      "Participants Rows with Missing Values:\n",
      "                                                   skills  \\\n",
      "0                        solidity, python, react, node.js   \n",
      "1                  solidity, brownie, python, react, web3   \n",
      "2                                        python, solidity   \n",
      "3       solidity, hardhat, thegraph, typechain, typesc...   \n",
      "4                                                  python   \n",
      "...                                                   ...   \n",
      "282272                            javascript, python, c++   \n",
      "282273                     ios, cocoapods, swift, ibeacon   \n",
      "282274                                                Nan   \n",
      "282275  android, python, verilog, c, c++, kernel, brow...   \n",
      "282276                                      stanning-day6   \n",
      "\n",
      "                                   url  \n",
      "0         https://devpost.com/0x1NotMe  \n",
      "1       https://devpost.com/0xBumstead  \n",
      "2         https://devpost.com/0xNuggan  \n",
      "3       https://devpost.com/0xTimepunk  \n",
      "4          https://devpost.com/0xaaash  \n",
      "...                                ...  \n",
      "282272                             NaN  \n",
      "282273                             NaN  \n",
      "282274                             NaN  \n",
      "282275                             NaN  \n",
      "282276                             NaN  \n",
      "\n",
      "[282277 rows x 2 columns]\n"
     ]
    }
   ],
   "source": [
    "print(\"\\nParticipants Rows with Missing Values:\")\n",
    "print_columns_with_missing_values(participants)"
   ]
  },
  {
   "cell_type": "code",
   "execution_count": 13,
   "metadata": {
    "ExecuteTime": {
     "end_time": "2024-03-14T07:28:57.605822Z",
     "start_time": "2024-03-14T07:28:57.469140Z"
    }
   },
   "outputs": [
    {
     "name": "stdout",
     "output_type": "stream",
     "text": [
      "\n",
      "Participants Rows with Missing Values:\n",
      "                                                   skills  \\\n",
      "0                        solidity, python, react, node.js   \n",
      "1                  solidity, brownie, python, react, web3   \n",
      "2                                        python, solidity   \n",
      "3       solidity, hardhat, thegraph, typechain, typesc...   \n",
      "4                                                  python   \n",
      "...                                                   ...   \n",
      "282272                            javascript, python, c++   \n",
      "282273                     ios, cocoapods, swift, ibeacon   \n",
      "282274                                                Nan   \n",
      "282275  android, python, verilog, c, c++, kernel, brow...   \n",
      "282276                                      stanning-day6   \n",
      "\n",
      "                                   url  \n",
      "0         https://devpost.com/0x1NotMe  \n",
      "1       https://devpost.com/0xBumstead  \n",
      "2         https://devpost.com/0xNuggan  \n",
      "3       https://devpost.com/0xTimepunk  \n",
      "4          https://devpost.com/0xaaash  \n",
      "...                                ...  \n",
      "282272                             NaN  \n",
      "282273                             NaN  \n",
      "282274                             NaN  \n",
      "282275                             NaN  \n",
      "282276                             NaN  \n",
      "\n",
      "[282277 rows x 2 columns]\n"
     ]
    }
   ],
   "source": [
    "print(\"\\nParticipants Rows with Missing Values:\")\n",
    "print_columns_with_missing_values(participants)"
   ]
  },
  {
   "cell_type": "code",
   "execution_count": 14,
   "metadata": {
    "ExecuteTime": {
     "end_time": "2024-03-14T07:28:57.896167Z",
     "start_time": "2024-03-14T07:28:57.604905Z"
    }
   },
   "outputs": [
    {
     "name": "stdout",
     "output_type": "stream",
     "text": [
      "\n",
      "Projects Rows with Missing Values:\n",
      "                                             github_links  \\\n",
      "0       https://github.com/ICCards/faefolk, https://gi...   \n",
      "1                             https://github.com/Hls-labs   \n",
      "2                     https://github.com/stumpigit/icmaps   \n",
      "3       https://github.com/teambonsai/bonsai_dapp/blob...   \n",
      "4                                                     NaN   \n",
      "...                                                   ...   \n",
      "303675                                                NaN   \n",
      "303676                                                NaN   \n",
      "303677                                                NaN   \n",
      "303678                                                NaN   \n",
      "303679                                                NaN   \n",
      "\n",
      "                                             participants  \\\n",
      "0       https://devpost.com/RAW4RMCS, https://devpost....   \n",
      "1       https://devpost.com/Domexx, https://devpost.co...   \n",
      "2                           https://devpost.com/stumpigit   \n",
      "3       https://devpost.com/TsuDohNimhh, https://devpo...   \n",
      "4                      https://devpost.com/rusty-scrivens   \n",
      "...                                                   ...   \n",
      "303675                https://devpost.com/jamesnguyentech   \n",
      "303676                      https://devpost.com/d15neylyf   \n",
      "303677                      https://devpost.com/d15neylyf   \n",
      "303678                      https://devpost.com/d15neylyf   \n",
      "303679                      https://devpost.com/d15neylyf   \n",
      "\n",
      "                                               build_with  \\\n",
      "0                       gdscript, godot, ic, motoko, rust   \n",
      "1       after-effects, astro, figma, motoko, nextjs, r...   \n",
      "2       motoko, ogc, openlayers, openstreetmap, svelte...   \n",
      "3                                      icp, motoko, react   \n",
      "4                           css, html, javascript, motoko   \n",
      "...                                                   ...   \n",
      "303675                                         javascript   \n",
      "303676                                             heroku   \n",
      "303677                                               java   \n",
      "303678                                             heroku   \n",
      "303679                                               java   \n",
      "\n",
      "                                                     repo  \\\n",
      "0       ge5fs-qyaaa-aaaap-qam6a-cai.raw.ic0.app, ge5fs...   \n",
      "1       cdugx-tqaaa-aaaad-qct4a-cai.ic.fleek.co, cdugx...   \n",
      "2                      icmaps.org, icmaps.org, icmaps.org   \n",
      "3       3ezq7-iqaaa-aaaal-aaacq-cai.raw.ic0.app, 3ezq7...   \n",
      "4       k4iro-6yaaa-aaaai-aboza-cai.raw.ic0.app, k4iro...   \n",
      "...                                                   ...   \n",
      "303675                                                Nan   \n",
      "303676                                                Nan   \n",
      "303677                                                Nan   \n",
      "303678                                                Nan   \n",
      "303679                                                Nan   \n",
      "\n",
      "        submitted_to_hacks_num  \n",
      "0                          1.0  \n",
      "1                          1.0  \n",
      "2                          1.0  \n",
      "3                          1.0  \n",
      "4                          1.0  \n",
      "...                        ...  \n",
      "303675                     1.0  \n",
      "303676                     1.0  \n",
      "303677                     1.0  \n",
      "303678                     1.0  \n",
      "303679                     1.0  \n",
      "\n",
      "[303680 rows x 5 columns]\n"
     ]
    }
   ],
   "source": [
    "print(\"\\nProjects Rows with Missing Values:\")\n",
    "print_columns_with_missing_values(projects)"
   ]
  },
  {
   "cell_type": "markdown",
   "metadata": {},
   "source": [
    "Now need to figure out how to handle the missing values for columns that are most relevant to examining the impact of diversity initiatives found."
   ]
  },
  {
   "cell_type": "markdown",
   "metadata": {},
   "source": [
    "### Handling missing data in hackathon df"
   ]
  },
  {
   "cell_type": "markdown",
   "metadata": {},
   "source": [
    "From the hackathon df, these are the columns I think are most relevant for examining the impact of diversity initiatives: 'hack_type', 'start_date_format', 'end_date_format', 'prize_money', ‘themes', 'registered_N', 'organization_name'\n"
   ]
  },
  {
   "cell_type": "code",
   "execution_count": 15,
   "metadata": {
    "ExecuteTime": {
     "end_time": "2024-03-14T07:28:57.929872Z",
     "start_time": "2024-03-14T07:28:57.902897Z"
    }
   },
   "outputs": [
    {
     "name": "stdout",
     "output_type": "stream",
     "text": [
      "Number of missing values in 'hack_type': 0\n",
      "Number of missing values in 'start_date_format': 0\n",
      "Number of missing values in 'end_date_format': 0\n",
      "Number of missing values in 'prize_money': 0\n",
      "Number of missing values in 'themes': 4319\n",
      "Number of missing values in 'registered_N': 0\n",
      "Number of missing values in 'organization_name': 5088\n"
     ]
    }
   ],
   "source": [
    "# Check for missing values in the 'hack_type' column\n",
    "print(f\"Number of missing values in 'hack_type': {hackathons['hack_type'].isnull().sum()}\")\n",
    "\n",
    "# Check for missing values in the 'start_date_format' column\n",
    "print(f\"Number of missing values in 'start_date_format': {hackathons['start_date_format'].isnull().sum()}\")\n",
    "\n",
    "# Check for missing values in the 'end_date_format' column\n",
    "print(f\"Number of missing values in 'end_date_format': {hackathons['end_date_format'].isnull().sum()}\")\n",
    "\n",
    "# Check for missing values in the 'prize_money' column\n",
    "print(f\"Number of missing values in 'prize_money': {hackathons['prize_money'].isnull().sum()}\")\n",
    "\n",
    "# Check for missing values in the 'themes' column\n",
    "print(f\"Number of missing values in 'themes': {hackathons['themes'].isnull().sum()}\")\n",
    "\n",
    "# Check for missing values in the 'registered_N' column\n",
    "print(f\"Number of missing values in 'registered_N': {hackathons['registered_N'].isnull().sum()}\")\n",
    "\n",
    "# Check for missing values in the 'organization_name' column\n",
    "print(f\"Number of missing values in 'organization_name': {hackathons['organization_name'].isnull().sum()}\")"
   ]
  },
  {
   "cell_type": "markdown",
   "metadata": {},
   "source": [
    "Thus, we need to handle missing values only for columns 'themes' and 'organizational_name'.\n",
    "Imputing 'Not specified' in the places where missing values were previously present in the 'themes' and 'organization_name' columns. **If organization_name is important, then we can even try to mine the df (maybe using the title and URL column) to find out the organisation name.**"
   ]
  },
  {
   "cell_type": "code",
   "execution_count": 16,
   "metadata": {
    "ExecuteTime": {
     "end_time": "2024-03-14T07:28:57.930756Z",
     "start_time": "2024-03-14T07:28:57.910417Z"
    }
   },
   "outputs": [
    {
     "data": {
      "text/html": [
       "<div>\n",
       "<style scoped>\n",
       "    .dataframe tbody tr th:only-of-type {\n",
       "        vertical-align: middle;\n",
       "    }\n",
       "\n",
       "    .dataframe tbody tr th {\n",
       "        vertical-align: top;\n",
       "    }\n",
       "\n",
       "    .dataframe thead th {\n",
       "        text-align: right;\n",
       "    }\n",
       "</style>\n",
       "<table border=\"1\" class=\"dataframe\">\n",
       "  <thead>\n",
       "    <tr style=\"text-align: right;\">\n",
       "      <th></th>\n",
       "      <th>themes</th>\n",
       "      <th>organization_name</th>\n",
       "    </tr>\n",
       "  </thead>\n",
       "  <tbody>\n",
       "    <tr>\n",
       "      <th>0</th>\n",
       "      <td>Social Good, COVID-19</td>\n",
       "      <td>Not Specified</td>\n",
       "    </tr>\n",
       "    <tr>\n",
       "      <th>1</th>\n",
       "      <td>COVID-19</td>\n",
       "      <td>Not Specified</td>\n",
       "    </tr>\n",
       "    <tr>\n",
       "      <th>2</th>\n",
       "      <td>Social Good, Blockchain, Open Ended</td>\n",
       "      <td>DFINITY Foundation</td>\n",
       "    </tr>\n",
       "    <tr>\n",
       "      <th>3</th>\n",
       "      <td>Not Specified</td>\n",
       "      <td>Not Specified</td>\n",
       "    </tr>\n",
       "    <tr>\n",
       "      <th>4</th>\n",
       "      <td>Blockchain, Web, Fintech</td>\n",
       "      <td>Chainlink Labs</td>\n",
       "    </tr>\n",
       "    <tr>\n",
       "      <th>...</th>\n",
       "      <td>...</td>\n",
       "      <td>...</td>\n",
       "    </tr>\n",
       "    <tr>\n",
       "      <th>7048</th>\n",
       "      <td>Voice skills</td>\n",
       "      <td>ACM Monterrey</td>\n",
       "    </tr>\n",
       "    <tr>\n",
       "      <th>7049</th>\n",
       "      <td>AR/VR, Machine Learning/AI, Open Ended</td>\n",
       "      <td>Dong Trinh LTD</td>\n",
       "    </tr>\n",
       "    <tr>\n",
       "      <th>7050</th>\n",
       "      <td>Open Ended</td>\n",
       "      <td>Hackers Galore</td>\n",
       "    </tr>\n",
       "    <tr>\n",
       "      <th>7051</th>\n",
       "      <td>Voice skills</td>\n",
       "      <td>Screen Composers Guild of Canada &amp; SOCAN</td>\n",
       "    </tr>\n",
       "    <tr>\n",
       "      <th>7052</th>\n",
       "      <td>Voice skills</td>\n",
       "      <td>Girls Who Code UVA</td>\n",
       "    </tr>\n",
       "  </tbody>\n",
       "</table>\n",
       "<p>7053 rows × 2 columns</p>\n",
       "</div>"
      ],
      "text/plain": [
       "                                      themes  \\\n",
       "0                      Social Good, COVID-19   \n",
       "1                                   COVID-19   \n",
       "2        Social Good, Blockchain, Open Ended   \n",
       "3                              Not Specified   \n",
       "4                   Blockchain, Web, Fintech   \n",
       "...                                      ...   \n",
       "7048                            Voice skills   \n",
       "7049  AR/VR, Machine Learning/AI, Open Ended   \n",
       "7050                              Open Ended   \n",
       "7051                            Voice skills   \n",
       "7052                            Voice skills   \n",
       "\n",
       "                             organization_name  \n",
       "0                                Not Specified  \n",
       "1                                Not Specified  \n",
       "2                           DFINITY Foundation  \n",
       "3                                Not Specified  \n",
       "4                               Chainlink Labs  \n",
       "...                                        ...  \n",
       "7048                             ACM Monterrey  \n",
       "7049                            Dong Trinh LTD  \n",
       "7050                            Hackers Galore  \n",
       "7051  Screen Composers Guild of Canada & SOCAN  \n",
       "7052                        Girls Who Code UVA  \n",
       "\n",
       "[7053 rows x 2 columns]"
      ]
     },
     "execution_count": 16,
     "metadata": {},
     "output_type": "execute_result"
    }
   ],
   "source": [
    "# Imputation with a Neutral Theme\n",
    "hackathons['themes'].fillna(value='Not Specified', inplace=True)\n",
    "\n",
    "# Imputation with \"Not Specified\"\n",
    "hackathons['organization_name'].fillna(value='Not Specified', inplace=True)\n",
    "\n",
    "hackathons[['themes','organization_name']]"
   ]
  },
  {
   "cell_type": "markdown",
   "metadata": {},
   "source": [
    "### Handling missing data in participants df"
   ]
  },
  {
   "cell_type": "markdown",
   "metadata": {},
   "source": [
    "From the participants df, these are the columns I think are most relevant for examining the impact of diversity initiatives: ‘skills’, ‘country’\n"
   ]
  },
  {
   "cell_type": "code",
   "execution_count": 17,
   "metadata": {
    "ExecuteTime": {
     "end_time": "2024-03-14T07:28:57.938429Z",
     "start_time": "2024-03-14T07:28:57.925634Z"
    }
   },
   "outputs": [
    {
     "name": "stdout",
     "output_type": "stream",
     "text": [
      "Number of missing values in 'skills': 182\n",
      "Number of missing values in 'country': 0\n"
     ]
    }
   ],
   "source": [
    "# Check for missing values in the 'skills' column\n",
    "print(f\"Number of missing values in 'skills': {participants['skills'].isnull().sum()}\")\n",
    "\n",
    "# Check for missing values in the 'country' column\n",
    "print(f\"Number of missing values in 'country': {participants['country'].isnull().sum()}\")"
   ]
  },
  {
   "cell_type": "markdown",
   "metadata": {},
   "source": [
    "Thus, we need to handle missing values only from column 'skills'.\n",
    "Given that only 182 out of 282,277 rows have missing values in the 'skills' column, it's a reasonable option to consider dropping those rows. When the number of missing values is relatively small compared to the overall size of the dataset, and it doesn't significantly impact the analysis.\n"
   ]
  },
  {
   "cell_type": "code",
   "execution_count": 18,
   "metadata": {
    "ExecuteTime": {
     "end_time": "2024-03-14T07:28:58.022714Z",
     "start_time": "2024-03-14T07:28:57.966455Z"
    }
   },
   "outputs": [
    {
     "data": {
      "text/html": [
       "<div>\n",
       "<style scoped>\n",
       "    .dataframe tbody tr th:only-of-type {\n",
       "        vertical-align: middle;\n",
       "    }\n",
       "\n",
       "    .dataframe tbody tr th {\n",
       "        vertical-align: top;\n",
       "    }\n",
       "\n",
       "    .dataframe thead th {\n",
       "        text-align: right;\n",
       "    }\n",
       "</style>\n",
       "<table border=\"1\" class=\"dataframe\">\n",
       "  <thead>\n",
       "    <tr style=\"text-align: right;\">\n",
       "      <th></th>\n",
       "      <th>skills</th>\n",
       "      <th>country</th>\n",
       "    </tr>\n",
       "  </thead>\n",
       "  <tbody>\n",
       "    <tr>\n",
       "      <th>0</th>\n",
       "      <td>solidity, python, react, node.js</td>\n",
       "      <td>Sydney, New South Wales, Australia</td>\n",
       "    </tr>\n",
       "    <tr>\n",
       "      <th>1</th>\n",
       "      <td>solidity, brownie, python, react, web3</td>\n",
       "      <td>Francja</td>\n",
       "    </tr>\n",
       "    <tr>\n",
       "      <th>2</th>\n",
       "      <td>python, solidity</td>\n",
       "      <td>Germany</td>\n",
       "    </tr>\n",
       "    <tr>\n",
       "      <th>3</th>\n",
       "      <td>solidity, hardhat, thegraph, typechain, typesc...</td>\n",
       "      <td>Portugal</td>\n",
       "    </tr>\n",
       "    <tr>\n",
       "      <th>4</th>\n",
       "      <td>python</td>\n",
       "      <td>中国</td>\n",
       "    </tr>\n",
       "    <tr>\n",
       "      <th>...</th>\n",
       "      <td>...</td>\n",
       "      <td>...</td>\n",
       "    </tr>\n",
       "    <tr>\n",
       "      <th>282272</th>\n",
       "      <td>javascript, python, c++</td>\n",
       "      <td>Houston, Texas, United States</td>\n",
       "    </tr>\n",
       "    <tr>\n",
       "      <th>282273</th>\n",
       "      <td>ios, cocoapods, swift, ibeacon</td>\n",
       "      <td>Berlin, Berlin, Germany</td>\n",
       "    </tr>\n",
       "    <tr>\n",
       "      <th>282274</th>\n",
       "      <td>Nan</td>\n",
       "      <td>Montreal, Quebec, Canada</td>\n",
       "    </tr>\n",
       "    <tr>\n",
       "      <th>282275</th>\n",
       "      <td>android, python, verilog, c, c++, kernel, brow...</td>\n",
       "      <td>Irvine, California, United States</td>\n",
       "    </tr>\n",
       "    <tr>\n",
       "      <th>282276</th>\n",
       "      <td>stanning-day6</td>\n",
       "      <td>Ottawa, Ontario, Canada</td>\n",
       "    </tr>\n",
       "  </tbody>\n",
       "</table>\n",
       "<p>282095 rows × 2 columns</p>\n",
       "</div>"
      ],
      "text/plain": [
       "                                                   skills  \\\n",
       "0                        solidity, python, react, node.js   \n",
       "1                  solidity, brownie, python, react, web3   \n",
       "2                                        python, solidity   \n",
       "3       solidity, hardhat, thegraph, typechain, typesc...   \n",
       "4                                                  python   \n",
       "...                                                   ...   \n",
       "282272                            javascript, python, c++   \n",
       "282273                     ios, cocoapods, swift, ibeacon   \n",
       "282274                                                Nan   \n",
       "282275  android, python, verilog, c, c++, kernel, brow...   \n",
       "282276                                      stanning-day6   \n",
       "\n",
       "                                   country  \n",
       "0       Sydney, New South Wales, Australia  \n",
       "1                                  Francja  \n",
       "2                                  Germany  \n",
       "3                                 Portugal  \n",
       "4                                       中国  \n",
       "...                                    ...  \n",
       "282272       Houston, Texas, United States  \n",
       "282273             Berlin, Berlin, Germany  \n",
       "282274            Montreal, Quebec, Canada  \n",
       "282275   Irvine, California, United States  \n",
       "282276             Ottawa, Ontario, Canada  \n",
       "\n",
       "[282095 rows x 2 columns]"
      ]
     },
     "execution_count": 18,
     "metadata": {},
     "output_type": "execute_result"
    }
   ],
   "source": [
    "# Drop rows with missing values in the 'skills' column\n",
    "participants.dropna(subset=['skills'], inplace=True)\n",
    "\n",
    "participants[['skills','country']]"
   ]
  },
  {
   "cell_type": "markdown",
   "metadata": {},
   "source": [
    "### Handling missing data in participants_links df"
   ]
  },
  {
   "cell_type": "markdown",
   "metadata": {},
   "source": [
    "From the participants_links df, these are the columns I think are most relevant for examining the impact of diversity initiatives: ‘url’, ‘website’, ‘github’"
   ]
  },
  {
   "cell_type": "code",
   "execution_count": 19,
   "metadata": {
    "ExecuteTime": {
     "end_time": "2024-03-14T07:28:58.036517Z",
     "start_time": "2024-03-14T07:28:58.001092Z"
    }
   },
   "outputs": [
    {
     "name": "stdout",
     "output_type": "stream",
     "text": [
      "Number of missing values in 'url': 0\n",
      "Number of missing values in 'website': 108960\n",
      "Number of missing values in 'github': 106011\n"
     ]
    }
   ],
   "source": [
    "# Check for missing values in the 'url' column\n",
    "print(f\"Number of missing values in 'url': {participants_links['url'].isnull().sum()}\")\n",
    "\n",
    "# Check for missing values in the 'website' column\n",
    "print(f\"Number of missing values in 'website': {participants_links['website'].isnull().sum()}\")\n",
    "\n",
    "# Check for missing values in the 'github' column\n",
    "print(f\"Number of missing values in 'github': {participants_links['github'].isnull().sum()}\")"
   ]
  },
  {
   "cell_type": "code",
   "execution_count": 20,
   "metadata": {
    "ExecuteTime": {
     "end_time": "2024-03-14T07:28:58.100477Z",
     "start_time": "2024-03-14T07:28:58.024862Z"
    }
   },
   "outputs": [
    {
     "data": {
      "text/html": [
       "<div>\n",
       "<style scoped>\n",
       "    .dataframe tbody tr th:only-of-type {\n",
       "        vertical-align: middle;\n",
       "    }\n",
       "\n",
       "    .dataframe tbody tr th {\n",
       "        vertical-align: top;\n",
       "    }\n",
       "\n",
       "    .dataframe thead th {\n",
       "        text-align: right;\n",
       "    }\n",
       "</style>\n",
       "<table border=\"1\" class=\"dataframe\">\n",
       "  <thead>\n",
       "    <tr style=\"text-align: right;\">\n",
       "      <th></th>\n",
       "      <th>url</th>\n",
       "      <th>website</th>\n",
       "      <th>github</th>\n",
       "    </tr>\n",
       "  </thead>\n",
       "  <tbody>\n",
       "    <tr>\n",
       "      <th>0</th>\n",
       "      <td>https://devpost.com/CraigHiller</td>\n",
       "      <td>Not Specified</td>\n",
       "      <td>Not Specified</td>\n",
       "    </tr>\n",
       "    <tr>\n",
       "      <th>1</th>\n",
       "      <td>https://devpost.com/asheleby</td>\n",
       "      <td>Not Specified</td>\n",
       "      <td>Not Specified</td>\n",
       "    </tr>\n",
       "    <tr>\n",
       "      <th>2</th>\n",
       "      <td>https://devpost.com/evanho239</td>\n",
       "      <td>Not Specified</td>\n",
       "      <td>Not Specified</td>\n",
       "    </tr>\n",
       "    <tr>\n",
       "      <th>3</th>\n",
       "      <td>https://devpost.com/mag97palacios</td>\n",
       "      <td>Not Specified</td>\n",
       "      <td>Not Specified</td>\n",
       "    </tr>\n",
       "    <tr>\n",
       "      <th>4</th>\n",
       "      <td>https://devpost.com/vivekvjk2020</td>\n",
       "      <td>https://github.com/vivekvjk</td>\n",
       "      <td>https://github.com/vivekvjk</td>\n",
       "    </tr>\n",
       "    <tr>\n",
       "      <th>...</th>\n",
       "      <td>...</td>\n",
       "      <td>...</td>\n",
       "      <td>...</td>\n",
       "    </tr>\n",
       "    <tr>\n",
       "      <th>191633</th>\n",
       "      <td>https://devpost.com/amulyagarimella</td>\n",
       "      <td>https://amulyagarimella.github.io/</td>\n",
       "      <td>https://github.com/amulyagarimella</td>\n",
       "    </tr>\n",
       "    <tr>\n",
       "      <th>191634</th>\n",
       "      <td>https://devpost.com/hiennguyen</td>\n",
       "      <td>Not Specified</td>\n",
       "      <td>https://github.com/HienNguyen</td>\n",
       "    </tr>\n",
       "    <tr>\n",
       "      <th>191635</th>\n",
       "      <td>https://devpost.com/daironrodriguez</td>\n",
       "      <td>https://github.com/daironrodriguez</td>\n",
       "      <td>https://github.com/daironrodriguez</td>\n",
       "    </tr>\n",
       "    <tr>\n",
       "      <th>191636</th>\n",
       "      <td>https://devpost.com/brentmin</td>\n",
       "      <td>https://github.com/brentmin</td>\n",
       "      <td>https://github.com/brentmin</td>\n",
       "    </tr>\n",
       "    <tr>\n",
       "      <th>191637</th>\n",
       "      <td>https://devpost.com/JoaquinMelara</td>\n",
       "      <td>Not Specified</td>\n",
       "      <td>Not Specified</td>\n",
       "    </tr>\n",
       "  </tbody>\n",
       "</table>\n",
       "<p>191638 rows × 3 columns</p>\n",
       "</div>"
      ],
      "text/plain": [
       "                                        url  \\\n",
       "0           https://devpost.com/CraigHiller   \n",
       "1              https://devpost.com/asheleby   \n",
       "2             https://devpost.com/evanho239   \n",
       "3         https://devpost.com/mag97palacios   \n",
       "4          https://devpost.com/vivekvjk2020   \n",
       "...                                     ...   \n",
       "191633  https://devpost.com/amulyagarimella   \n",
       "191634       https://devpost.com/hiennguyen   \n",
       "191635  https://devpost.com/daironrodriguez   \n",
       "191636         https://devpost.com/brentmin   \n",
       "191637    https://devpost.com/JoaquinMelara   \n",
       "\n",
       "                                   website                              github  \n",
       "0                            Not Specified                       Not Specified  \n",
       "1                            Not Specified                       Not Specified  \n",
       "2                            Not Specified                       Not Specified  \n",
       "3                            Not Specified                       Not Specified  \n",
       "4              https://github.com/vivekvjk         https://github.com/vivekvjk  \n",
       "...                                    ...                                 ...  \n",
       "191633  https://amulyagarimella.github.io/  https://github.com/amulyagarimella  \n",
       "191634                       Not Specified       https://github.com/HienNguyen  \n",
       "191635  https://github.com/daironrodriguez  https://github.com/daironrodriguez  \n",
       "191636         https://github.com/brentmin         https://github.com/brentmin  \n",
       "191637                       Not Specified                       Not Specified  \n",
       "\n",
       "[191638 rows x 3 columns]"
      ]
     },
     "execution_count": 20,
     "metadata": {},
     "output_type": "execute_result"
    }
   ],
   "source": [
    "# Imputation with \"Not Specified\" for 'website'\n",
    "participants_links['website'].fillna(value='Not Specified', inplace=True)\n",
    "\n",
    "# Imputation with \"Not Specified\" for 'github'\n",
    "participants_links['github'].fillna(value='Not Specified', inplace=True)\n",
    "\n",
    "participants_links[['url','website','github']]"
   ]
  },
  {
   "cell_type": "code",
   "execution_count": 21,
   "metadata": {
    "ExecuteTime": {
     "end_time": "2024-03-14T07:28:58.100670Z",
     "start_time": "2024-03-14T07:28:58.054855Z"
    }
   },
   "outputs": [],
   "source": [
    "# Create a binary indicator column for missing 'github'\n",
    "participants_links['github_missing'] = participants_links['github'].isnull().astype(int)"
   ]
  },
  {
   "cell_type": "markdown",
   "metadata": {},
   "source": [
    "### Handling missing data in projects df"
   ]
  },
  {
   "cell_type": "markdown",
   "metadata": {},
   "source": [
    "From the projects df, these are the columns I think are most relevant for examining the impact of diversity initiatives: ‘github_links’, ‘participants_num’, ‘build_with’\n"
   ]
  },
  {
   "cell_type": "code",
   "execution_count": 22,
   "metadata": {
    "ExecuteTime": {
     "end_time": "2024-03-14T07:28:58.170280Z",
     "start_time": "2024-03-14T07:28:58.068964Z"
    }
   },
   "outputs": [
    {
     "name": "stdout",
     "output_type": "stream",
     "text": [
      "Number of missing values in 'url': 145720\n",
      "Number of missing values in 'participants': 5479\n",
      "Number of missing values in 'participants_num': 0\n",
      "Number of missing values in 'build_with': 19447\n"
     ]
    }
   ],
   "source": [
    "# Check for missing values in the 'github_links' column\n",
    "print(f\"Number of missing values in 'url': {projects['github_links'].isnull().sum()}\")\n",
    "\n",
    "# Check for missing values in the 'participants' column\n",
    "print(f\"Number of missing values in 'participants': {projects['participants'].isnull().sum()}\")\n",
    "\n",
    "# Check for missing values in the 'participants_num' column\n",
    "print(f\"Number of missing values in 'participants_num': {projects['participants_num'].isnull().sum()}\")\n",
    "\n",
    "# Check for missing values in the 'build_with' column\n",
    "print(f\"Number of missing values in 'build_with': {projects['build_with'].isnull().sum()}\")"
   ]
  },
  {
   "cell_type": "markdown",
   "metadata": {},
   "source": [
    "Thus, need to handle missing values only for columns 'url', 'participants', 'build_with'"
   ]
  },
  {
   "cell_type": "code",
   "execution_count": 23,
   "metadata": {
    "ExecuteTime": {
     "end_time": "2024-03-14T07:28:58.252263Z",
     "start_time": "2024-03-14T07:28:58.111512Z"
    }
   },
   "outputs": [],
   "source": [
    "# Imputation with \"Not Specified\" for 'github_links'\n",
    "projects['github_links'].fillna(value='Not Specified', inplace=True)\n",
    "\n",
    "# Imputation with \"Not Specified\" for 'build_with'\n",
    "projects['build_with'].fillna(value='Not Specified', inplace=True)"
   ]
  },
  {
   "cell_type": "code",
   "execution_count": 24,
   "metadata": {
    "ExecuteTime": {
     "end_time": "2024-03-14T07:28:58.252963Z",
     "start_time": "2024-03-14T07:28:58.140765Z"
    }
   },
   "outputs": [
    {
     "data": {
      "text/html": [
       "<div>\n",
       "<style scoped>\n",
       "    .dataframe tbody tr th:only-of-type {\n",
       "        vertical-align: middle;\n",
       "    }\n",
       "\n",
       "    .dataframe tbody tr th {\n",
       "        vertical-align: top;\n",
       "    }\n",
       "\n",
       "    .dataframe thead th {\n",
       "        text-align: right;\n",
       "    }\n",
       "</style>\n",
       "<table border=\"1\" class=\"dataframe\">\n",
       "  <thead>\n",
       "    <tr style=\"text-align: right;\">\n",
       "      <th></th>\n",
       "      <th>Unnamed: 0</th>\n",
       "      <th>submission_gal_url</th>\n",
       "      <th>project_URL</th>\n",
       "      <th>github_links</th>\n",
       "      <th>participants</th>\n",
       "      <th>participants_num</th>\n",
       "      <th>build_with</th>\n",
       "      <th>repo_link</th>\n",
       "      <th>repo</th>\n",
       "      <th>submitted_to_link</th>\n",
       "      <th>submitted_to_name</th>\n",
       "      <th>submitted_to_hacks_num</th>\n",
       "      <th>likes</th>\n",
       "      <th>comments</th>\n",
       "    </tr>\n",
       "  </thead>\n",
       "  <tbody>\n",
       "    <tr>\n",
       "      <th>15</th>\n",
       "      <td>15</td>\n",
       "      <td>https://supernova.devpost.com/project-gallery</td>\n",
       "      <td>https://devpost.com/software/minerium</td>\n",
       "      <td>https://github.com/KOSASIH/Ontics</td>\n",
       "      <td>NaN</td>\n",
       "      <td>0</td>\n",
       "      <td>css, github, html, javascript, windows</td>\n",
       "      <td>https://github.com/KOSASIH/Ontics</td>\n",
       "      <td>github.com</td>\n",
       "      <td>https://supernova.devpost.com/</td>\n",
       "      <td>Supernova</td>\n",
       "      <td>1.0</td>\n",
       "      <td>0</td>\n",
       "      <td>0</td>\n",
       "    </tr>\n",
       "    <tr>\n",
       "      <th>23</th>\n",
       "      <td>23</td>\n",
       "      <td>https://supernova.devpost.com/project-gallery</td>\n",
       "      <td>https://devpost.com/software/openchan</td>\n",
       "      <td>https://github.com/oc-ic/openchan, https://git...</td>\n",
       "      <td>NaN</td>\n",
       "      <td>0</td>\n",
       "      <td>javascript, motoko, svelte</td>\n",
       "      <td>https://github.com/oc-ic/openchan, https://git...</td>\n",
       "      <td>github.com, github.com, github.com</td>\n",
       "      <td>https://supernova.devpost.com/</td>\n",
       "      <td>Supernova</td>\n",
       "      <td>1.0</td>\n",
       "      <td>5</td>\n",
       "      <td>1</td>\n",
       "    </tr>\n",
       "    <tr>\n",
       "      <th>39</th>\n",
       "      <td>39</td>\n",
       "      <td>https://supernova.devpost.com/project-gallery</td>\n",
       "      <td>https://devpost.com/software/minerium</td>\n",
       "      <td>https://github.com/KOSASIH/Ontics</td>\n",
       "      <td>NaN</td>\n",
       "      <td>0</td>\n",
       "      <td>css, github, html, javascript, windows</td>\n",
       "      <td>https://github.com/KOSASIH/Ontics</td>\n",
       "      <td>github.com</td>\n",
       "      <td>https://supernova.devpost.com/</td>\n",
       "      <td>Supernova</td>\n",
       "      <td>1.0</td>\n",
       "      <td>0</td>\n",
       "      <td>0</td>\n",
       "    </tr>\n",
       "    <tr>\n",
       "      <th>47</th>\n",
       "      <td>47</td>\n",
       "      <td>https://supernova.devpost.com/project-gallery</td>\n",
       "      <td>https://devpost.com/software/openchan</td>\n",
       "      <td>https://github.com/oc-ic/openchan, https://git...</td>\n",
       "      <td>NaN</td>\n",
       "      <td>0</td>\n",
       "      <td>javascript, motoko, svelte</td>\n",
       "      <td>https://github.com/oc-ic/openchan, https://git...</td>\n",
       "      <td>github.com, github.com, github.com</td>\n",
       "      <td>https://supernova.devpost.com/</td>\n",
       "      <td>Supernova</td>\n",
       "      <td>1.0</td>\n",
       "      <td>5</td>\n",
       "      <td>1</td>\n",
       "    </tr>\n",
       "    <tr>\n",
       "      <th>66</th>\n",
       "      <td>66</td>\n",
       "      <td>https://supernova.devpost.com/project-gallery</td>\n",
       "      <td>https://devpost.com/software/my-status</td>\n",
       "      <td>Not Specified</td>\n",
       "      <td>NaN</td>\n",
       "      <td>0</td>\n",
       "      <td>na</td>\n",
       "      <td>Nan</td>\n",
       "      <td>Nan</td>\n",
       "      <td>https://supernova.devpost.com/</td>\n",
       "      <td>Supernova</td>\n",
       "      <td>1.0</td>\n",
       "      <td>2</td>\n",
       "      <td>2</td>\n",
       "    </tr>\n",
       "    <tr>\n",
       "      <th>...</th>\n",
       "      <td>...</td>\n",
       "      <td>...</td>\n",
       "      <td>...</td>\n",
       "      <td>...</td>\n",
       "      <td>...</td>\n",
       "      <td>...</td>\n",
       "      <td>...</td>\n",
       "      <td>...</td>\n",
       "      <td>...</td>\n",
       "      <td>...</td>\n",
       "      <td>...</td>\n",
       "      <td>...</td>\n",
       "      <td>...</td>\n",
       "      <td>...</td>\n",
       "    </tr>\n",
       "    <tr>\n",
       "      <th>303557</th>\n",
       "      <td>303557</td>\n",
       "      <td>https://eco-it-biohackathon-11439.devpost.com/...</td>\n",
       "      <td>https://devpost.com/software/soil-health-monit...</td>\n",
       "      <td>Not Specified</td>\n",
       "      <td>NaN</td>\n",
       "      <td>0</td>\n",
       "      <td>arduino</td>\n",
       "      <td>Nan</td>\n",
       "      <td>Nan</td>\n",
       "      <td>https://625001.devpost.com/, https://smartciti...</td>\n",
       "      <td>MadurAIOpenTecHackathon, 2020 Tunisian Smart C...</td>\n",
       "      <td>6.0</td>\n",
       "      <td>3</td>\n",
       "      <td>2</td>\n",
       "    </tr>\n",
       "    <tr>\n",
       "      <th>303609</th>\n",
       "      <td>303609</td>\n",
       "      <td>https://genhacks-iv.devpost.com/project-gallery</td>\n",
       "      <td>https://devpost.com/software/toureasy-tnmwpf</td>\n",
       "      <td>https://github.com/beecoder-pro/Tour-easy</td>\n",
       "      <td>NaN</td>\n",
       "      <td>0</td>\n",
       "      <td>blockchain, bootstrap, css3, data-science-tool...</td>\n",
       "      <td>https://github.com/beecoder-pro/Tour-easy</td>\n",
       "      <td>github.com</td>\n",
       "      <td>https://genhacks-iv.devpost.com/</td>\n",
       "      <td>GenHacks IV</td>\n",
       "      <td>1.0</td>\n",
       "      <td>0</td>\n",
       "      <td>0</td>\n",
       "    </tr>\n",
       "    <tr>\n",
       "      <th>303616</th>\n",
       "      <td>303616</td>\n",
       "      <td>https://genhacks-iv.devpost.com/project-gallery</td>\n",
       "      <td>https://devpost.com/software/toureasy-tnmwpf</td>\n",
       "      <td>https://github.com/beecoder-pro/Tour-easy</td>\n",
       "      <td>NaN</td>\n",
       "      <td>0</td>\n",
       "      <td>blockchain, bootstrap, css3, data-science-tool...</td>\n",
       "      <td>https://github.com/beecoder-pro/Tour-easy</td>\n",
       "      <td>github.com</td>\n",
       "      <td>https://genhacks-iv.devpost.com/</td>\n",
       "      <td>GenHacks IV</td>\n",
       "      <td>1.0</td>\n",
       "      <td>0</td>\n",
       "      <td>0</td>\n",
       "    </tr>\n",
       "    <tr>\n",
       "      <th>303658</th>\n",
       "      <td>303658</td>\n",
       "      <td>https://market-challenge-us.devpost.com/projec...</td>\n",
       "      <td>https://devpost.com/software/michael-beirne-pr...</td>\n",
       "      <td>Not Specified</td>\n",
       "      <td>NaN</td>\n",
       "      <td>0</td>\n",
       "      <td>javascript</td>\n",
       "      <td>Nan</td>\n",
       "      <td>Nan</td>\n",
       "      <td>https://market-challenge-us.devpost.com/</td>\n",
       "      <td>Market Challenge US</td>\n",
       "      <td>1.0</td>\n",
       "      <td>0</td>\n",
       "      <td>0</td>\n",
       "    </tr>\n",
       "    <tr>\n",
       "      <th>303659</th>\n",
       "      <td>303659</td>\n",
       "      <td>https://market-challenge-us.devpost.com/projec...</td>\n",
       "      <td>https://devpost.com/software/michael-beirne-pr...</td>\n",
       "      <td>Not Specified</td>\n",
       "      <td>NaN</td>\n",
       "      <td>0</td>\n",
       "      <td>javascript</td>\n",
       "      <td>Nan</td>\n",
       "      <td>Nan</td>\n",
       "      <td>https://market-challenge-us.devpost.com/</td>\n",
       "      <td>Market Challenge US</td>\n",
       "      <td>1.0</td>\n",
       "      <td>0</td>\n",
       "      <td>0</td>\n",
       "    </tr>\n",
       "  </tbody>\n",
       "</table>\n",
       "<p>5479 rows × 14 columns</p>\n",
       "</div>"
      ],
      "text/plain": [
       "        Unnamed: 0                                 submission_gal_url  \\\n",
       "15              15      https://supernova.devpost.com/project-gallery   \n",
       "23              23      https://supernova.devpost.com/project-gallery   \n",
       "39              39      https://supernova.devpost.com/project-gallery   \n",
       "47              47      https://supernova.devpost.com/project-gallery   \n",
       "66              66      https://supernova.devpost.com/project-gallery   \n",
       "...            ...                                                ...   \n",
       "303557      303557  https://eco-it-biohackathon-11439.devpost.com/...   \n",
       "303609      303609    https://genhacks-iv.devpost.com/project-gallery   \n",
       "303616      303616    https://genhacks-iv.devpost.com/project-gallery   \n",
       "303658      303658  https://market-challenge-us.devpost.com/projec...   \n",
       "303659      303659  https://market-challenge-us.devpost.com/projec...   \n",
       "\n",
       "                                              project_URL  \\\n",
       "15                  https://devpost.com/software/minerium   \n",
       "23                  https://devpost.com/software/openchan   \n",
       "39                  https://devpost.com/software/minerium   \n",
       "47                  https://devpost.com/software/openchan   \n",
       "66                 https://devpost.com/software/my-status   \n",
       "...                                                   ...   \n",
       "303557  https://devpost.com/software/soil-health-monit...   \n",
       "303609       https://devpost.com/software/toureasy-tnmwpf   \n",
       "303616       https://devpost.com/software/toureasy-tnmwpf   \n",
       "303658  https://devpost.com/software/michael-beirne-pr...   \n",
       "303659  https://devpost.com/software/michael-beirne-pr...   \n",
       "\n",
       "                                             github_links participants  \\\n",
       "15                      https://github.com/KOSASIH/Ontics          NaN   \n",
       "23      https://github.com/oc-ic/openchan, https://git...          NaN   \n",
       "39                      https://github.com/KOSASIH/Ontics          NaN   \n",
       "47      https://github.com/oc-ic/openchan, https://git...          NaN   \n",
       "66                                          Not Specified          NaN   \n",
       "...                                                   ...          ...   \n",
       "303557                                      Not Specified          NaN   \n",
       "303609          https://github.com/beecoder-pro/Tour-easy          NaN   \n",
       "303616          https://github.com/beecoder-pro/Tour-easy          NaN   \n",
       "303658                                      Not Specified          NaN   \n",
       "303659                                      Not Specified          NaN   \n",
       "\n",
       "       participants_num                                         build_with  \\\n",
       "15                    0             css, github, html, javascript, windows   \n",
       "23                    0                         javascript, motoko, svelte   \n",
       "39                    0             css, github, html, javascript, windows   \n",
       "47                    0                         javascript, motoko, svelte   \n",
       "66                    0                                                 na   \n",
       "...                 ...                                                ...   \n",
       "303557                0                                            arduino   \n",
       "303609                0  blockchain, bootstrap, css3, data-science-tool...   \n",
       "303616                0  blockchain, bootstrap, css3, data-science-tool...   \n",
       "303658                0                                         javascript   \n",
       "303659                0                                         javascript   \n",
       "\n",
       "                                                repo_link  \\\n",
       "15                      https://github.com/KOSASIH/Ontics   \n",
       "23      https://github.com/oc-ic/openchan, https://git...   \n",
       "39                      https://github.com/KOSASIH/Ontics   \n",
       "47      https://github.com/oc-ic/openchan, https://git...   \n",
       "66                                                    Nan   \n",
       "...                                                   ...   \n",
       "303557                                                Nan   \n",
       "303609          https://github.com/beecoder-pro/Tour-easy   \n",
       "303616          https://github.com/beecoder-pro/Tour-easy   \n",
       "303658                                                Nan   \n",
       "303659                                                Nan   \n",
       "\n",
       "                                      repo  \\\n",
       "15                              github.com   \n",
       "23      github.com, github.com, github.com   \n",
       "39                              github.com   \n",
       "47      github.com, github.com, github.com   \n",
       "66                                     Nan   \n",
       "...                                    ...   \n",
       "303557                                 Nan   \n",
       "303609                          github.com   \n",
       "303616                          github.com   \n",
       "303658                                 Nan   \n",
       "303659                                 Nan   \n",
       "\n",
       "                                        submitted_to_link  \\\n",
       "15                         https://supernova.devpost.com/   \n",
       "23                         https://supernova.devpost.com/   \n",
       "39                         https://supernova.devpost.com/   \n",
       "47                         https://supernova.devpost.com/   \n",
       "66                         https://supernova.devpost.com/   \n",
       "...                                                   ...   \n",
       "303557  https://625001.devpost.com/, https://smartciti...   \n",
       "303609                   https://genhacks-iv.devpost.com/   \n",
       "303616                   https://genhacks-iv.devpost.com/   \n",
       "303658           https://market-challenge-us.devpost.com/   \n",
       "303659           https://market-challenge-us.devpost.com/   \n",
       "\n",
       "                                        submitted_to_name  \\\n",
       "15                                              Supernova   \n",
       "23                                              Supernova   \n",
       "39                                              Supernova   \n",
       "47                                              Supernova   \n",
       "66                                              Supernova   \n",
       "...                                                   ...   \n",
       "303557  MadurAIOpenTecHackathon, 2020 Tunisian Smart C...   \n",
       "303609                                        GenHacks IV   \n",
       "303616                                        GenHacks IV   \n",
       "303658                                Market Challenge US   \n",
       "303659                                Market Challenge US   \n",
       "\n",
       "        submitted_to_hacks_num  likes  comments  \n",
       "15                         1.0      0         0  \n",
       "23                         1.0      5         1  \n",
       "39                         1.0      0         0  \n",
       "47                         1.0      5         1  \n",
       "66                         1.0      2         2  \n",
       "...                        ...    ...       ...  \n",
       "303557                     6.0      3         2  \n",
       "303609                     1.0      0         0  \n",
       "303616                     1.0      0         0  \n",
       "303658                     1.0      0         0  \n",
       "303659                     1.0      0         0  \n",
       "\n",
       "[5479 rows x 14 columns]"
      ]
     },
     "execution_count": 24,
     "metadata": {},
     "output_type": "execute_result"
    }
   ],
   "source": [
    " # Find rows with missing values in 'participants' column\n",
    "rows_missing_participants = projects[projects['participants'].isnull()]\n",
    "\n",
    "# Display the rows\n",
    "rows_missing_participants"
   ]
  },
  {
   "cell_type": "markdown",
   "metadata": {},
   "source": [
    "Given the observation from the output above that rows with missing values in the 'participants' column also have a corresponding value of 0 in the 'participants_num' column (which is incorrect since there cannot be 0 participants), we need to handle this inconsistency.\n",
    "\n",
    "Imputing 'participants_num' with the Average:\n",
    "This approach assumes that the average count of participants is a reasonable estimate for the missing or incorrect values. It might work well if the distribution of participants is relatively uniform across projects.\n",
    "\n",
    "Filling 'participants' with \"Not Specified\":\n",
    "Filling 'participants' with a placeholder like \"Not Specified\" is a valid choice to indicate that specific participant information is missing."
   ]
  },
  {
   "cell_type": "code",
   "execution_count": 25,
   "metadata": {
    "ExecuteTime": {
     "end_time": "2024-03-14T07:28:58.253420Z",
     "start_time": "2024-03-14T07:28:58.163390Z"
    }
   },
   "outputs": [
    {
     "name": "stdout",
     "output_type": "stream",
     "text": [
      "Unique values in 'participants_num' (ascending order): ['0', '1', '10', '11', '12', '13', '14', '15', '16', '17', '18', '19', '2', '20', '21', '22', '23', '24', '25', '26', '27', '28', '3', '30', '31', '32', '33', '34', '35', '36', '37', '38', '39', '4', '40', '41', '42', '43', '44', '46', '5', '51', '6', '64', '66', '7', '75', '8', '80', '9', 'Nan']\n",
      "0       5479\n",
      "1      96375\n",
      "10       283\n",
      "11       168\n",
      "12       182\n",
      "13        74\n",
      "14       136\n",
      "15        83\n",
      "16        55\n",
      "17        22\n",
      "18        38\n",
      "19        22\n",
      "2      57382\n",
      "20        21\n",
      "21        20\n",
      "22        15\n",
      "23        12\n",
      "24         6\n",
      "25        19\n",
      "26         9\n",
      "27         3\n",
      "28         5\n",
      "3      56718\n",
      "30         5\n",
      "31        17\n",
      "32         2\n",
      "33         4\n",
      "34         8\n",
      "35         2\n",
      "36        11\n",
      "37         4\n",
      "38         2\n",
      "39         2\n",
      "4      61963\n",
      "40         2\n",
      "41         3\n",
      "42         4\n",
      "43         2\n",
      "44         4\n",
      "46         2\n",
      "5      14971\n",
      "51         2\n",
      "6       3523\n",
      "64         4\n",
      "66         4\n",
      "7       1280\n",
      "75         2\n",
      "8        759\n",
      "80         2\n",
      "9        484\n",
      "Nan     3485\n",
      "Name: participants_num, dtype: int64\n"
     ]
    }
   ],
   "source": [
    "# Display unique values in 'participants_num' column in ascending order\n",
    "unique_participants_num_sorted = sorted(projects['participants_num'].unique())\n",
    "print(f\"Unique values in 'participants_num' (ascending order): {unique_participants_num_sorted}\")\n",
    "\n",
    "# Display frequency of each unique value in 'participants_num' column\n",
    "participants_num_frequency = projects['participants_num'].value_counts().sort_index()\n",
    "print(participants_num_frequency)"
   ]
  },
  {
   "cell_type": "markdown",
   "metadata": {},
   "source": [
    "Based on the distribution of values in the 'participants_num' column, it seems that '0' and 'Nan' are outliers and make up only 3% of the dataframe, hence, we can exclude these rows"
   ]
  },
  {
   "cell_type": "code",
   "execution_count": 26,
   "metadata": {
    "ExecuteTime": {
     "end_time": "2024-03-14T07:28:58.326676Z",
     "start_time": "2024-03-14T07:28:58.194222Z"
    }
   },
   "outputs": [
    {
     "name": "stdout",
     "output_type": "stream",
     "text": [
      "Size of Cleaned DataFrame: (294716, 14)\n"
     ]
    }
   ],
   "source": [
    "# Filter out rows with '0' in the 'participants_num' column\n",
    "projects = projects[projects['participants_num'] != '0']\n",
    "\n",
    "# Filter out rows with '0' in the 'participants_num' column\n",
    "projects = projects[projects['participants_num'] != 'Nan']\n",
    "\n",
    "# Display the size of the cleaned dataframe\n",
    "print(\"Size of Cleaned DataFrame:\", projects.shape)"
   ]
  },
  {
   "cell_type": "markdown",
   "metadata": {},
   "source": [
    "Now that the most relevant columns have been examined and handled missing values, we can move on to descriptive statistics to better undestand the data and identify scope for further exploration."
   ]
  },
  {
   "cell_type": "markdown",
   "metadata": {},
   "source": [
    "### Webscraping to add more data"
   ]
  },
  {
   "cell_type": "markdown",
   "metadata": {},
   "source": [
    "Webscraping using the column 'start_a_submission_url' to get more data on the hackathons, such as: judging criteria, judges, sponsors, tags, subtitle."
   ]
  }
 ],
 "metadata": {
  "kernelspec": {
   "display_name": "Python 3 (ipykernel)",
   "language": "python",
   "name": "python3"
  },
  "language_info": {
   "codemirror_mode": {
    "name": "ipython",
    "version": 3
   },
   "file_extension": ".py",
   "mimetype": "text/x-python",
   "name": "python",
   "nbconvert_exporter": "python",
   "pygments_lexer": "ipython3",
   "version": "3.10.9"
  }
 },
 "nbformat": 4,
 "nbformat_minor": 1
}
